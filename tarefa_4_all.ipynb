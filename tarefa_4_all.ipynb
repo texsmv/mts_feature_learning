{
 "cells": [
  {
   "cell_type": "code",
   "execution_count": 1,
   "metadata": {},
   "outputs": [],
   "source": [
    "%load_ext autoreload\n",
    "%autoreload 2\n",
    "import numpy as np\n",
    "from xgboost import XGBClassifier\n",
    "from sklearn import metrics\n",
    "import seaborn as sns\n",
    "from sklearn.discriminant_analysis import LinearDiscriminantAnalysis\n",
    "\n",
    "from source.read_open_dataset import DatasetOpenDataset, openDatasetParticipants\n",
    "from source.read_HAR_dataset import DatasetHARUML20\n",
    "from source.read_pamap2 import DatasetPAMAP2\n",
    "from source.tserie import TSerie\n",
    "from source.models.manifold.umap_fl import UMAP_FL\n",
    "from sklearn import svm\n",
    "from source.utils import MetricsSaver, saveConfusionMatrix\n",
    "\n",
    "FEATURE_SIZE = 16\n",
    "UMAP_NEIGHTBORS = 15\n",
    "N_EPOCHS = 2000\n",
    "CLASS_LABELS = ['Sedentary', 'Light']\n",
    "USE_PERSONAL_DATA = False"
   ]
  },
  {
   "cell_type": "code",
   "execution_count": 2,
   "metadata": {},
   "outputs": [],
   "source": [
    "dataset = DatasetPAMAP2(mode='leave-one-subject')\n",
    "\n",
    "signals=['handAcc16_1', 'handAcc16_2', 'handAcc16_3']\n",
    "\n",
    "info = dataset.participants_info()\n",
    "\n",
    "saver = MetricsSaver('tarefa4_no', rows = ['train', 'test'], cols=['F1-score', 'Balanced Accuracy', 'Accuracy'])"
   ]
  },
  {
   "cell_type": "code",
   "execution_count": 3,
   "metadata": {},
   "outputs": [],
   "source": [
    "while dataset.loadData():\n",
    "    dataset.filterSignals(signals)\n",
    "    \n",
    "    heights_train = np.array([\n",
    "    [info.iloc[idx - 1].Height, info.iloc[idx - 1].Weight]\n",
    "    for idx in dataset.I_train\n",
    "    ])\n",
    "    heights_test = np.array([\n",
    "        [info.iloc[idx - 1].Height, info.iloc[idx - 1].Weight]\n",
    "        for idx in dataset.I_test\n",
    "    ])\n",
    "    \n",
    "    ts_train = TSerie(dataset.X_train, dataset.Int_train)\n",
    "    ts_test = TSerie(dataset.X_test, dataset.Int_test)\n",
    "\n",
    "\n",
    "    ts_train.center()\n",
    "    ts_test.center()\n",
    "\n",
    "    ts_train.folding_features_v2()\n",
    "    ts_test.folding_features_v2()\n",
    "\n",
    "\n",
    "    model = UMAP_FL(n_components=32,n_neighbors=15, n_epochs=2000)\n",
    "    train_feat = model.fit_transform(ts_train.features, y=ts_train.y)\n",
    "    test_feat = model.transform(ts_test.features)\n",
    "    \n",
    "    \n",
    "    if USE_PERSONAL_DATA:\n",
    "        train_feat = np.concatenate([train_feat, heights_train], axis = 1)\n",
    "        test_feat = np.concatenate([test_feat, heights_test], axis = 1)\n",
    "    print(train_feat.shape)\n",
    "        \n",
    "    # clf = XGBClassifier(tree_method='gpu_hist', predictor='gpu_predictor')\n",
    "    clf = svm.SVC()\n",
    "    train_y = ts_train.y\n",
    "    test_y = ts_test.y\n",
    "    clf.fit(train_feat, train_y)\n",
    "    train_pr = clf.predict(train_feat)\n",
    "    test_pr = clf.predict(test_feat)\n",
    "    # predicted_classes.append(test_pr)\n",
    "    # real_classes.append(test_y)\n",
    "\n",
    "\n",
    "    # Save metrics\n",
    "    train_f1 = metrics.f1_score(train_y, train_pr, average='weighted')\n",
    "    test_f1 = metrics.f1_score(test_y, test_pr, average='weighted')\n",
    "    train_bacc = metrics.balanced_accuracy_score(train_y, train_pr)\n",
    "    test_bacc = metrics.balanced_accuracy_score(test_y, test_pr)\n",
    "    train_acc = metrics.accuracy_score(train_y, train_pr)\n",
    "    test_acc = metrics.accuracy_score(test_y, test_pr)\n",
    "    \n",
    "    saver.addLog('train', 'F1-score', train_f1)\n",
    "    saver.addLog('test', 'F1-score', test_f1)\n",
    "    saver.addLog('train', 'Balanced Accuracy', train_bacc)\n",
    "    saver.addLog('test', 'Balanced Accuracy', test_bacc)\n",
    "    saver.addLog('train', 'Accuracy', train_acc)\n",
    "    saver.addLog('test', 'Accuracy', test_acc)\n"
   ]
  },
  {
   "cell_type": "code",
   "execution_count": 4,
   "metadata": {},
   "outputs": [
    {
     "data": {
      "image/png": "[encoded data removed]",
      "text/plain": [
       "<Figure size 700x200 with 1 Axes>"
      ]
     },
     "metadata": {},
     "output_type": "display_data"
    }
   ],
   "source": [
    "saver.toImage()"
   ]
  }
 ],
 "metadata": {
  "kernelspec": {
   "display_name": "Python 3.10.4 ('contrastive')",
   "language": "python",
   "name": "python3"
  },
  "language_info": {
   "codemirror_mode": {
    "name": "ipython",
    "version": 3
   },
   "file_extension": ".py",
   "mimetype": "text/x-python",
   "name": "python",
   "nbconvert_exporter": "python",
   "pygments_lexer": "ipython3",
   "version": "3.10.4"
  },
  "orig_nbformat": 4,
  "vscode": {
   "interpreter": {
    "hash": "af38bbb6e377e6d688e9d49e963edf808fac73a4ecd279c84061bb0d9783d83c"
   }
  }
 },
 "nbformat": 4,
 "nbformat_minor": 2
}
