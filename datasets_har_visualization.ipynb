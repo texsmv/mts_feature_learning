{
 "cells": [
  {
   "cell_type": "code",
   "execution_count": 72,
   "metadata": {},
   "outputs": [
    {
     "name": "stdout",
     "output_type": "stream",
     "text": [
      "The autoreload extension is already loaded. To reload it, use:\n",
      "  %reload_ext autoreload\n"
     ]
    }
   ],
   "source": [
    "%load_ext autoreload\n",
    "%autoreload 2\n",
    "import numpy as np\n",
    "from source.read_HAR_dataset import DatasetHARUML20\n",
    "from source.read_pamap2 import DatasetPAMAP2\n",
    "from source.tserie import TSerie\n",
    "from source.models.manifold.umap_fl import UMAP_FL\n",
    "from sklearn import metrics\n",
    "from xgboost import XGBClassifier\n",
    "from source.utils import MetricsSaver, saveConfusionMatrix\n",
    "from sklearn.metrics import confusion_matrix, ConfusionMatrixDisplay\n",
    "from sklearn.preprocessing import LabelEncoder\n",
    "from sklearn import svm"
   ]
  },
  {
   "cell_type": "code",
   "execution_count": 73,
   "metadata": {},
   "outputs": [],
   "source": [
    "datasetName = 'PAMAP2' # PAMAP2 or HAR-UML20\n",
    "EXP_NAME = 'frequency_viz'\n",
    "FEATURE_SIZE = 32\n",
    "# CLASS_LABELS = ['Sedentary', 'Light', 'Moderate', 'Vigorous']\n",
    "UMAP_NEIGHTBORS = 20\n",
    "N_EPOCHS = 4000\n",
    "RESULTS_PATH = 'results'"
   ]
  },
  {
   "cell_type": "code",
   "execution_count": 74,
   "metadata": {},
   "outputs": [],
   "source": [
    "\n",
    "\n",
    "if datasetName == 'PAMAP2':\n",
    "    # signals=['handAcc16_1', 'handAcc16_2', 'handAcc16_3', 'handGyro1', 'handGyro2', 'handGyro3']\n",
    "    signals=['heartrate']\n",
    "    dataset = DatasetPAMAP2(seconds = 4 , mode = 'leave-one-subject')\n",
    "    \n",
    "elif datasetName ==  'HAR-UML20':\n",
    "    signals = ['Accelerometer-X', 'Accelerometer-Y', 'Accelerometer-Z']\n",
    "    dataset = DatasetHARUML20(mode = 'leave-one-subject')\n",
    "\n",
    "    \n",
    "CLASS_LABELS = dataset.activities\n",
    "save_name = datasetName + '_' + EXP_NAME\n",
    "saver = MetricsSaver(save_name, rows = ['train', 'test'], cols=['F1-score', 'Balanced Accuracy', 'Accuracy'])"
   ]
  },
  {
   "cell_type": "code",
   "execution_count": 75,
   "metadata": {},
   "outputs": [],
   "source": [
    "dataset.loadData()\n",
    "dataset.loadData()\n",
    "dataset.filterSignals(signals)\n",
    "\n",
    "# dataset.y_train[dataset.y_train == 1] = 0\n",
    "# dataset.y_train[dataset.y_train == 2] = 0\n",
    "\n",
    "# dataset.y_test[dataset.y_test == 1] = 0\n",
    "# dataset.y_test[dataset.y_test == 2] = 0"
   ]
  },
  {
   "cell_type": "code",
   "execution_count": 76,
   "metadata": {},
   "outputs": [],
   "source": [
    "ts_train = TSerie(dataset.X_train, dataset.Int_train, I=dataset.I_train)\n",
    "ts_test = TSerie(dataset.X_test, dataset.Int_test, I=dataset.I_test)\n",
    "\n",
    "# ts_train.center()\n",
    "# ts_test.center()"
   ]
  },
  {
   "cell_type": "code",
   "execution_count": 77,
   "metadata": {},
   "outputs": [],
   "source": [
    "from scipy.fft import fft\n",
    "\n",
    "def smooth(x,window_len=11,window='hanning'):\n",
    "    if x.ndim != 1:\n",
    "        raise ValueError(\"smooth only accepts 1 dimension arrays.\")\n",
    "    if x.size < window_len:\n",
    "        raise ValueError(\"Input vector needs to be bigger than window size.\")\n",
    "    if window_len<3:\n",
    "        return x\n",
    "    if not window in ['flat', 'hanning', 'hamming', 'bartlett', 'blackman']:\n",
    "        raise ValueError(\"Window is on of 'flat', 'hanning', 'hamming', 'bartlett', 'blackman'\")\n",
    "    s=np.r_[2*x[0]-x[window_len-1::-1],x,2*x[-1]-x[-1:-window_len:-1]]\n",
    "    if window == 'flat': #moving average\n",
    "        w=np.ones(window_len,'d')\n",
    "    else:  \n",
    "        w=eval('np.'+window+'(window_len)')\n",
    "    y=np.convolve(w/w.sum(),s,mode='same')\n",
    "    return y[window_len:-window_len+1]\n",
    "\n",
    "\n",
    "\n",
    "# ts_train.center()\n",
    "# ts_test.center()\n",
    "\n",
    "# ts_train.znorm()\n",
    "# ts_test.znorm()\n",
    "\n",
    "# # minv, maxv = ts_train.minMaxNormalization()\n",
    "# # ts_test.minMaxNormalization( minl= minv,maxl= maxv)\n",
    "\n",
    "\n",
    "ts_train.folding_features_v2()\n",
    "ts_test.folding_features_v2()\n",
    "\n",
    "\n",
    "\n",
    "# ts_train.features =  np.linalg.norm(ts_train.X[:, :, :3], axis=2)\n",
    "# ts_test.features = np.linalg.norm(ts_test.X[:, :, :3], axis=2)\n",
    "\n",
    "# for i in range(ts_train.N):\n",
    "#     ts_train.features[i] = np.absolute(fft(ts_train.features[i]))\n",
    "#     # ts_train.features[i] = fft(ts_train.features[i])\n",
    "#     # ts_train.features[i] = smooth(ts_train.features[i], window_len=20)\n",
    "#     # ts_train.features[i][ts_train.features[i] < 400] = 0\n",
    "    \n",
    "# for i in range(ts_test.N):\n",
    "#     ts_test.features[i] = np.absolute(fft(ts_test.features[i]))\n",
    "#     # ts_test.features[i] = smooth(ts_test.features[i], window_len=20)\n",
    "#     # ts_test.features[i][ts_test.features[i] < 400] = 0\n",
    "#     # ts_test.features[i] = fft(ts_test.features[i])\n",
    "\n",
    "# # ts_train.features = ts_train.features[:, 1:ts_train.T//2 + 1]\n",
    "# # ts_test.features = ts_test.features[:, 1:ts_train.T//2 + 1]\n",
    "# ts_train.features[:, ts_train.T//2 + 1:]=0\n",
    "# ts_test.features[:, ts_train.T//2 + 1:]=0\n",
    "\n",
    "# ts_train.features[:, 0] = 0\n",
    "# ts_test.features[:, 0] = 0\n"
   ]
  },
  {
   "cell_type": "code",
   "execution_count": 78,
   "metadata": {},
   "outputs": [],
   "source": [
    "model = UMAP_FL(n_components=32,n_neighbors=UMAP_NEIGHTBORS, n_epochs=N_EPOCHS, metric='euclidean')\n",
    "ts_train.features = model.fit_transform(ts_train.features)\n",
    "# train_coords = model.fit_transform(ts_train.features)\n",
    "ts_test.features = model.transform(ts_test.features)"
   ]
  },
  {
   "cell_type": "code",
   "execution_count": 79,
   "metadata": {},
   "outputs": [],
   "source": [
    "projector = UMAP_FL(n_components=2, n_neighbors=UMAP_NEIGHTBORS, n_epochs=N_EPOCHS, metric='cosine',)\n",
    "train_coords = projector.fit_transform(ts_train.features, y=ts_train.y)\n",
    "# train_coords = model.fit_transform(ts_train.features)\n",
    "test_coords = projector.transform(ts_test.features)"
   ]
  },
  {
   "cell_type": "code",
   "execution_count": 80,
   "metadata": {},
   "outputs": [
    {
     "data": {
      "text/plain": [
       "<matplotlib.collections.PathCollection at 0x7fa8864e7f90>"
      ]
     },
     "execution_count": 80,
     "metadata": {},
     "output_type": "execute_result"
    },
    {
     "data": {
      "image/png": "[encoded data removed]",
      "text/plain": [
       "<Figure size 432x288 with 1 Axes>"
      ]
     },
     "metadata": {
      "needs_background": "light"
     },
     "output_type": "display_data"
    }
   ],
   "source": [
    "import matplotlib.pyplot as plt\n",
    "# import seaborn as sns\n",
    "\n",
    "plt.scatter(train_coords[:,0], train_coords[:,1], c=ts_train.y.flatten(), cmap='jet')\n",
    "# plt.scatter(train_coords[:,0], train_coords[:,1], )"
   ]
  },
  {
   "cell_type": "code",
   "execution_count": 81,
   "metadata": {},
   "outputs": [
    {
     "data": {
      "text/plain": [
       "<matplotlib.collections.PathCollection at 0x7fa8864e7fd0>"
      ]
     },
     "execution_count": 81,
     "metadata": {},
     "output_type": "execute_result"
    },
    {
     "data": {
      "image/png": "[encoded data removed]",
      "text/plain": [
       "<Figure size 432x288 with 1 Axes>"
      ]
     },
     "metadata": {
      "needs_background": "light"
     },
     "output_type": "display_data"
    }
   ],
   "source": [
    "import matplotlib.pyplot as plt\n",
    "\n",
    "plt.scatter(test_coords[:,0], test_coords[:,1], c=ts_test.y.flatten(), cmap='jet')"
   ]
  },
  {
   "cell_type": "code",
   "execution_count": 82,
   "metadata": {},
   "outputs": [
    {
     "name": "stdout",
     "output_type": "stream",
     "text": [
      "Test f1_score: 0.7767629508005306\n",
      "Test acc: 0.7781201848998459\n",
      "Test bacc: 0.7117394738084394\n"
     ]
    }
   ],
   "source": [
    "from sklearn import metrics\n",
    "\n",
    "# clf = svm.SVC()\n",
    "clf = XGBClassifier(tree_method='gpu_hist', predictor='gpu_predictor')\n",
    "clf.fit(ts_train.features, ts_train.y)\n",
    "train_pr = clf.predict(ts_train.features)\n",
    "test_pr = clf.predict(ts_test.features)\n",
    "\n",
    "\n",
    "# Save metrics\n",
    "train_f1 = metrics.f1_score(ts_train.y, train_pr, average='weighted')\n",
    "test_f1 = metrics.f1_score(ts_test.y, test_pr, average='weighted')\n",
    "train_bacc = metrics.balanced_accuracy_score(ts_train.y, train_pr)\n",
    "test_bacc = metrics.balanced_accuracy_score(ts_test.y, test_pr)\n",
    "train_acc = metrics.accuracy_score(ts_train.y, train_pr)\n",
    "test_acc = metrics.accuracy_score(ts_test.y, test_pr)\n",
    "\n",
    "print('Test f1_score: {}'.format(test_f1))\n",
    "print('Test acc: {}'.format(test_acc))\n",
    "print('Test bacc: {}'.format(test_bacc))\n"
   ]
  },
  {
   "cell_type": "code",
   "execution_count": 83,
   "metadata": {},
   "outputs": [
    {
     "name": "stdout",
     "output_type": "stream",
     "text": [
      "[0. 1. 2. 3.]\n"
     ]
    }
   ],
   "source": [
    "print(np.unique(ts_train.y))"
   ]
  },
  {
   "cell_type": "code",
   "execution_count": 84,
   "metadata": {},
   "outputs": [],
   "source": [
    "from source.utils import accuracy_per_class\n",
    "import warnings\n",
    "warnings.filterwarnings('ignore')\n",
    "\n",
    "# clf = svm.SVC()\n",
    "clf = XGBClassifier(tree_method='gpu_hist', predictor='gpu_predictor')\n",
    "\n",
    "train_bin_y = np.copy(ts_train.y)\n",
    "test_bin_y = np.copy(ts_test.y)\n",
    "\n",
    "target_intensity = 0\n",
    "\n",
    "\n",
    "train_bin_y[train_bin_y != target_intensity] = -1\n",
    "test_bin_y[test_bin_y != target_intensity] = -1\n",
    "train_bin_y[train_bin_y == target_intensity] = 1\n",
    "test_bin_y[test_bin_y == target_intensity] = 1\n",
    "train_bin_y[train_bin_y ==-1] = 0\n",
    "test_bin_y[test_bin_y ==-1] = 0\n",
    "\n",
    "\n",
    "res_df = accuracy_per_class(\n",
    "    clf, \n",
    "    train_bin_y, test_bin_y, \n",
    "    ts_train.features, ts_test.features, \n",
    "    dataset.y_train, dataset.y_test, \n",
    "    dataset.activities_map\n",
    ")\n"
   ]
  },
  {
   "cell_type": "code",
   "execution_count": 93,
   "metadata": {},
   "outputs": [
    {
     "data": {
      "text/html": [
       "<div>\n",
       "<style scoped>\n",
       "    .dataframe tbody tr th:only-of-type {\n",
       "        vertical-align: middle;\n",
       "    }\n",
       "\n",
       "    .dataframe tbody tr th {\n",
       "        vertical-align: top;\n",
       "    }\n",
       "\n",
       "    .dataframe thead th {\n",
       "        text-align: right;\n",
       "    }\n",
       "</style>\n",
       "<table border=\"1\" class=\"dataframe\">\n",
       "  <thead>\n",
       "    <tr style=\"text-align: right;\">\n",
       "      <th></th>\n",
       "      <th>classes</th>\n",
       "      <th>precision</th>\n",
       "      <th>recall</th>\n",
       "      <th>f1_score</th>\n",
       "      <th>accuracy</th>\n",
       "      <th>bal_accuracy</th>\n",
       "    </tr>\n",
       "  </thead>\n",
       "  <tbody>\n",
       "    <tr>\n",
       "      <th>0</th>\n",
       "      <td>lying</td>\n",
       "      <td>8.0</td>\n",
       "      <td>7.165217</td>\n",
       "      <td>7.559633</td>\n",
       "      <td>7.165217</td>\n",
       "      <td>7.165217</td>\n",
       "    </tr>\n",
       "    <tr>\n",
       "      <th>1</th>\n",
       "      <td>sitting</td>\n",
       "      <td>8.0</td>\n",
       "      <td>6.181818</td>\n",
       "      <td>6.974359</td>\n",
       "      <td>6.181818</td>\n",
       "      <td>6.181818</td>\n",
       "    </tr>\n",
       "    <tr>\n",
       "      <th>2</th>\n",
       "      <td>standing</td>\n",
       "      <td>8.0</td>\n",
       "      <td>2.158730</td>\n",
       "      <td>3.400000</td>\n",
       "      <td>2.158730</td>\n",
       "      <td>2.158730</td>\n",
       "    </tr>\n",
       "    <tr>\n",
       "      <th>3</th>\n",
       "      <td>walking</td>\n",
       "      <td>0.0</td>\n",
       "      <td>0.000000</td>\n",
       "      <td>0.000000</td>\n",
       "      <td>8.000000</td>\n",
       "      <td>8.000000</td>\n",
       "    </tr>\n",
       "    <tr>\n",
       "      <th>4</th>\n",
       "      <td>running</td>\n",
       "      <td>0.0</td>\n",
       "      <td>0.000000</td>\n",
       "      <td>0.000000</td>\n",
       "      <td>8.000000</td>\n",
       "      <td>8.000000</td>\n",
       "    </tr>\n",
       "  </tbody>\n",
       "</table>\n",
       "</div>"
      ],
      "text/plain": [
       "    classes  precision    recall  f1_score  accuracy  bal_accuracy\n",
       "0     lying        8.0  7.165217  7.559633  7.165217      7.165217\n",
       "1   sitting        8.0  6.181818  6.974359  6.181818      6.181818\n",
       "2  standing        8.0  2.158730  3.400000  2.158730      2.158730\n",
       "3   walking        0.0  0.000000  0.000000  8.000000      8.000000\n",
       "4   running        0.0  0.000000  0.000000  8.000000      8.000000"
      ]
     },
     "execution_count": 93,
     "metadata": {},
     "output_type": "execute_result"
    }
   ],
   "source": [
    "# res_df.head()\n",
    "# res_df + res_df\n",
    "res_df.loc[:, res_df.columns != 'classes'] = res_df.loc[:, res_df.columns != 'classes'] + res_df.loc[:, res_df.columns != 'classes']\n",
    "res_df.head()"
   ]
  },
  {
   "cell_type": "code",
   "execution_count": 86,
   "metadata": {},
   "outputs": [
    {
     "name": "stdout",
     "output_type": "stream",
     "text": [
      "Test f1_score: 0.8554829542673345\n",
      "Test acc: 0.8705701078582434\n",
      "Test bacc: 0.7606837606837606\n"
     ]
    }
   ],
   "source": [
    "from sklearn import metrics\n",
    "\n",
    "clf = svm.SVC()\n",
    "\n",
    "train_bin_y = np.copy(ts_train.y)\n",
    "test_bin_y = np.copy(ts_test.y)\n",
    "\n",
    "target_intensity = 0\n",
    "\n",
    "\n",
    "train_bin_y[train_bin_y != target_intensity] = -1\n",
    "test_bin_y[test_bin_y != target_intensity] = -1\n",
    "train_bin_y[train_bin_y == target_intensity] = 1\n",
    "test_bin_y[test_bin_y == target_intensity] = 1\n",
    "train_bin_y[train_bin_y ==-1] = 0\n",
    "test_bin_y[test_bin_y ==-1] = 0\n",
    "\n",
    "\n",
    "clf.fit(ts_train.features, train_bin_y)\n",
    "train_bin_pr = clf.predict(ts_train.features)\n",
    "test_bin_pr = clf.predict(ts_test.features)\n",
    "\n",
    "# Save metrics\n",
    "train_f1 = metrics.f1_score(train_bin_y, train_bin_pr, average='weighted')\n",
    "test_f1 = metrics.f1_score(test_bin_y, test_bin_pr, average='weighted')\n",
    "train_bacc = metrics.balanced_accuracy_score(train_bin_y, train_bin_pr)\n",
    "test_bacc = metrics.balanced_accuracy_score(test_bin_y, test_bin_pr)\n",
    "train_acc = metrics.accuracy_score(train_bin_y, train_bin_pr)\n",
    "test_acc = metrics.accuracy_score(test_bin_y, test_bin_pr)\n",
    "\n",
    "print('Test f1_score: {}'.format(test_f1))\n",
    "print('Test acc: {}'.format(test_acc))\n",
    "print('Test bacc: {}'.format(test_bacc))\n"
   ]
  },
  {
   "cell_type": "code",
   "execution_count": 87,
   "metadata": {},
   "outputs": [],
   "source": [
    "\n",
    "# ts_train.X = np.concatenate([ts_train.X, np.expand_dims(ts_train.features, axis = 2)], axis =2)\n",
    "# ts_test.X = np.concatenate([ts_test.X, np.expand_dims(ts_test.features, axis = 2)], axis =2)"
   ]
  },
  {
   "cell_type": "code",
   "execution_count": 88,
   "metadata": {},
   "outputs": [
    {
     "name": "stdout",
     "output_type": "stream",
     "text": [
      "mts shape: N: 8273 -  T: 400 - D: 1\n",
      "mts shape: N: 1298 -  T: 400 - D: 1\n"
     ]
    }
   ],
   "source": [
    "# import sys\n",
    "# sys.path.insert(0, '/home/texs/Documentos/Repositories/mts_viz')\n",
    "\n",
    "from server.source.storage import MTSStorage\n",
    "\n",
    "storage = MTSStorage('visualizations')\n",
    "storage.load()\n",
    "\n",
    "# activities_map = {act: str(act) for act in np.unique(y)}\n",
    "indMapTrain = {int(ind): 'sub_' + str(ind) for ind in np.unique(ts_train.I)}\n",
    "indMapTest = {int(ind): 'sub_' + str(ind) for ind in np.unique(ts_test.I)}\n",
    "        \n",
    "storage.add_mts(\n",
    "    'train',  ts_train.X,\n",
    "    # ts_train.\n",
    "    np.append(signals, 'freq'),\n",
    "    coords={'umap': train_coords}, \n",
    "    labels={'activities': ts_train.y, 'participants': ts_train.I}, \n",
    "    labelsNames={'activities': dataset.intensity_map,'participants': indMapTrain},\n",
    "    sampling = True,\n",
    "    n_samples = 2000\n",
    ")\n",
    "\n",
    "storage.add_mts(\n",
    "    'test', ts_test.X,\n",
    "    np.append(signals, 'freq'),\n",
    "    coords={'umap': test_coords}, \n",
    "    labels={'activities': ts_test.y, 'participants': ts_test.I}, \n",
    "    labelsNames={'activities': dataset.intensity_map, 'participants': indMapTest},\n",
    "    sampling = True,\n",
    "    n_samples = 2000,\n",
    ")\n",
    "storage.save()"
   ]
  },
  {
   "cell_type": "code",
   "execution_count": null,
   "metadata": {},
   "outputs": [],
   "source": []
  },
  {
   "cell_type": "code",
   "execution_count": null,
   "metadata": {},
   "outputs": [],
   "source": []
  }
 ],
 "metadata": {
  "kernelspec": {
   "display_name": "Python 3.7.10 ('rapidsml')",
   "language": "python",
   "name": "python3"
  },
  "language_info": {
   "codemirror_mode": {
    "name": "ipython",
    "version": 3
   },
   "file_extension": ".py",
   "mimetype": "text/x-python",
   "name": "python",
   "nbconvert_exporter": "python",
   "pygments_lexer": "ipython3",
   "version": "3.7.10"
  },
  "orig_nbformat": 4,
  "vscode": {
   "interpreter": {
    "hash": "4f51f79755ef8f79693022c2238daee50231b90d0a3e393b6e63d90a9477d06f"
   }
  }
 },
 "nbformat": 4,
 "nbformat_minor": 2
}
