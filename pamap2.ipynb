{
 "cells": [
  {
   "cell_type": "code",
   "execution_count": 12,
   "metadata": {},
   "outputs": [
    {
     "name": "stdout",
     "output_type": "stream",
     "text": [
      "The autoreload extension is already loaded. To reload it, use:\n",
      "  %reload_ext autoreload\n"
     ]
    }
   ],
   "source": [
    "%load_ext autoreload\n",
    "%autoreload 2\n",
    "import pandas as pd\n",
    "import numpy as np\n",
    "from source.read_pamap2 import read_pamap2, activityIDdict\n",
    "\n",
    "from source.read_open_dataset import read_open_dataset"
   ]
  },
  {
   "cell_type": "code",
   "execution_count": 16,
   "metadata": {},
   "outputs": [],
   "source": [
    "train_ids = [e for e in range(100, 130)]\n",
    "train_ids.remove(114)\n",
    "train_ids.remove(119)\n",
    "data  = read_open_dataset(seconds=4, train_ids = train_ids, test_ids=[119])"
   ]
  },
  {
   "cell_type": "code",
   "execution_count": 18,
   "metadata": {},
   "outputs": [
    {
     "data": {
      "text/plain": [
       "array([ 0,  1,  2,  3,  4,  5,  6,  7,  8,  9, 10, 11, 12, 13, 14, 15, 16,\n",
       "       17, 18, 19, 20, 21, 22, 23, 24])"
      ]
     },
     "execution_count": 18,
     "metadata": {},
     "output_type": "execute_result"
    }
   ],
   "source": [
    "np.unique(data['train'][2])"
   ]
  },
  {
   "cell_type": "code",
   "execution_count": 32,
   "metadata": {},
   "outputs": [
    {
     "name": "stdout",
     "output_type": "stream",
     "text": [
      "False\n"
     ]
    }
   ],
   "source": [
    "# columns = ['handAcc16_1', 'handAcc16_2', 'handAcc16_3', 'handAcc6_1', 'handAcc6_2', 'handAcc6_3', 'handGyro1', 'handGyro2', 'handGyro3', 'handMagne1', 'handMagne2', 'handMagne3']\n",
    "exp_name = 'All'\n",
    "# columns = ['handAcc16_1', 'handAcc16_2', 'handAcc16_3', 'handGyro1', 'handGyro2', 'handGyro3', 'heartrate']\n",
    "# columns = ['heartrate']\n",
    "# exp_name = 'Acc'\n",
    "columns = ['handAcc16_1', 'handAcc16_2', 'handAcc16_3']\n",
    "# exp_name = 'Gyr'\n",
    "# columns = ['handGyro1', 'handGyro2', 'handGyro3']\n",
    "data = read_pamap2(overlap=0.75, scolumns=columns)\n",
    "# X_o = X"
   ]
  },
  {
   "cell_type": "code",
   "execution_count": 10,
   "metadata": {},
   "outputs": [],
   "source": [
    "# X"
   ]
  },
  {
   "cell_type": "code",
   "execution_count": 13,
   "metadata": {},
   "outputs": [
    {
     "name": "stdout",
     "output_type": "stream",
     "text": [
      "(13956, 400, 6)\n",
      "(13956, 400, 6)\n",
      "(13956, 400, 6)\n",
      "(13956,)\n",
      "(13956,)\n",
      "(13956, 2400)\n"
     ]
    }
   ],
   "source": [
    "from source.utils import idsStd\n",
    "import numpy as np\n",
    "# X[:, :, 0]\n",
    "X = X_o\n",
    "\n",
    "\n",
    "def filter_dimensions(X, all_dimensions, dimensions):\n",
    "    idx = [np.where(all_dimensions == dim)[0][0] for dim in dimensions]\n",
    "    return X[:, :, idx]\n",
    "\n",
    "def folding_v2(X):\n",
    "    N, T, D = X.shape\n",
    "    X_f = np.zeros((N, D * T))\n",
    "    for n in range(N):\n",
    "        for t in range(T):\n",
    "            for d in range(D):\n",
    "                X_f[n, D * t + d] = X[n, t, d]\n",
    "    return X_f\n",
    "\n",
    "print(X.shape)\n",
    "# X = X.transpose([0, 2, 1])\n",
    "print(X.shape)\n",
    "\n",
    "all_ids = np.unique(I)\n",
    "ind_std = idsStd(all_ids, X, I)\n",
    "\n",
    "Z_SCORE_NORM = True     \n",
    "\n",
    "if Z_SCORE_NORM:\n",
    "    N_tr, T, D = X.shape\n",
    "    X_sh = np.zeros(X.shape)\n",
    "    for i in range(N_tr):\n",
    "        for k in range(D):\n",
    "            mag = np.mean(X[i, :, k], axis = 0)\n",
    "            indice = np.where(all_ids ==  I[i])[0][0]\n",
    "            std = ind_std[indice][k] * 6\n",
    "            X_sh[i, :, k] = (X[i, :, k] - mag) / std\n",
    "            # X_train_sh[i, :, k] = np.concatenate([[0], fft(X_train[i, :, k])[1:]])\n",
    "X = X_sh\n",
    "\n",
    "print(X.shape)\n",
    "print(y.shape)\n",
    "print(I.shape)\n",
    "N, D, T = X.shape\n",
    "# for n in range(N):\n",
    "#     for d in range(D):\n",
    "#         X[n, d, :] = X[n, d, :] - X[n, d, :].mean()\n",
    "        \n",
    "features = folding_v2(X.transpose([0, 2, 1]))\n",
    "print(features.shape)\n",
    "# print(X[:, :, 0].flatten().shape)\n",
    "# print(np.count_nonzero(np.isnan(X[:, :, 0])))\n"
   ]
  },
  {
   "cell_type": "markdown",
   "metadata": {},
   "source": []
  },
  {
   "cell_type": "code",
   "execution_count": 14,
   "metadata": {},
   "outputs": [],
   "source": [
    "import umap\n",
    "\n",
    "reducer = umap.UMAP(n_components=2, metric='braycurtis')\n",
    "coords = reducer.fit_transform(features, y=y)"
   ]
  },
  {
   "cell_type": "code",
   "execution_count": 15,
   "metadata": {},
   "outputs": [],
   "source": [
    "import sys\n",
    "sys.path.insert(0, '/home/texs/Documentos/Repositories/mts_viz')\n",
    "\n",
    "from server.source.storage import MTSStorage"
   ]
  },
  {
   "cell_type": "code",
   "execution_count": 17,
   "metadata": {},
   "outputs": [],
   "source": [
    "storage = MTSStorage('pamap2')\n",
    "storage.load()\n",
    "\n",
    "# activities_map = {act: str(act) for act in np.unique(y)}\n",
    "storage.add_mts(\n",
    "    exp_name, X, \n",
    "    columns, \n",
    "    coords={'umap': coords}, \n",
    "    labels={'activities': y}, \n",
    "    labelsNames={'activities': activityIDdict},\n",
    "    sampling = True,\n",
    "    n_samples = 2000\n",
    ")\n",
    "storage.save()"
   ]
  },
  {
   "cell_type": "code",
   "execution_count": null,
   "metadata": {},
   "outputs": [],
   "source": []
  }
 ],
 "metadata": {
  "kernelspec": {
   "display_name": "Python 3.7.10 ('rapidsml')",
   "language": "python",
   "name": "python3"
  },
  "language_info": {
   "codemirror_mode": {
    "name": "ipython",
    "version": 3
   },
   "file_extension": ".py",
   "mimetype": "text/x-python",
   "name": "python",
   "nbconvert_exporter": "python",
   "pygments_lexer": "ipython3",
   "version": "3.7.10"
  },
  "orig_nbformat": 4,
  "vscode": {
   "interpreter": {
    "hash": "4f51f79755ef8f79693022c2238daee50231b90d0a3e393b6e63d90a9477d06f"
   }
  }
 },
 "nbformat": 4,
 "nbformat_minor": 2
}
