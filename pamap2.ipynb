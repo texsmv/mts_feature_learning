{
 "cells": [
  {
   "cell_type": "code",
   "execution_count": 1,
   "metadata": {},
   "outputs": [
    {
     "name": "stderr",
     "output_type": "stream",
     "text": [
      "/home/texs/anaconda3/envs/contrastive/lib/python3.10/site-packages/tqdm/auto.py:22: TqdmWarning: IProgress not found. Please update jupyter and ipywidgets. See https://ipywidgets.readthedocs.io/en/stable/user_install.html\n",
      "  from .autonotebook import tqdm as notebook_tqdm\n"
     ]
    }
   ],
   "source": [
    "%load_ext autoreload\n",
    "%autoreload 2\n",
    "import pandas as pd\n",
    "import numpy as np\n",
    "from source.read_pamap2 import read_pamap2, activityIDdict"
   ]
  },
  {
   "cell_type": "code",
   "execution_count": 2,
   "metadata": {},
   "outputs": [],
   "source": [
    "# columns = ['handAcc16_1', 'handAcc16_2', 'handAcc16_3', 'handAcc6_1', 'handAcc6_2', 'handAcc6_3', 'handGyro1', 'handGyro2', 'handGyro3', 'handMagne1', 'handMagne2', 'handMagne3']\n",
    "exp_name = 'All'\n",
    "columns = ['handAcc16_1', 'handAcc16_2', 'handAcc16_3', 'handGyro1', 'handGyro2', 'handGyro3']\n",
    "# exp_name = 'Acc'\n",
    "# columns = ['handAcc16_1', 'handAcc16_2', 'handAcc16_3']\n",
    "# exp_name = 'Gyr'\n",
    "# columns = ['handGyro1', 'handGyro2', 'handGyro3']\n",
    "X, y, I = read_pamap2(overlap=0.75, scolumns=columns)\n",
    "X_o = X"
   ]
  },
  {
   "cell_type": "code",
   "execution_count": 13,
   "metadata": {},
   "outputs": [
    {
     "name": "stdout",
     "output_type": "stream",
     "text": [
      "(13956, 400, 6)\n",
      "(13956, 400, 6)\n",
      "(13956, 400, 6)\n",
      "(13956,)\n",
      "(13956,)\n",
      "(13956, 2400)\n"
     ]
    }
   ],
   "source": [
    "from source.utils import idsStd\n",
    "import numpy as np\n",
    "# X[:, :, 0]\n",
    "X = X_o\n",
    "\n",
    "\n",
    "def filter_dimensions(X, all_dimensions, dimensions):\n",
    "    idx = [np.where(all_dimensions == dim)[0][0] for dim in dimensions]\n",
    "    return X[:, :, idx]\n",
    "\n",
    "def folding_v2(X):\n",
    "    N, T, D = X.shape\n",
    "    X_f = np.zeros((N, D * T))\n",
    "    for n in range(N):\n",
    "        for t in range(T):\n",
    "            for d in range(D):\n",
    "                X_f[n, D * t + d] = X[n, t, d]\n",
    "    return X_f\n",
    "\n",
    "print(X.shape)\n",
    "# X = X.transpose([0, 2, 1])\n",
    "print(X.shape)\n",
    "\n",
    "all_ids = np.unique(I)\n",
    "ind_std = idsStd(all_ids, X, I)\n",
    "\n",
    "Z_SCORE_NORM = True     \n",
    "\n",
    "if Z_SCORE_NORM:\n",
    "    N_tr, T, D = X.shape\n",
    "    X_sh = np.zeros(X.shape)\n",
    "    for i in range(N_tr):\n",
    "        for k in range(D):\n",
    "            mag = np.mean(X[i, :, k], axis = 0)\n",
    "            indice = np.where(all_ids ==  I[i])[0][0]\n",
    "            std = ind_std[indice][k] * 6\n",
    "            X_sh[i, :, k] = (X[i, :, k] - mag) / std\n",
    "            # X_train_sh[i, :, k] = np.concatenate([[0], fft(X_train[i, :, k])[1:]])\n",
    "X = X_sh\n",
    "\n",
    "print(X.shape)\n",
    "print(y.shape)\n",
    "print(I.shape)\n",
    "N, D, T = X.shape\n",
    "# for n in range(N):\n",
    "#     for d in range(D):\n",
    "#         X[n, d, :] = X[n, d, :] - X[n, d, :].mean()\n",
    "        \n",
    "features = folding_v2(X.transpose([0, 2, 1]))\n",
    "print(features.shape)\n",
    "# print(X[:, :, 0].flatten().shape)\n",
    "# print(np.count_nonzero(np.isnan(X[:, :, 0])))\n"
   ]
  },
  {
   "cell_type": "markdown",
   "metadata": {},
   "source": []
  },
  {
   "cell_type": "code",
   "execution_count": 14,
   "metadata": {},
   "outputs": [],
   "source": [
    "import umap\n",
    "\n",
    "reducer = umap.UMAP(n_components=2, metric='braycurtis')\n",
    "coords = reducer.fit_transform(features, y=y)"
   ]
  },
  {
   "cell_type": "code",
   "execution_count": 15,
   "metadata": {},
   "outputs": [],
   "source": [
    "import sys\n",
    "sys.path.insert(0, '/home/texs/Documentos/Repositories/mts_viz')\n",
    "\n",
    "from server.source.storage import MTSStorage"
   ]
  },
  {
   "cell_type": "code",
   "execution_count": 17,
   "metadata": {},
   "outputs": [],
   "source": [
    "storage = MTSStorage('pamap2')\n",
    "storage.load()\n",
    "\n",
    "# activities_map = {act: str(act) for act in np.unique(y)}\n",
    "storage.add_mts(\n",
    "    exp_name, X, \n",
    "    columns, \n",
    "    coords={'umap': coords}, \n",
    "    labels={'activities': y}, \n",
    "    labelsNames={'activities': activityIDdict},\n",
    "    sampling = True,\n",
    "    n_samples = 2000\n",
    ")\n",
    "storage.save()"
   ]
  },
  {
   "cell_type": "code",
   "execution_count": null,
   "metadata": {},
   "outputs": [],
   "source": []
  }
 ],
 "metadata": {
  "kernelspec": {
   "display_name": "Python 3.10.4 ('contrastive')",
   "language": "python",
   "name": "python3"
  },
  "language_info": {
   "codemirror_mode": {
    "name": "ipython",
    "version": 3
   },
   "file_extension": ".py",
   "mimetype": "text/x-python",
   "name": "python",
   "nbconvert_exporter": "python",
   "pygments_lexer": "ipython3",
   "version": "3.10.4"
  },
  "orig_nbformat": 4,
  "vscode": {
   "interpreter": {
    "hash": "af38bbb6e377e6d688e9d49e963edf808fac73a4ecd279c84061bb0d9783d83c"
   }
  }
 },
 "nbformat": 4,
 "nbformat_minor": 2
}
