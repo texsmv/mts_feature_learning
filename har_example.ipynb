{
 "cells": [
  {
   "cell_type": "markdown",
   "id": "3a4d93d2-53f0-4aaa-82d7-afa193f67156",
   "metadata": {},
   "source": [
    "## Code for reading the HAR-UML dataset"
   ]
  },
  {
   "cell_type": "code",
   "execution_count": 2,
   "id": "31ba70bf-6dac-442b-9ee4-f69f197553d1",
   "metadata": {},
   "outputs": [],
   "source": [
    "import numpy as np\n",
    "\n",
    "from source.read_HAR_dataset import read_har_dataset, har_dimensions"
   ]
  },
  {
   "cell_type": "code",
   "execution_count": 3,
   "id": "3a526a48-a611-48c0-8eca-318ace67f145",
   "metadata": {},
   "outputs": [
    {
     "name": "stdout",
     "output_type": "stream",
     "text": [
      "IDS: [1, 2, 4, 7, 6, 3, 9, 8, 5, 0]\n",
      "Train IDS: [1, 2, 4, 7, 6, 3]\n",
      "Test IDS: [9, 8]\n",
      "Val IDS: [5, 0]\n",
      "Training files: 6 - ['dataset_S1.csv', 'dataset_S2.csv', 'dataset_S3.csv', 'dataset_S4.csv', 'dataset_S5.csv', 'dataset_S6.csv']\n",
      "Train epochs: 6 - ['dataset_S1_epochs.csv', 'dataset_S2_epochs.csv', 'dataset_S3_epochs.csv', 'dataset_S4_epochs.csv', 'dataset_S5_epochs.csv', 'dataset_S6_epochs.csv']\n",
      "Testing files: 2 - ['dataset_S7.csv', 'dataset_S8.csv']\n",
      "Testing epochs: 2 - ['dataset_S7_epochs.csv', 'dataset_S8_epochs.csv']\n",
      "Validation files: 2 - ['dataset_S9.csv', 'dataset_S10.csv']\n",
      "Validation epochs: 2 - ['dataset_S9_epochs.csv', 'dataset_S10_epochs.csv']\n"
     ]
    }
   ],
   "source": [
    "# [X_train, y_train, epochs, X_test, y_test, test_epochs, X_validation, y_validation, validation_epochs, kcal_MET, test_kcal_MET, validation_kcal_MET] = \n",
    "\n",
    "data = read_har_dataset('./datasets/HAR-UML20/')\n",
    "\n",
    "ids_train, X_train, y_train, I_train, train_kcal_MET = data['train']\n",
    "\n",
    "ids_val, X_val, y_val, I_val, val_kcal_MET = data['val']\n",
    "\n",
    "ids_test, X_test, y_test, I_test, test_kcal_MET = data['test']"
   ]
  },
  {
   "cell_type": "code",
   "execution_count": 10,
   "id": "d367716b-a8c9-41a8-b0b3-611c0bc508f0",
   "metadata": {},
   "outputs": [],
   "source": [
    "# print(X_train.shape)\n",
    "# y_train.shape\n",
    "# I_train.shape\n",
    "# train_kcal_MET[:, 1].shape"
   ]
  },
  {
   "cell_type": "code",
   "execution_count": 11,
   "id": "9c260ed5-7bea-4b0e-9d6f-2c2668d95811",
   "metadata": {},
   "outputs": [
    {
     "data": {
      "text/plain": [
       "array(['Accelerometer-X', 'Accelerometer-Y', 'Accelerometer-Z',\n",
       "       'Gyrometer-X', 'Gyrometer-Y', 'Gyrometer-Z', 'Magnetometer-X',\n",
       "       'Magnetometer-Y', 'Magnetometer-Z'], dtype='<U15')"
      ]
     },
     "execution_count": 11,
     "metadata": {},
     "output_type": "execute_result"
    }
   ],
   "source": [
    "har_dimensions"
   ]
  },
  {
   "cell_type": "code",
   "execution_count": 12,
   "id": "e4284411-85dc-4e81-9671-832568f05d7c",
   "metadata": {},
   "outputs": [],
   "source": [
    "from source.utils import create_dir, filter_dimensions, save_metrics2\n",
    "dimensions = [\n",
    "    'Accelerometer-X', \n",
    "    'Accelerometer-Y',\n",
    "    'Accelerometer-Z',\n",
    "    'Gyrometer-X',\n",
    "    'Gyrometer-Y',\n",
    "    'Gyrometer-Z'\n",
    "]\n",
    "\n",
    "X_train_f = filter_dimensions(X_train, har_dimensions, dimensions)\n",
    "X_test_f = filter_dimensions(X_test, har_dimensions, dimensions)\n",
    "X_validation_f = filter_dimensions(X_val, har_dimensions, dimensions)"
   ]
  },
  {
   "cell_type": "code",
   "execution_count": 13,
   "id": "6c43953d-f7af-40e8-a319-1c53df724d1e",
   "metadata": {},
   "outputs": [
    {
     "data": {
      "text/plain": [
       "(5460, 200, 6)"
      ]
     },
     "execution_count": 13,
     "metadata": {},
     "output_type": "execute_result"
    }
   ],
   "source": [
    "X_train_f.shape"
   ]
  },
  {
   "cell_type": "code",
   "execution_count": 14,
   "id": "89f4421a-ad06-4383-bb7d-05d6466399f3",
   "metadata": {},
   "outputs": [],
   "source": [
    "import sys\n",
    "sys.path.insert(0, '/home/texs/Documents/VivaBem/repositories/ts2vec')\n",
    "from ts2vec import TS2Vec"
   ]
  },
  {
   "cell_type": "code",
   "execution_count": 15,
   "id": "ca945e12-3007-411f-a65e-7a51865a4632",
   "metadata": {},
   "outputs": [
    {
     "name": "stdout",
     "output_type": "stream",
     "text": [
      "Epoch #0: loss=296.8211690715331\n",
      "Epoch #1: loss=11.117479090816465\n",
      "Epoch #2: loss=6.225528649920243\n",
      "Epoch #3: loss=5.055363068482743\n"
     ]
    },
    {
     "ename": "KeyboardInterrupt",
     "evalue": "",
     "output_type": "error",
     "traceback": [
      "\u001b[0;31m---------------------------------------------------------------------------\u001b[0m",
      "\u001b[0;31mKeyboardInterrupt\u001b[0m                         Traceback (most recent call last)",
      "Input \u001b[0;32mIn [15]\u001b[0m, in \u001b[0;36m<cell line: 7>\u001b[0;34m()\u001b[0m\n\u001b[1;32m      1\u001b[0m model \u001b[38;5;241m=\u001b[39m TS2Vec(\n\u001b[1;32m      2\u001b[0m     input_dims\u001b[38;5;241m=\u001b[39mX_train_f\u001b[38;5;241m.\u001b[39mshape[\u001b[38;5;241m2\u001b[39m],\n\u001b[1;32m      3\u001b[0m     device\u001b[38;5;241m=\u001b[39m\u001b[38;5;241m0\u001b[39m,\n\u001b[1;32m      4\u001b[0m     output_dims\u001b[38;5;241m=\u001b[39m\u001b[38;5;241m200\u001b[39m\n\u001b[1;32m      5\u001b[0m )\n\u001b[1;32m      6\u001b[0m \u001b[38;5;66;03m# print(train_data)\u001b[39;00m\n\u001b[0;32m----> 7\u001b[0m loss_log \u001b[38;5;241m=\u001b[39m \u001b[43mmodel\u001b[49m\u001b[38;5;241;43m.\u001b[39;49m\u001b[43mfit\u001b[49m\u001b[43m(\u001b[49m\n\u001b[1;32m      8\u001b[0m \u001b[43m    \u001b[49m\u001b[43mX_train_f\u001b[49m\u001b[43m,\u001b[49m\n\u001b[1;32m      9\u001b[0m \u001b[43m    \u001b[49m\u001b[43mn_epochs\u001b[49m\u001b[38;5;241;43m=\u001b[39;49m\u001b[38;5;241;43m20\u001b[39;49m\u001b[43m,\u001b[49m\n\u001b[1;32m     10\u001b[0m \u001b[43m    \u001b[49m\u001b[43mverbose\u001b[49m\u001b[38;5;241;43m=\u001b[39;49m\u001b[38;5;28;43;01mTrue\u001b[39;49;00m\n\u001b[1;32m     11\u001b[0m \u001b[43m)\u001b[49m\n",
      "File \u001b[0;32m~/Documents/VivaBem/repositories/ts2vec/ts2vec.py:138\u001b[0m, in \u001b[0;36mTS2Vec.fit\u001b[0;34m(self, train_data, n_epochs, n_iters, verbose)\u001b[0m\n\u001b[1;32m    136\u001b[0m loss\u001b[38;5;241m.\u001b[39mbackward()\n\u001b[1;32m    137\u001b[0m optimizer\u001b[38;5;241m.\u001b[39mstep()\n\u001b[0;32m--> 138\u001b[0m \u001b[38;5;28;43mself\u001b[39;49m\u001b[38;5;241;43m.\u001b[39;49m\u001b[43mnet\u001b[49m\u001b[38;5;241;43m.\u001b[39;49m\u001b[43mupdate_parameters\u001b[49m\u001b[43m(\u001b[49m\u001b[38;5;28;43mself\u001b[39;49m\u001b[38;5;241;43m.\u001b[39;49m\u001b[43m_net\u001b[49m\u001b[43m)\u001b[49m\n\u001b[1;32m    140\u001b[0m cum_loss \u001b[38;5;241m+\u001b[39m\u001b[38;5;241m=\u001b[39m loss\u001b[38;5;241m.\u001b[39mitem()\n\u001b[1;32m    141\u001b[0m n_epoch_iters \u001b[38;5;241m+\u001b[39m\u001b[38;5;241m=\u001b[39m \u001b[38;5;241m1\u001b[39m\n",
      "File \u001b[0;32m~/anaconda3/envs/mo445-gpu/lib/python3.10/site-packages/torch/optim/swa_utils.py:131\u001b[0m, in \u001b[0;36mAveragedModel.update_parameters\u001b[0;34m(self, model)\u001b[0m\n\u001b[1;32m    128\u001b[0m         p_swa\u001b[38;5;241m.\u001b[39mdetach()\u001b[38;5;241m.\u001b[39mcopy_(p_model_)\n\u001b[1;32m    129\u001b[0m     \u001b[38;5;28;01melse\u001b[39;00m:\n\u001b[1;32m    130\u001b[0m         p_swa\u001b[38;5;241m.\u001b[39mdetach()\u001b[38;5;241m.\u001b[39mcopy_(\u001b[38;5;28mself\u001b[39m\u001b[38;5;241m.\u001b[39mavg_fn(p_swa\u001b[38;5;241m.\u001b[39mdetach(), p_model_,\n\u001b[0;32m--> 131\u001b[0m                                          \u001b[38;5;28;43mself\u001b[39;49m\u001b[38;5;241;43m.\u001b[39;49m\u001b[43mn_averaged\u001b[49m\u001b[38;5;241;43m.\u001b[39;49m\u001b[43mto\u001b[49m\u001b[43m(\u001b[49m\u001b[43mdevice\u001b[49m\u001b[43m)\u001b[49m))\n\u001b[1;32m    132\u001b[0m \u001b[38;5;28mself\u001b[39m\u001b[38;5;241m.\u001b[39mn_averaged \u001b[38;5;241m+\u001b[39m\u001b[38;5;241m=\u001b[39m \u001b[38;5;241m1\u001b[39m\n",
      "\u001b[0;31mKeyboardInterrupt\u001b[0m: "
     ]
    }
   ],
   "source": [
    "model = TS2Vec(\n",
    "    input_dims=X_train_f.shape[2],\n",
    "    device=0,\n",
    "    output_dims=200\n",
    ")\n",
    "# print(train_data)\n",
    "loss_log = model.fit(\n",
    "    X_train_f,\n",
    "    n_epochs=20,\n",
    "    verbose=True\n",
    ")"
   ]
  },
  {
   "cell_type": "code",
   "execution_count": null,
   "id": "9da9c43a-2293-470a-9ec0-c8a2a396eff2",
   "metadata": {},
   "outputs": [],
   "source": []
  },
  {
   "cell_type": "code",
   "execution_count": null,
   "id": "0e2ce4b5-7d3a-4984-97e9-3d70d0839c6c",
   "metadata": {},
   "outputs": [],
   "source": [
    "train_repr = model.encode(X_train_f.astype(np.float64), encoding_window='full_series')  # n_instances x output_dims\n",
    "test_repr = model.encode(X_test_f.astype(np.float64), encoding_window='full_series')  # n_instances x output_dims"
   ]
  },
  {
   "cell_type": "code",
   "execution_count": null,
   "id": "16a43f3c-2c6e-4b73-bab4-ee815fdbc3cb",
   "metadata": {},
   "outputs": [],
   "source": [
    "import umap\n",
    "reducer = umap.UMAP(n_components = 2)\n",
    "\n",
    "# reducer.fit(train_repr, y=y_train)\n",
    "reducer.fit(train_repr)"
   ]
  },
  {
   "cell_type": "code",
   "execution_count": null,
   "id": "5bd2bb9a-ac01-49b8-b3bf-770e01a3a3ff",
   "metadata": {},
   "outputs": [],
   "source": [
    "train_coords = reducer.transform(train_repr)\n",
    "test_coords = reducer.transform(test_repr)"
   ]
  },
  {
   "cell_type": "code",
   "execution_count": null,
   "id": "07febbce-75a3-40de-b858-62d5c7acdbe7",
   "metadata": {},
   "outputs": [],
   "source": [
    "import matplotlib.pyplot as plt\n",
    "\n",
    "plt.scatter(train_coords[:, 0], train_coords[:, 1], c = y_train, cmap='jet')\n"
   ]
  },
  {
   "cell_type": "code",
   "execution_count": null,
   "id": "7e2991b7-939f-4fd1-8769-5d39122f6e23",
   "metadata": {},
   "outputs": [],
   "source": [
    "plt.scatter(test_coords[:, 0], test_coords[:, 1], c = y_test, cmap='jet')"
   ]
  },
  {
   "cell_type": "code",
   "execution_count": null,
   "id": "ce5fcdf7-471c-48c6-a1f1-b2aceadc0f58",
   "metadata": {},
   "outputs": [],
   "source": []
  },
  {
   "cell_type": "code",
   "execution_count": null,
   "id": "02648409-e41b-437d-8d32-83e99404b59e",
   "metadata": {},
   "outputs": [],
   "source": []
  },
  {
   "cell_type": "code",
   "execution_count": null,
   "id": "e9fe9db2-719a-46c8-accd-04b1f90d6310",
   "metadata": {},
   "outputs": [],
   "source": [
    "from source.classifiers import  lstm_classification\n",
    "\n",
    "train_pred, test_pred, validation_pred =  lstm_classification(X_train_f, y_train, X_test_f, y_test, X_validation_f, y_validation, dimensions, 'har-lstm2', batch_size = 64, n_epochs=120)"
   ]
  },
  {
   "cell_type": "code",
   "execution_count": null,
   "id": "9933b5ec-b901-47bf-90b2-f85abc17f3c1",
   "metadata": {},
   "outputs": [],
   "source": [
    "from source.utils import save_metrics\n",
    "\n",
    "labels_map = {}\n",
    "labels_map['lstm'] = [y_train, train_pred, y_test, test_pred, y_validation, validation_pred]\n",
    "\n",
    "save_metrics(labels_map, \"metrics_lstm.csv\")"
   ]
  },
  {
   "cell_type": "code",
   "execution_count": 23,
   "id": "dc975344-a8a1-40e7-88d3-8db69267812d",
   "metadata": {},
   "outputs": [
    {
     "data": {
      "text/plain": [
       "array([[0.],\n",
       "       [0.],\n",
       "       [0.],\n",
       "       [0.],\n",
       "       [0.],\n",
       "       [0.],\n",
       "       [0.],\n",
       "       [0.],\n",
       "       [0.],\n",
       "       [0.],\n",
       "       [0.],\n",
       "       [0.],\n",
       "       [0.],\n",
       "       [0.],\n",
       "       [0.],\n",
       "       [0.],\n",
       "       [0.],\n",
       "       [0.],\n",
       "       [0.],\n",
       "       [0.]])"
      ]
     },
     "execution_count": 23,
     "metadata": {},
     "output_type": "execute_result"
    }
   ],
   "source": [
    "# test_pred[360:380]\n",
    "# test_pred[360:380]\n",
    "# y_test[320:340]"
   ]
  },
  {
   "cell_type": "code",
   "execution_count": null,
   "id": "8a366acb-0c69-4f40-b1eb-3c54f5eea45c",
   "metadata": {},
   "outputs": [],
   "source": []
  }
 ],
 "metadata": {
  "kernelspec": {
   "display_name": "Python 3 (ipykernel)",
   "language": "python",
   "name": "python3"
  },
  "language_info": {
   "codemirror_mode": {
    "name": "ipython",
    "version": 3
   },
   "file_extension": ".py",
   "mimetype": "text/x-python",
   "name": "python",
   "nbconvert_exporter": "python",
   "pygments_lexer": "ipython3",
   "version": "3.10.4"
  }
 },
 "nbformat": 4,
 "nbformat_minor": 5
}
