{
 "cells": [
  {
   "cell_type": "code",
   "execution_count": 17,
   "metadata": {},
   "outputs": [
    {
     "name": "stdout",
     "output_type": "stream",
     "text": [
      "The autoreload extension is already loaded. To reload it, use:\n",
      "  %reload_ext autoreload\n"
     ]
    }
   ],
   "source": [
    "%load_ext autoreload\n",
    "%autoreload 2\n",
    "import numpy as np\n",
    "from source.read_HAR_dataset import DatasetHARUML20\n",
    "from source.read_pamap2 import DatasetPAMAP2\n",
    "from source.read_open_dataset import DatasetOpenDataset, openDatasetParticipants\n",
    "from source.tserie import TSerie\n",
    "from source.models.manifold.umap_fl import UMAP_FL\n",
    "from sklearn import metrics\n",
    "from xgboost import XGBClassifier\n",
    "from source.utils import MetricsSaver, saveConfusionMatrix\n",
    "from sklearn.metrics import confusion_matrix, ConfusionMatrixDisplay"
   ]
  },
  {
   "cell_type": "code",
   "execution_count": 18,
   "metadata": {},
   "outputs": [],
   "source": [
    "datasetName = 'OpenDataset' # PAMAP2 or HAR-UML20 or OpenDataset\n",
    "EXP_NAME = 'intensity_bias_custom'\n",
    "CLASS_LABELS = ['Sedentary', 'Light', 'Moderate', 'Vigorous']\n",
    "FEATURE_SIZE = 32\n",
    "UMAP_NEIGHTBORS = 20\n",
    "N_EPOCHS = 2000\n",
    "RESULTS_PATH = 'results'\n",
    "USE_PERSONAL_DATA = False"
   ]
  },
  {
   "cell_type": "code",
   "execution_count": 19,
   "metadata": {},
   "outputs": [],
   "source": [
    "participants  = openDatasetParticipants()\n",
    "# participants.describe()\n"
   ]
  },
  {
   "cell_type": "code",
   "execution_count": 20,
   "metadata": {},
   "outputs": [],
   "source": [
    "# old_users\n",
    "# old_users = participants[participants.Edad < 30].Id.tolist()\n",
    "# young_users = participants[participants.Edad > 60].Id.tolist()\n",
    "\n",
    "old_users = participants[participants.Peso > 80].Id.tolist()\n",
    "\n",
    "young_users = participants[participants.Peso < 60].Id.tolist()\n",
    "# young_users"
   ]
  },
  {
   "cell_type": "code",
   "execution_count": 21,
   "metadata": {},
   "outputs": [
    {
     "name": "stdout",
     "output_type": "stream",
     "text": [
      "[103, 104, 112, 113]\n",
      "[109, 110]\n"
     ]
    }
   ],
   "source": [
    "\n",
    "old_users = participants[participants.Edad < 30].Id.tolist()\n",
    "young_users = participants[participants.Edad > 60].Id.tolist()\n",
    "\n",
    "# old_users\n",
    "# young_users\n",
    "\n",
    "# target = young_users\n",
    "\n",
    "old_users = old_users[:-2]\n",
    "young_users = young_users[:-2]\n",
    "\n",
    "print(old_users)\n",
    "print(young_users)\n",
    "\n",
    "fold_names = ['old', 'young']"
   ]
  },
  {
   "cell_type": "code",
   "execution_count": 22,
   "metadata": {},
   "outputs": [],
   "source": [
    "dataset = DatasetOpenDataset(mode = 'custom', folds = [old_users, young_users])\n",
    "\n",
    "users = [str(user) for user in dataset.users]\n",
    "save_name = datasetName + '_' + EXP_NAME\n",
    "saver = MetricsSaver(save_name, rows = fold_names, cols=['F1-score', 'Balanced Accuracy', 'Accuracy'])\n",
    "activities = ['caminando;', 'parado;']\n",
    "\n",
    "signals = ['accelerometer_x', 'accelerometer_y', 'accelerometer_z']\n",
    "\n",
    "# signals = ['heart_rate']"
   ]
  },
  {
   "cell_type": "code",
   "execution_count": 23,
   "metadata": {},
   "outputs": [],
   "source": [
    "predicted_classes = []\n",
    "real_classes = []\n",
    "count = 0\n",
    "while dataset.loadData(activities=activities):\n",
    "    \n",
    "    dataset.filterSignals(signals)\n",
    "    \n",
    "    # Preparing data\n",
    "    ts_train = TSerie(dataset.X_train, dataset.Int_train)\n",
    "    ts_test = TSerie(dataset.X_test, dataset.Int_test)\n",
    "    # ts_train.center()\n",
    "    # ts_test.center()\n",
    "    ts_train.folding_features_v2()\n",
    "    ts_test.folding_features_v2()\n",
    "    \n",
    "    \n",
    "    # Getting features\n",
    "    model = UMAP_FL(n_components=FEATURE_SIZE,n_neighbors=UMAP_NEIGHTBORS, n_epochs=N_EPOCHS)\n",
    "    ts_train.features = model.fit_transform(ts_train.features, y=ts_train.y)\n",
    "    ts_test.features = model.transform(ts_test.features)\n",
    "    \n",
    "    heights_train = np.array([\n",
    "        # [info.iloc[idx - 1].Height, info.iloc[idx - 1].Weight, info.iloc[idx - 1].Age, info.iloc[idx - 1]['Subject ID']]\n",
    "        # [info.iloc[idx - 1].Height, info.iloc[idx - 1].Weight, info.iloc[idx - 1].Age]\n",
    "        # [info.iloc[idx - 1].Height, info.iloc[idx - 1].Weight]\n",
    "        [participants.iloc[idx - 101].Estatura, participants.iloc[idx - 101].Peso, participants.iloc[idx - 101].Cintura, participants.iloc[idx - 101].Edad]\n",
    "        # [participants.iloc[idx - 101].Estatura, participants.iloc[idx - 101].Peso, participants.iloc[idx - 101].Cintura]\n",
    "        # [participants.iloc[idx - 101].Estatura, participants.iloc[idx - 101].Peso, participants.iloc[idx - 101].Cintura, participants.iloc[idx - 101].Genero == 'Masculino ']\n",
    "        # [ participants.iloc[idx - 101].Peso, participants.iloc[idx - 101].Cintura]\n",
    "        # [participants.iloc[idx - 101].Edad]\n",
    "        for idx in dataset.I_train\n",
    "    ])\n",
    "    \n",
    "    heights_test = np.array([\n",
    "        # [info.iloc[idx - 1].Height, info.iloc[idx - 1].Weight, info.iloc[idx - 1].Age, info.iloc[idx - 1]['Subject ID']]\n",
    "        # [info.iloc[idx - 1].Height, info.iloc[idx - 1].Weight, info.iloc[idx - 1].Age]\n",
    "        # [info.iloc[idx - 1].Height, info.iloc[idx - 1].Weight]\n",
    "        [participants.iloc[idx - 101].Estatura, participants.iloc[idx - 101].Peso, participants.iloc[idx - 101].Cintura, participants.iloc[idx - 101].Edad]\n",
    "        # [participants.iloc[idx - 101].Estatura, participants.iloc[idx - 101].Peso, participants.iloc[idx - 101].Cintura]\n",
    "        # [participants.iloc[idx - 101].Estatura, participants.iloc[idx - 101].Peso, participants.iloc[idx - 101].Cintura, participants.iloc[idx - 101].Genero == 'Masculino ']\n",
    "        # [ participants.iloc[idx - 101].Peso, participants.iloc[idx - 101].Cintura]\n",
    "        # [participants.iloc[idx - 101].Edad]\n",
    "        for idx in dataset.I_test\n",
    "    ])\n",
    "    \n",
    "    if USE_PERSONAL_DATA:\n",
    "        ts_train.features = np.concatenate([ts_train.features, heights_train], axis = 1)\n",
    "        ts_test.features = np.concatenate([ts_test.features, heights_test], axis = 1)\n",
    "\n",
    "    \n",
    "    \n",
    "    # Classifying\n",
    "    clf = XGBClassifier(tree_method='gpu_hist', predictor='gpu_predictor')\n",
    "    clf.fit(ts_train.features, ts_train.y)\n",
    "    train_pr = clf.predict(ts_train.features)\n",
    "    test_pr = clf.predict(ts_test.features)\n",
    "    predicted_classes.append(test_pr)\n",
    "    real_classes.append(ts_test.y)\n",
    "\n",
    "\n",
    "    # Save metrics\n",
    "    train_f1 = metrics.f1_score(ts_train.y, train_pr, average='weighted')\n",
    "    test_f1 = metrics.f1_score(ts_test.y, test_pr, average='weighted')\n",
    "    train_bacc = metrics.balanced_accuracy_score(ts_train.y, train_pr)\n",
    "    test_bacc = metrics.balanced_accuracy_score(ts_test.y, test_pr)\n",
    "    train_acc = metrics.accuracy_score(ts_train.y, train_pr)\n",
    "    test_acc = metrics.accuracy_score(ts_test.y, test_pr)\n",
    "    \n",
    "    fold = fold_names[count]\n",
    "    \n",
    "    saver.addLog(fold, 'F1-score', test_f1)\n",
    "    saver.addLog(fold, 'Balanced Accuracy', test_bacc)\n",
    "    saver.addLog(fold, 'Accuracy', test_acc)\n",
    "    count = count + 1\n",
    "    \n",
    "    \n",
    "    \n",
    "predicted_classes = np.concatenate(predicted_classes, axis = 0)\n",
    "real_classes = np.concatenate(real_classes, axis = 0)"
   ]
  },
  {
   "cell_type": "code",
   "execution_count": 24,
   "metadata": {},
   "outputs": [
    {
     "data": {
      "image/png": "[encoded data removed]",
      "text/plain": [
       "<Figure size 700x200 with 1 Axes>"
      ]
     },
     "metadata": {},
     "output_type": "display_data"
    }
   ],
   "source": [
    "saver.toImage()"
   ]
  },
  {
   "cell_type": "code",
   "execution_count": null,
   "metadata": {},
   "outputs": [],
   "source": []
  }
 ],
 "metadata": {
  "kernelspec": {
   "display_name": "Python 3.8.13 ('cuml-torch')",
   "language": "python",
   "name": "python3"
  },
  "language_info": {
   "codemirror_mode": {
    "name": "ipython",
    "version": 3
   },
   "file_extension": ".py",
   "mimetype": "text/x-python",
   "name": "python",
   "nbconvert_exporter": "python",
   "pygments_lexer": "ipython3",
   "version": "3.8.13"
  },
  "orig_nbformat": 4,
  "vscode": {
   "interpreter": {
    "hash": "16ac00c0aae14b2c47d32d44577e6834b4fabf6d4eb1a3c4b23cc5fc30cd0339"
   }
  }
 },
 "nbformat": 4,
 "nbformat_minor": 2
}
