{
 "cells": [
  {
   "cell_type": "code",
   "execution_count": 1,
   "metadata": {},
   "outputs": [],
   "source": [
    "%load_ext autoreload\n",
    "%autoreload 2\n",
    "import numpy as np\n",
    "from source.read_extrasensory import readMagGyr"
   ]
  },
  {
   "cell_type": "code",
   "execution_count": 5,
   "metadata": {},
   "outputs": [],
   "source": [
    "X, y, I, Int, features, dimensions, intensities = readMagGyr()"
   ]
  },
  {
   "cell_type": "code",
   "execution_count": 6,
   "metadata": {},
   "outputs": [],
   "source": [
    "X = X.transpose([0, 2, 1])"
   ]
  },
  {
   "cell_type": "code",
   "execution_count": 7,
   "metadata": {},
   "outputs": [],
   "source": [
    "def idsStd(ids, X, I):\n",
    "    D = X.shape[2]\n",
    "    ind_std = []\n",
    "    for ind in ids:\n",
    "        X_indices = np.where(I==ind)\n",
    "        stdss = []\n",
    "        for k in range(D):\n",
    "            dstd = np.std( X[X_indices][:, :, k])\n",
    "            stdss.append(dstd)\n",
    "        ind_std.append(stdss)\n",
    "    ind_std = np.array(ind_std)\n",
    "    return ind_std\n",
    "\n",
    "\n",
    "align_x = True\n",
    "ids_train = np.unique(I)\n",
    "\n",
    "X_train = X\n",
    "I_train = I\n",
    "\n",
    "ind_std_train = idsStd(ids_train , X_train, I_train)\n",
    "if align_x:\n",
    "    N_tr, T, D = X_train.shape\n",
    "    X_train_sh = np.zeros(X_train.shape)\n",
    "    for i in range(N_tr):\n",
    "        for k in range(D):\n",
    "            mag = np.mean(X_train[i, :, k], axis = 0)\n",
    "            indice = np.where(ids_train ==  I_train[i])[0][0]\n",
    "            std = ind_std_train[indice][k] * 6\n",
    "            X_train_sh[i, :, k] = (X_train[i, :, k] - mag) / std\n",
    "\n",
    "else:\n",
    "    X_train_sh = np.copy(X_train)\n",
    "\n",
    "X = X_train_sh"
   ]
  },
  {
   "cell_type": "code",
   "execution_count": 9,
   "metadata": {},
   "outputs": [
    {
     "name": "stdout",
     "output_type": "stream",
     "text": [
      "(14000, 80, 6)\n"
     ]
    }
   ],
   "source": [
    "def filter_dimensions(X, all_dimensions, dimensions):\n",
    "    idx = [np.where(all_dimensions == dim)[0][0] for dim in dimensions]\n",
    "    return X[:, :, idx]\n",
    "\n",
    "def folding_v2(X):\n",
    "    N, T, D = X.shape\n",
    "    X_f = np.zeros((N, D * T))\n",
    "    for n in range(N):\n",
    "        for t in range(T):\n",
    "            for d in range(D):\n",
    "                X_f[n, D * t + d] = X[n, t, d]\n",
    "    return X_f\n",
    "\n",
    "print(X.shape)\n",
    "\n",
    "X_f = filter_dimensions(X, dimensions, np.array(['gyr_x', 'gyr_y', 'gyr_z']))\n",
    "# print(X.shape)\n",
    "# print(X_f.shape)\n",
    "# features = folding_v2(X_f)\n",
    "# print(features.shape)\n",
    "# X_f = X_f.transpose([0, 2, 1])\n"
   ]
  },
  {
   "cell_type": "code",
   "execution_count": 15,
   "metadata": {},
   "outputs": [
    {
     "data": {
      "text/plain": [
       "(14000, 80, 3)"
      ]
     },
     "execution_count": 15,
     "metadata": {},
     "output_type": "execute_result"
    }
   ],
   "source": [
    "# X_f = X_f.transpose([0, 2, 1])\n",
    "X_f.shape"
   ]
  },
  {
   "cell_type": "code",
   "execution_count": 10,
   "metadata": {},
   "outputs": [],
   "source": [
    "# N, D, T = X_f.shape\n",
    "# for n in range(N):\n",
    "#     for d in range(D):\n",
    "#         X_f[n, d, :] = X_f[n, d, :] - X_f[n, d, :].mean()\n",
    "        \n",
    "features = folding_v2(X_f)"
   ]
  },
  {
   "cell_type": "code",
   "execution_count": 11,
   "metadata": {},
   "outputs": [
    {
     "data": {
      "text/plain": [
       "(14000, 240)"
      ]
     },
     "execution_count": 11,
     "metadata": {},
     "output_type": "execute_result"
    }
   ],
   "source": [
    "features.shape"
   ]
  },
  {
   "cell_type": "code",
   "execution_count": 12,
   "metadata": {},
   "outputs": [
    {
     "name": "stderr",
     "output_type": "stream",
     "text": [
      "/home/texs/anaconda3/envs/contrastive/lib/python3.10/site-packages/tqdm/auto.py:22: TqdmWarning: IProgress not found. Please update jupyter and ipywidgets. See https://ipywidgets.readthedocs.io/en/stable/user_install.html\n",
      "  from .autonotebook import tqdm as notebook_tqdm\n",
      "OMP: Info #276: omp_set_nested routine deprecated, please use omp_set_max_active_levels instead.\n"
     ]
    }
   ],
   "source": [
    "import umap\n",
    "\n",
    "reducer = umap.UMAP(n_components=2, metric='braycurtis')\n",
    "coords = reducer.fit_transform(features, y=y)"
   ]
  },
  {
   "cell_type": "code",
   "execution_count": 13,
   "metadata": {},
   "outputs": [],
   "source": [
    "import sys\n",
    "sys.path.insert(0, '/home/texs/Documentos/Repositories/mts_viz')\n",
    "\n",
    "from server.source.storage import MTSStorage"
   ]
  },
  {
   "cell_type": "code",
   "execution_count": 16,
   "metadata": {},
   "outputs": [],
   "source": [
    "storage = MTSStorage('extraSensory')\n",
    "storage.load()\n",
    "\n",
    "participants_map = {ind: str(ind) for ind in np.unique(I)}\n",
    "intensities_map = {i: intensities[i] for i in range(len(intensities))}\n",
    "\n",
    "\n",
    "activities = ['LYING_DOWN', 'SITTING', 'STANDING_IN_PLACE', 'STANDING_AND_MOVING', 'WALKING', 'RUNNING', 'BICYCLING']\n",
    "activities_map = {i: activities[i] for i in range(len(activities))}\n",
    "\n",
    "storage.add_mts(\n",
    "    'gyr_mag', X_f, \n",
    "    # dimensions, \n",
    "    ['gyr_x', 'gyr_y', 'gyr_z'],\n",
    "    coords={'umap': coords}, \n",
    "    labels={'activities': y, 'participants': I, 'intensity': Int}, \n",
    "    labelsNames={'activities': activities_map, 'participants': participants_map, 'intensity': intensities_map},\n",
    "    sampling = True,\n",
    "    n_samples = 1000\n",
    ")\n",
    "storage.save()"
   ]
  },
  {
   "cell_type": "code",
   "execution_count": null,
   "metadata": {},
   "outputs": [],
   "source": []
  },
  {
   "cell_type": "code",
   "execution_count": null,
   "metadata": {},
   "outputs": [],
   "source": []
  }
 ],
 "metadata": {
  "kernelspec": {
   "display_name": "Python 3.10.4 ('contrastive')",
   "language": "python",
   "name": "python3"
  },
  "language_info": {
   "codemirror_mode": {
    "name": "ipython",
    "version": 3
   },
   "file_extension": ".py",
   "mimetype": "text/x-python",
   "name": "python",
   "nbconvert_exporter": "python",
   "pygments_lexer": "ipython3",
   "version": "3.10.4"
  },
  "orig_nbformat": 4,
  "vscode": {
   "interpreter": {
    "hash": "af38bbb6e377e6d688e9d49e963edf808fac73a4ecd279c84061bb0d9783d83c"
   }
  }
 },
 "nbformat": 4,
 "nbformat_minor": 2
}
