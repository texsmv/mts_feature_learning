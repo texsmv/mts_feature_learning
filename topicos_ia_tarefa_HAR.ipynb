{
 "cells": [
  {
   "cell_type": "code",
   "execution_count": 354,
   "metadata": {},
   "outputs": [
    {
     "name": "stdout",
     "output_type": "stream",
     "text": [
      "The autoreload extension is already loaded. To reload it, use:\n",
      "  %reload_ext autoreload\n"
     ]
    }
   ],
   "source": [
    "%load_ext autoreload\n",
    "%autoreload 2\n",
    "import numpy as np\n",
    "from xgboost import XGBClassifier\n",
    "from sklearn import metrics\n",
    "import seaborn as sns\n",
    "from sklearn.discriminant_analysis import LinearDiscriminantAnalysis\n",
    "\n",
    "from source.read_open_dataset import DatasetOpenDataset, openDatasetParticipants\n",
    "from source.read_HAR_dataset import DatasetHARUML20\n",
    "from source.read_pamap2 import DatasetPAMAP2\n",
    "from source.tserie import TSerie\n",
    "from source.models.manifold.umap_fl import UMAP_FL\n",
    "\n",
    "FEATURE_SIZE = 16\n",
    "UMAP_NEIGHTBORS = 15\n",
    "N_EPOCHS = 2000\n",
    "CLASS_LABELS = ['Sedentary', 'Light']"
   ]
  },
  {
   "cell_type": "markdown",
   "metadata": {},
   "source": [
    "# Reading the dataset"
   ]
  },
  {
   "cell_type": "code",
   "execution_count": 355,
   "metadata": {},
   "outputs": [],
   "source": [
    "# dataset = DatasetHARUML20(mode='leave-one-subject')\n",
    "dataset = DatasetPAMAP2(mode='leave-one-subject')\n",
    "\n",
    "dataset.loadData()\n",
    "\n",
    "dataset.Int_train[dataset.Int_train==2] = 1\n",
    "dataset.Int_train[dataset.Int_train==3] = 1\n",
    "\n",
    "dataset.Int_test[dataset.Int_test==2] = 1\n",
    "dataset.Int_test[dataset.Int_test==3] = 1\n",
    "\n",
    "# dataset.Int_train[dataset.Int_train==1] = 4\n",
    "# dataset.Int_train[dataset.Int_train==0] = 1\n",
    "# dataset.Int_train[dataset.Int_train==2] = 1\n",
    "# dataset.Int_train[dataset.Int_train==3] = 1\n",
    "# dataset.Int_train[dataset.Int_train==4] = 0\n",
    "\n",
    "# dataset.Int_test[dataset.Int_test==1] = 4\n",
    "# dataset.Int_test[dataset.Int_test==0] = 1\n",
    "# dataset.Int_test[dataset.Int_test==2] = 1\n",
    "# dataset.Int_test[dataset.Int_test==3] = 1\n",
    "# dataset.Int_test[dataset.Int_test==4] = 0\n",
    "\n",
    "\n",
    "\n",
    "# dataset.Int_train[dataset.Int_train==1] = 0\n",
    "# dataset.Int_train[dataset.Int_train==2] = 0\n",
    "# dataset.Int_train[dataset.Int_train==3] = 1\n",
    "\n",
    "# dataset.Int_test[dataset.Int_test==1] = 0\n",
    "# dataset.Int_test[dataset.Int_test==2] = 0\n",
    "# dataset.Int_test[dataset.Int_test==3] = 1"
   ]
  },
  {
   "cell_type": "code",
   "execution_count": 356,
   "metadata": {},
   "outputs": [
    {
     "name": "stdout",
     "output_type": "stream",
     "text": [
      "Unique Labels (intensities): [0. 1.]\n",
      "Signals: ['handAcc16_1', 'handAcc16_2', 'handAcc16_3', 'handAcc6_1', 'handAcc6_2', 'handAcc6_3', 'handGyro1', 'handGyro2', 'handGyro3', 'handMagne1', 'handMagne2', 'handMagne3']\n",
      "Sedentary windows: 2295  Light windows: 3879\n"
     ]
    }
   ],
   "source": [
    "print('Unique Labels (intensities): {}'.format(np.unique(dataset.Int_train)))\n",
    "print('Signals: {}'.format(dataset.signals))\n",
    "print('Sedentary windows: {}  Light windows: {}'.format(len(dataset.Int_train[dataset.Int_train == 0]), len(dataset.Int_train[dataset.Int_train == 1])))"
   ]
  },
  {
   "cell_type": "markdown",
   "metadata": {},
   "source": [
    "# Data preparation"
   ]
  },
  {
   "cell_type": "code",
   "execution_count": 357,
   "metadata": {},
   "outputs": [],
   "source": [
    "# Preparing data\n",
    "ts_train = TSerie(dataset.X_train[:,:,:3], dataset.Int_train)\n",
    "ts_test = TSerie(dataset.X_test[:,:,:3], dataset.Int_test)\n",
    "\n",
    "ts_train.center()\n",
    "ts_test.center()\n",
    "\n",
    "ts_train.folding_features_v2()\n",
    "ts_test.folding_features_v2()"
   ]
  },
  {
   "cell_type": "markdown",
   "metadata": {},
   "source": [
    "# Engenharia de features"
   ]
  },
  {
   "cell_type": "code",
   "execution_count": 358,
   "metadata": {},
   "outputs": [],
   "source": [
    "\n",
    "# Getting features\n",
    "model = UMAP_FL(n_components=FEATURE_SIZE,n_neighbors=UMAP_NEIGHTBORS, n_epochs=N_EPOCHS)\n",
    "ts_train.features = model.fit_transform(ts_train.features, y=ts_train.y)\n",
    "ts_test.features = model.transform(ts_test.features)"
   ]
  },
  {
   "cell_type": "code",
   "execution_count": 359,
   "metadata": {},
   "outputs": [],
   "source": [
    "\n",
    "# Getting features\n",
    "model_vis = UMAP_FL(n_components=2,n_neighbors=UMAP_NEIGHTBORS, n_epochs=N_EPOCHS)\n",
    "train_proj = model_vis.fit_transform(ts_train.features)\n",
    "test_proj = model_vis.transform(ts_test.features)"
   ]
  },
  {
   "cell_type": "code",
   "execution_count": 360,
   "metadata": {},
   "outputs": [
    {
     "data": {
      "text/plain": [
       "<matplotlib.collections.PathCollection at 0x7f8ab6cc8510>"
      ]
     },
     "execution_count": 360,
     "metadata": {},
     "output_type": "execute_result"
    },
    {
     "data": {
      "image/png": "[encoded data removed]",
      "text/plain": [
       "<Figure size 432x288 with 1 Axes>"
      ]
     },
     "metadata": {
      "needs_background": "light"
     },
     "output_type": "display_data"
    }
   ],
   "source": [
    "import matplotlib.pyplot as plt\n",
    "\n",
    "plt.scatter(train_proj[:,0], train_proj[:,1], c = ts_train.y, cmap='jet')\n"
   ]
  },
  {
   "cell_type": "code",
   "execution_count": 361,
   "metadata": {},
   "outputs": [
    {
     "data": {
      "text/plain": [
       "<matplotlib.collections.PathCollection at 0x7f8ab6c1ccd0>"
      ]
     },
     "execution_count": 361,
     "metadata": {},
     "output_type": "execute_result"
    },
    {
     "data": {
      "image/png": "[encoded data removed]",
      "text/plain": [
       "<Figure size 432x288 with 1 Axes>"
      ]
     },
     "metadata": {
      "needs_background": "light"
     },
     "output_type": "display_data"
    }
   ],
   "source": [
    "plt.scatter(test_proj[:,0], test_proj[:,1], c = ts_test.y, cmap='jet')"
   ]
  },
  {
   "cell_type": "markdown",
   "metadata": {},
   "source": [
    "## Risk Minimization - SVM"
   ]
  },
  {
   "cell_type": "code",
   "execution_count": 362,
   "metadata": {},
   "outputs": [
    {
     "name": "stdout",
     "output_type": "stream",
     "text": [
      "0.9236673773987207\n"
     ]
    }
   ],
   "source": [
    "from sklearn.svm import SVC\n",
    "\n",
    "clf = SVC(gamma='auto', C=1)\n",
    "# clf = SVC(kernel=\"linear\", C=0.05)\n",
    "\n",
    "clf.fit(ts_train.features, ts_train.y)\n",
    "\n",
    "train_pr = clf.predict(ts_train.features)\n",
    "test_pr = clf.predict(ts_test.features)\n",
    "\n",
    "# print(metrics.classification_report(ts_test.y, test_pr, target_names=CLASS_LABELS))\n",
    "\n",
    "print(metrics.balanced_accuracy_score(ts_test.y, test_pr))"
   ]
  },
  {
   "cell_type": "markdown",
   "metadata": {},
   "source": [
    "## Risk Minimization -  Neural Network model"
   ]
  },
  {
   "cell_type": "code",
   "execution_count": 363,
   "metadata": {},
   "outputs": [
    {
     "name": "stdout",
     "output_type": "stream",
     "text": [
      "0.9236673773987207\n"
     ]
    }
   ],
   "source": [
    "from sklearn.neural_network import MLPClassifier\n",
    "clf = MLPClassifier(random_state=1, max_iter=400)\n",
    "clf.fit(ts_train.features, ts_train.y)\n",
    "\n",
    "train_pr = clf.predict(ts_train.features)\n",
    "test_pr = clf.predict(ts_test.features)\n",
    "\n",
    "# print(metrics.classification_report(ts_test.y, test_pr, target_names=CLASS_LABELS))\n",
    "print(metrics.balanced_accuracy_score(ts_test.y, test_pr))"
   ]
  },
  {
   "cell_type": "markdown",
   "metadata": {},
   "source": [
    "# Straight-forward Classifier\n"
   ]
  },
  {
   "cell_type": "code",
   "execution_count": 364,
   "metadata": {},
   "outputs": [],
   "source": [
    "\n",
    "from sklearn.tree import DecisionTreeClassifier\n",
    "\n",
    "# clf = XGBClassifier(tree_method='gpu_hist', predictor='gpu_predictor')\n",
    "# clf = LinearDiscriminantAnalysis(solver=\"svd\", store_covariance=True)\n",
    "\n",
    "clf = DecisionTreeClassifier(random_state=0)\n",
    "clf.fit(ts_train.features, ts_train.y)\n",
    "\n",
    "\n",
    "train_pr = clf.predict(ts_train.features)\n",
    "test_pr = clf.predict(ts_test.features)"
   ]
  },
  {
   "cell_type": "code",
   "execution_count": 365,
   "metadata": {},
   "outputs": [
    {
     "name": "stdout",
     "output_type": "stream",
     "text": [
      "0.8913036856533658\n"
     ]
    }
   ],
   "source": [
    "# print(metrics.classification_report(ts_test.y, test_pr, target_names=CLASS_LABELS))\n",
    "print(metrics.balanced_accuracy_score(ts_test.y, test_pr))"
   ]
  },
  {
   "cell_type": "markdown",
   "metadata": {},
   "source": [
    "# Plugin - Linear Discriminant Analysis\n"
   ]
  },
  {
   "cell_type": "code",
   "execution_count": 366,
   "metadata": {},
   "outputs": [],
   "source": [
    "from sklearn import metrics\n",
    "from sklearn.discriminant_analysis import LinearDiscriminantAnalysis\n",
    "from sklearn.neighbors import NearestNeighbors\n",
    "from sklearn.ensemble import RandomForestClassifier\n",
    "from sklearn.linear_model import LogisticRegression\n",
    "from sklearn.metrics import plot_confusion_matrix\n",
    "from sklearn.metrics import accuracy_score\n",
    "from sklearn.metrics import balanced_accuracy_score\n",
    "from sklearn.metrics import brier_score_loss\n",
    "from sklearn.model_selection import train_test_split\n"
   ]
  },
  {
   "cell_type": "code",
   "execution_count": 367,
   "metadata": {},
   "outputs": [],
   "source": [
    "X_train = ts_train.features\n",
    "Y_train = ts_train.y\n",
    "\n",
    "x_test = ts_test.features\n",
    "y_test = ts_test.y\n",
    "\n",
    "x_train, x_val, y_train, y_val = train_test_split(X_train, Y_train, test_size=0.1)"
   ]
  },
  {
   "cell_type": "code",
   "execution_count": 368,
   "metadata": {},
   "outputs": [
    {
     "name": "stdout",
     "output_type": "stream",
     "text": [
      "0.9272727272727272\n",
      "0.9236673773987207\n"
     ]
    }
   ],
   "source": [
    "lda = LinearDiscriminantAnalysis(solver=\"svd\")\n",
    "lda.fit(x_train, y_train)\n",
    "\n",
    "y_pred = lda.predict(x_test)\n",
    "print(accuracy_score(y_test, y_pred))\n",
    "print(balanced_accuracy_score(y_test, y_pred))"
   ]
  },
  {
   "cell_type": "code",
   "execution_count": 369,
   "metadata": {},
   "outputs": [
    {
     "name": "stdout",
     "output_type": "stream",
     "text": [
      "0.9272727272727272\n",
      "0.9236673773987207\n"
     ]
    }
   ],
   "source": [
    "lda = LinearDiscriminantAnalysis(solver=\"svd\", shrinkage=None, tol=0.1)\n",
    "lda.fit(x_train, y_train)\n",
    "\n",
    "y_pred = lda.predict(x_test)\n",
    "print(accuracy_score(y_test, y_pred))\n",
    "print(balanced_accuracy_score(y_test, y_pred))"
   ]
  },
  {
   "cell_type": "code",
   "execution_count": 370,
   "metadata": {},
   "outputs": [
    {
     "name": "stdout",
     "output_type": "stream",
     "text": [
      "0.9272727272727272\n",
      "0.9236673773987207\n"
     ]
    }
   ],
   "source": [
    "lda = LinearDiscriminantAnalysis(solver=\"lsqr\", shrinkage=None)\n",
    "lda.fit(x_train, y_train)\n",
    "\n",
    "y_pred = lda.predict(x_test)\n",
    "print(accuracy_score(y_test, y_pred))\n",
    "print(balanced_accuracy_score(y_test, y_pred))"
   ]
  },
  {
   "cell_type": "code",
   "execution_count": 371,
   "metadata": {},
   "outputs": [],
   "source": [
    "def get_pred(test_neigh):\n",
    "  c10 = 1\n",
    "  c01 = 1\n",
    "  p1 = np.mean(y_train)\n",
    "  p0 = 1 - np.mean(y_train)\n",
    "  Lambda = y_train[test_neigh].mean(axis=1)/(1-y_train[test_neigh].mean(axis=1))\n",
    "  eta = (c10*p0)/(c01*p1)\n",
    "  print(eta)\n",
    "\n",
    "  y_pred = (Lambda>eta)*1\n",
    "  return y_pred\n"
   ]
  },
  {
   "cell_type": "code",
   "execution_count": 372,
   "metadata": {},
   "outputs": [
    {
     "name": "stdout",
     "output_type": "stream",
     "text": [
      "0.5956346927053418\n",
      "0.9272727272727272\n",
      "0.9236673773987207\n"
     ]
    },
    {
     "name": "stderr",
     "output_type": "stream",
     "text": [
      "/home/texs/anaconda3/envs/rapidsml/lib/python3.7/site-packages/ipykernel_launcher.py:6: RuntimeWarning: divide by zero encountered in true_divide\n",
      "  \n"
     ]
    }
   ],
   "source": [
    "n_neighbors = 5\n",
    "neigh = NearestNeighbors(algorithm='auto', n_neighbors=n_neighbors, leaf_size=30, metric='minkowski')\n",
    "neigh.fit(x_train)\n",
    "\n",
    "test_neigh = neigh.kneighbors(x_test, n_neighbors, return_distance=False)\n",
    "y_pred = get_pred(test_neigh)\n",
    "\n",
    "print(accuracy_score(y_test, y_pred))\n",
    "print(balanced_accuracy_score(y_test, y_pred))"
   ]
  },
  {
   "cell_type": "code",
   "execution_count": 373,
   "metadata": {},
   "outputs": [
    {
     "name": "stdout",
     "output_type": "stream",
     "text": [
      "0.5956346927053418\n",
      "0.9272727272727272\n",
      "0.9236673773987207\n"
     ]
    },
    {
     "name": "stderr",
     "output_type": "stream",
     "text": [
      "/home/texs/anaconda3/envs/rapidsml/lib/python3.7/site-packages/ipykernel_launcher.py:6: RuntimeWarning: divide by zero encountered in true_divide\n",
      "  \n"
     ]
    }
   ],
   "source": [
    "n_neighbors = 5\n",
    "neigh = NearestNeighbors(algorithm='brute', n_neighbors=n_neighbors, leaf_size=30, metric='minkowski')\n",
    "neigh.fit(x_train)\n",
    "\n",
    "test_neigh = neigh.kneighbors(x_test, n_neighbors, return_distance=False)\n",
    "y_pred = get_pred(test_neigh)\n",
    "\n",
    "print(accuracy_score(y_test, y_pred))\n",
    "print(balanced_accuracy_score(y_test, y_pred))"
   ]
  },
  {
   "cell_type": "code",
   "execution_count": 374,
   "metadata": {},
   "outputs": [
    {
     "name": "stdout",
     "output_type": "stream",
     "text": [
      "0.5956346927053418\n",
      "0.9272727272727272\n",
      "0.9236673773987207\n"
     ]
    },
    {
     "name": "stderr",
     "output_type": "stream",
     "text": [
      "/home/texs/anaconda3/envs/rapidsml/lib/python3.7/site-packages/ipykernel_launcher.py:6: RuntimeWarning: divide by zero encountered in true_divide\n",
      "  \n"
     ]
    }
   ],
   "source": [
    "n_neighbors = 5\n",
    "neigh = NearestNeighbors(algorithm='auto', n_neighbors=n_neighbors, leaf_size=25, metric='minkowski')\n",
    "neigh.fit(x_train)\n",
    "\n",
    "test_neigh = neigh.kneighbors(x_test, n_neighbors, return_distance=False)\n",
    "y_pred = get_pred(test_neigh)\n",
    "\n",
    "print(accuracy_score(y_test, y_pred))\n",
    "print(balanced_accuracy_score(y_test, y_pred))"
   ]
  },
  {
   "cell_type": "code",
   "execution_count": 375,
   "metadata": {},
   "outputs": [
    {
     "name": "stdout",
     "output_type": "stream",
     "text": [
      "0.5956346927053418\n",
      "0.9272727272727272\n",
      "0.9236673773987207\n"
     ]
    },
    {
     "name": "stderr",
     "output_type": "stream",
     "text": [
      "/home/texs/anaconda3/envs/rapidsml/lib/python3.7/site-packages/ipykernel_launcher.py:6: RuntimeWarning: divide by zero encountered in true_divide\n",
      "  \n"
     ]
    }
   ],
   "source": [
    "n_neighbors = 3\n",
    "neigh = NearestNeighbors(algorithm='auto', n_neighbors=n_neighbors, leaf_size=25, metric='manhattan')\n",
    "neigh.fit(x_train)\n",
    "\n",
    "test_neigh = neigh.kneighbors(x_test, n_neighbors, return_distance=False)\n",
    "y_pred = get_pred(test_neigh)\n",
    "\n",
    "print(accuracy_score(y_test, y_pred))\n",
    "print(balanced_accuracy_score(y_test, y_pred))"
   ]
  },
  {
   "cell_type": "code",
   "execution_count": 376,
   "metadata": {},
   "outputs": [
    {
     "name": "stderr",
     "output_type": "stream",
     "text": [
      "/home/texs/anaconda3/envs/rapidsml/lib/python3.7/site-packages/ipykernel_launcher.py:6: RuntimeWarning: divide by zero encountered in true_divide\n",
      "  \n"
     ]
    },
    {
     "name": "stdout",
     "output_type": "stream",
     "text": [
      "0.5956346927053418\n",
      "0.9272727272727272\n",
      "0.9236673773987207\n"
     ]
    }
   ],
   "source": [
    "n_neighbors = 3\n",
    "neigh = NearestNeighbors(algorithm='brute', n_neighbors=n_neighbors, leaf_size=25, metric='manhattan')\n",
    "neigh.fit(x_train)\n",
    "\n",
    "test_neigh = neigh.kneighbors(x_test, n_neighbors, return_distance=False)\n",
    "y_pred = get_pred(test_neigh)\n",
    "\n",
    "print(accuracy_score(y_test, y_pred))\n",
    "print(balanced_accuracy_score(y_test, y_pred))"
   ]
  },
  {
   "cell_type": "code",
   "execution_count": 377,
   "metadata": {},
   "outputs": [
    {
     "name": "stdout",
     "output_type": "stream",
     "text": [
      "0.5956346927053418\n",
      "0.9212121212121213\n",
      "0.9162046908315564\n"
     ]
    },
    {
     "name": "stderr",
     "output_type": "stream",
     "text": [
      "/home/texs/anaconda3/envs/rapidsml/lib/python3.7/site-packages/ipykernel_launcher.py:6: RuntimeWarning: divide by zero encountered in true_divide\n",
      "  \n"
     ]
    }
   ],
   "source": [
    "n_neighbors = 2\n",
    "neigh = NearestNeighbors(algorithm='auto', n_neighbors=n_neighbors, leaf_size=25, metric='cosine')\n",
    "neigh.fit(x_train)\n",
    "\n",
    "test_neigh = neigh.kneighbors(x_test, n_neighbors, return_distance=False)\n",
    "y_pred = get_pred(test_neigh)\n",
    "\n",
    "print(accuracy_score(y_test, y_pred))\n",
    "print(balanced_accuracy_score(y_test, y_pred))"
   ]
  },
  {
   "cell_type": "code",
   "execution_count": 378,
   "metadata": {},
   "outputs": [
    {
     "name": "stdout",
     "output_type": "stream",
     "text": [
      "0.5956346927053418\n",
      "0.9212121212121213\n",
      "0.9162046908315564\n"
     ]
    },
    {
     "name": "stderr",
     "output_type": "stream",
     "text": [
      "/home/texs/anaconda3/envs/rapidsml/lib/python3.7/site-packages/ipykernel_launcher.py:6: RuntimeWarning: divide by zero encountered in true_divide\n",
      "  \n"
     ]
    }
   ],
   "source": [
    "n_neighbors = 2\n",
    "neigh = NearestNeighbors(algorithm='brute', n_neighbors=n_neighbors, leaf_size=25, metric='cosine')\n",
    "neigh.fit(x_train)\n",
    "\n",
    "test_neigh = neigh.kneighbors(x_test, n_neighbors, return_distance=False)\n",
    "y_pred = get_pred(test_neigh)\n",
    "\n",
    "print(accuracy_score(y_test, y_pred))\n",
    "print(balanced_accuracy_score(y_test, y_pred))"
   ]
  },
  {
   "cell_type": "code",
   "execution_count": 379,
   "metadata": {},
   "outputs": [
    {
     "data": {
      "text/plain": [
       "Text(0.5, 1.0, 'rf - test')"
      ]
     },
     "execution_count": 379,
     "metadata": {},
     "output_type": "execute_result"
    },
    {
     "data": {
      "image/png": "[encoded data removed]",
      "text/plain": [
       "<Figure size 1440x288 with 2 Axes>"
      ]
     },
     "metadata": {
      "needs_background": "light"
     },
     "output_type": "display_data"
    }
   ],
   "source": [
    "rf = RandomForestClassifier()    \n",
    "# rf = SVC(probability=True, C=0.01)\n",
    "rf.fit(x_train, y_train)\n",
    "\n",
    "pred_probs_train = rf.predict_proba(x_train)[:,1]\n",
    "pred_probs_test = rf.predict_proba(x_test)[:,1]\n",
    "pred_probs_valid = rf.predict_proba(x_val)[:,1]\n",
    "\n",
    "model_to_probs = {'train': pred_probs_train, 'test': pred_probs_test, 'valid': pred_probs_valid}\n",
    "\n",
    "plt.figure(figsize=(20,4))\n",
    "\n",
    "plt.subplot(1,2,1)\n",
    "sns.histplot(pred_probs_train, kde=True, stat=\"density\", linewidth=0)\n",
    "plt.title(\"rf - train\", fontsize=20)\n",
    "\n",
    "plt.subplot(1,2,2)\n",
    "sns.histplot(pred_probs_test, kde=True, stat=\"density\", linewidth=0)\n",
    "plt.title(\"rf - test\", fontsize=20)"
   ]
  },
  {
   "cell_type": "code",
   "execution_count": 380,
   "metadata": {},
   "outputs": [],
   "source": [
    "# pred_probs"
   ]
  },
  {
   "cell_type": "code",
   "execution_count": null,
   "metadata": {},
   "outputs": [],
   "source": []
  },
  {
   "cell_type": "code",
   "execution_count": 381,
   "metadata": {},
   "outputs": [
    {
     "data": {
      "image/png": "[encoded data removed]",
      "text/plain": [
       "<Figure size 720x288 with 1 Axes>"
      ]
     },
     "metadata": {
      "needs_background": "light"
     },
     "output_type": "display_data"
    }
   ],
   "source": [
    "pred_probs = model_to_probs['test']\n",
    "pred_probs_space = np.linspace(pred_probs.min(), pred_probs.max(), 10)\n",
    "\n",
    "empirical_probs = []\n",
    "pred_probs_midpoints = []\n",
    "\n",
    "for i in range(len(pred_probs_space)-1):\n",
    "    vals = y_test[(pred_probs > pred_probs_space[i]) & (pred_probs < pred_probs_space[i+1])]\n",
    "    # print(vals)\n",
    "    if len(vals) != 0:\n",
    "        empirical_probs.append(np.mean(vals))\n",
    "    else:\n",
    "        empirical_probs.append(0)\n",
    "    pred_probs_midpoints.append((pred_probs_space[i] + pred_probs_space[i+1])/2)\n",
    "\n",
    "plt.figure(figsize=(10,4))\n",
    "plt.plot(pred_probs_midpoints, empirical_probs, linewidth=2, marker='o')\n",
    "plt.title(\"rf\", fontsize=20)\n",
    "plt.xlabel('predicted prob', fontsize=14)\n",
    "plt.ylabel('empirical prob', fontsize=14)\n",
    "\n",
    "plt.plot([0,1],[0,1],linestyle='--',color='gray')\n",
    "plt.legend(['original', 'ideal'], fontsize=20)\n",
    "plt.savefig('empirical.png', bbox_inches='tight')\n",
    "plt.show()"
   ]
  },
  {
   "cell_type": "code",
   "execution_count": 382,
   "metadata": {},
   "outputs": [
    {
     "name": "stdout",
     "output_type": "stream",
     "text": [
      "Brier score of  0.07150307785396035\n"
     ]
    },
    {
     "data": {
      "image/png": "[encoded data removed]",
      "text/plain": [
       "<Figure size 720x288 with 1 Axes>"
      ]
     },
     "metadata": {
      "needs_background": "light"
     },
     "output_type": "display_data"
    }
   ],
   "source": [
    "#train calibration model\n",
    "lr_model = LogisticRegression()\n",
    "lr_model.fit(model_to_probs['test'].reshape(-1,1), y_test)\n",
    "\n",
    "pred_probs = model_to_probs['valid']\n",
    "pred_probs_space = np.linspace(pred_probs.min(), pred_probs.max(), 10)\n",
    "\n",
    "empirical_probs = []\n",
    "pred_probs_midpoints = []\n",
    "\n",
    "for i in range(len(pred_probs_space)-1):\n",
    "    vals = y_val[(pred_probs > pred_probs_space[i]) & (pred_probs < pred_probs_space[i+1])]\n",
    "    if len(vals) != 0:\n",
    "        empirical_probs.append(np.mean(vals))\n",
    "    else:\n",
    "        empirical_probs.append(0)\n",
    "    # empirical_probs.append(np.mean())\n",
    "    pred_probs_midpoints.append((pred_probs_space[i] + pred_probs_space[i+1])/2)\n",
    "\n",
    "calibrated_probs = lr_model.predict_proba(np.array([0.0]+pred_probs_midpoints+[1.0]).reshape(-1,1))[:,1]\n",
    "print('Brier score of ', brier_score_loss(y_test, lr_model.predict_proba(model_to_probs['test'].reshape(-1,1))[:,1]))\n",
    "# print('Balanced score of ', balanced_accuracy_score(y_test, lr_model.predict_proba(model_to_probs['test'].reshape(-1,1))[:,1]))\n",
    "\n",
    "plt.figure(figsize=(10,4))\n",
    "plt.plot(pred_probs_midpoints, empirical_probs, linewidth=2, marker='o')\n",
    "plt.title(\"rf\", fontsize=20)\n",
    "plt.xlabel('predicted prob', fontsize=14)\n",
    "plt.ylabel('empirical prob', fontsize=14)\n",
    "\n",
    "plt.plot([0.0]+pred_probs_midpoints+[1.0], calibrated_probs, linewidth=2, marker='o')\n",
    "plt.plot([0,1],[0,1],linestyle='--',color='gray')\n",
    "\n",
    "plt.legend(['original', 'calibrated', 'ideal'], fontsize=20)\n",
    "plt.savefig('calibration.png', bbox_inches='tight')\n",
    "plt.show()\n",
    "\n",
    "model_str_to_calibrator = lr_model"
   ]
  },
  {
   "cell_type": "code",
   "execution_count": 383,
   "metadata": {},
   "outputs": [],
   "source": [
    "clf = RandomForestClassifier()    \n",
    "clf.fit(x_train, y_train)\n",
    "\n",
    "y_pred = clf.predict(x_test)\n",
    "y_prob = clf.predict_proba(x_test)[:,1]"
   ]
  },
  {
   "cell_type": "code",
   "execution_count": 400,
   "metadata": {},
   "outputs": [],
   "source": [
    "from sklearn.metrics import classification_report, f1_score, accuracy_score, balanced_accuracy_score, precision_score, roc_curve, auc, confusion_matrix\n",
    "\n",
    "c01 = 0.98\n",
    "c10 = 0.02\n",
    "\n",
    "\n",
    "\n",
    "tn, fp, fn, tp = confusion_matrix(y_test, y_pred).ravel()"
   ]
  },
  {
   "cell_type": "code",
   "execution_count": 401,
   "metadata": {},
   "outputs": [
    {
     "name": "stdout",
     "output_type": "stream",
     "text": [
      "Custo total: 28.099999999999998\n"
     ]
    }
   ],
   "source": [
    "print('Custo total:', fn*c01+fp*c10)"
   ]
  },
  {
   "cell_type": "code",
   "execution_count": 402,
   "metadata": {},
   "outputs": [],
   "source": [
    "nu = c10*(1-np.mean(y_test))/(c01*np.mean(y_test))\n",
    "t = nu/(1+nu)"
   ]
  },
  {
   "cell_type": "code",
   "execution_count": 403,
   "metadata": {},
   "outputs": [],
   "source": [
    "t = nu/(1+nu)"
   ]
  },
  {
   "cell_type": "code",
   "execution_count": 404,
   "metadata": {},
   "outputs": [],
   "source": [
    "y_pred_o = y_prob>t"
   ]
  },
  {
   "cell_type": "code",
   "execution_count": 405,
   "metadata": {},
   "outputs": [],
   "source": [
    "tn, fp, fn, tp = confusion_matrix(y_test, y_pred_o).ravel()"
   ]
  },
  {
   "cell_type": "code",
   "execution_count": 406,
   "metadata": {},
   "outputs": [
    {
     "name": "stdout",
     "output_type": "stream",
     "text": [
      "Custo total: 28.580000000000002\n",
      "Falso negativo: 26\n"
     ]
    }
   ],
   "source": [
    "print('Custo total:', fn*c01+fp*c10)\n",
    "# print('Falso negativo:', fn*c01)\n",
    "print('Falso negativo:', fn)"
   ]
  },
  {
   "cell_type": "code",
   "execution_count": null,
   "metadata": {},
   "outputs": [],
   "source": []
  }
 ],
 "metadata": {
  "kernelspec": {
   "display_name": "Python 3.7.10 ('rapidsml')",
   "language": "python",
   "name": "python3"
  },
  "language_info": {
   "codemirror_mode": {
    "name": "ipython",
    "version": 3
   },
   "file_extension": ".py",
   "mimetype": "text/x-python",
   "name": "python",
   "nbconvert_exporter": "python",
   "pygments_lexer": "ipython3",
   "version": "3.7.10"
  },
  "orig_nbformat": 4,
  "vscode": {
   "interpreter": {
    "hash": "4f51f79755ef8f79693022c2238daee50231b90d0a3e393b6e63d90a9477d06f"
   }
  }
 },
 "nbformat": 4,
 "nbformat_minor": 2
}
