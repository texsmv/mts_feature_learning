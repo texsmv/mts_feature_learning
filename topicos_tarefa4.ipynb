{
 "cells": [
  {
   "cell_type": "code",
   "execution_count": 1,
   "metadata": {},
   "outputs": [],
   "source": [
    "%load_ext autoreload\n",
    "%autoreload 2\n",
    "import numpy as np\n",
    "from xgboost import XGBClassifier\n",
    "from sklearn import metrics\n",
    "import seaborn as sns\n",
    "from sklearn.discriminant_analysis import LinearDiscriminantAnalysis\n",
    "\n",
    "from source.read_open_dataset import DatasetOpenDataset, openDatasetParticipants\n",
    "from source.read_HAR_dataset import DatasetHARUML20\n",
    "from source.read_pamap2 import DatasetPAMAP2\n",
    "from source.tserie import TSerie\n",
    "from source.models.manifold.umap_fl import UMAP_FL\n",
    "from sklearn import svm\n",
    "\n",
    "FEATURE_SIZE = 16\n",
    "UMAP_NEIGHTBORS = 15\n",
    "N_EPOCHS = 2000\n",
    "CLASS_LABELS = ['Sedentary', 'Light']"
   ]
  },
  {
   "cell_type": "code",
   "execution_count": 12,
   "metadata": {},
   "outputs": [],
   "source": [
    "dataset = DatasetPAMAP2(mode='leave-one-subject')\n",
    "\n",
    "signals=['handAcc16_1', 'handAcc16_2', 'handAcc16_3']\n",
    "dataset.loadData()\n",
    "\n",
    "dataset.filterSignals(signals)\n"
   ]
  },
  {
   "cell_type": "code",
   "execution_count": 13,
   "metadata": {},
   "outputs": [],
   "source": [
    "info = dataset.participants_info()"
   ]
  },
  {
   "cell_type": "code",
   "execution_count": 35,
   "metadata": {},
   "outputs": [],
   "source": [
    "# print(info.head())\n",
    "heights_train = np.array([\n",
    "    # [info.iloc[idx - 1].Height, info.iloc[idx - 1].Weight, info.iloc[idx - 1].Age, info.iloc[idx - 1]['Subject ID']]\n",
    "    # [info.iloc[idx - 1].Height, info.iloc[idx - 1].Weight, info.iloc[idx - 1].Age]\n",
    "    # [info.iloc[idx - 1].Height, info.iloc[idx - 1].Weight]\n",
    "    [info.iloc[idx - 1].Height]\n",
    "    for idx in dataset.I_train\n",
    "])\n",
    "heights_test = np.array([\n",
    "    # [info.iloc[idx - 1].Height, info.iloc[idx - 1].Weight, info.iloc[idx - 1].Age, info.iloc[idx - 1]['Subject ID']]\n",
    "    # [info.iloc[idx - 1].Height, info.iloc[idx - 1].Weight, info.iloc[idx - 1].Age]\n",
    "    # [info.iloc[idx - 1].Height, info.iloc[idx - 1].Weight]\n",
    "    [info.iloc[idx - 1].Height]\n",
    "    for idx in dataset.I_test\n",
    "])\n",
    "\n",
    "# weigh_train = np.array([info.iloc[idx - 1].Height for idx in dataset.I_train])\n",
    "# heights_test = np.array([info.iloc[idx - 1].Height for idx in dataset.I_test])"
   ]
  },
  {
   "cell_type": "code",
   "execution_count": null,
   "metadata": {},
   "outputs": [],
   "source": []
  },
  {
   "cell_type": "code",
   "execution_count": 36,
   "metadata": {},
   "outputs": [],
   "source": [
    "ts_train = TSerie(dataset.X_train, dataset.Int_train)\n",
    "ts_test = TSerie(dataset.X_test, dataset.Int_test)\n",
    "\n",
    "\n",
    "# ts_train.center()\n",
    "# ts_test.center()\n",
    "\n",
    "ts_train.folding_features_v2()\n",
    "ts_test.folding_features_v2()\n",
    "\n",
    "\n",
    "model = UMAP_FL(n_components=32,n_neighbors=15, n_epochs=2000)\n",
    "train_feat = model.fit_transform(ts_train.features, y=ts_train.y)\n",
    "test_feat = model.transform(ts_test.features)"
   ]
  },
  {
   "cell_type": "code",
   "execution_count": 22,
   "metadata": {},
   "outputs": [
    {
     "data": {
      "text/plain": [
       "(8312, 35)"
      ]
     },
     "execution_count": 22,
     "metadata": {},
     "output_type": "execute_result"
    }
   ],
   "source": [
    "train_feat.shape\n",
    "# heights_train.shape"
   ]
  },
  {
   "cell_type": "code",
   "execution_count": 37,
   "metadata": {},
   "outputs": [],
   "source": [
    "# train_feat = np.concatenate([train_feat, np.expand_dims(heights_train, axis=1)], axis = 1)\n",
    "# test_feat = np.concatenate([test_feat, np.expand_dims(heights_test, axis=1)], axis = 1)\n",
    "train_feat = np.concatenate([train_feat, heights_train], axis = 1)\n",
    "test_feat = np.concatenate([test_feat, heights_test], axis = 1)"
   ]
  },
  {
   "cell_type": "code",
   "execution_count": 38,
   "metadata": {},
   "outputs": [
    {
     "data": {
      "text/plain": [
       "array([2, 2, 2, ..., 8, 8, 8], dtype=int32)"
      ]
     },
     "execution_count": 38,
     "metadata": {},
     "output_type": "execute_result"
    }
   ],
   "source": [
    "dataset.I_train"
   ]
  },
  {
   "cell_type": "code",
   "execution_count": 39,
   "metadata": {},
   "outputs": [
    {
     "name": "stdout",
     "output_type": "stream",
     "text": [
      "0.43772681192621266\n",
      "0.4936094028209468\n"
     ]
    }
   ],
   "source": [
    "# clf = XGBClassifier(tree_method='gpu_hist', predictor='gpu_predictor')\n",
    "clf = svm.SVC()\n",
    "train_y = ts_train.y\n",
    "test_y = ts_test.y\n",
    "clf.fit(train_feat, train_y)\n",
    "train_pr = clf.predict(train_feat)\n",
    "test_pr = clf.predict(test_feat)\n",
    "# predicted_classes.append(test_pr)\n",
    "# real_classes.append(test_y)\n",
    "\n",
    "\n",
    "# Save metrics\n",
    "train_f1 = metrics.f1_score(train_y, train_pr, average='weighted')\n",
    "test_f1 = metrics.f1_score(test_y, test_pr, average='weighted')\n",
    "train_bacc = metrics.balanced_accuracy_score(train_y, train_pr)\n",
    "test_bacc = metrics.balanced_accuracy_score(test_y, test_pr)\n",
    "train_acc = metrics.accuracy_score(train_y, train_pr)\n",
    "test_acc = metrics.accuracy_score(test_y, test_pr)\n",
    "\n",
    "print(test_bacc)\n",
    "print(test_f1)\n",
    "\n",
    "# print(rain_bacc)\n",
    "# print(test_f1)\n",
    "\n",
    "# saver.addLog('train', 'F1-score', train_f1)\n",
    "# saver.addLog('test', 'F1-score', test_f1)\n",
    "# saver.addLog('train', 'Balanced Accuracy', train_bacc)\n",
    "# saver.addLog('test', 'Balanced Accuracy', test_bacc)\n",
    "# saver.addLog('train', 'Accuracy', train_acc)\n",
    "# saver.addLog('test', 'Accuracy', test_acc)"
   ]
  },
  {
   "cell_type": "code",
   "execution_count": 17,
   "metadata": {},
   "outputs": [],
   "source": [
    "X = np.concatenate([train_feat, test_feat], axis = 0)\n",
    "I = np.concatenate([dataset.I_train, dataset.I_test], axis = 0)\n",
    "y = np.concatenate([dataset.y_train, dataset.y_test], axis = 0)\n",
    "Int = np.concatenate([dataset.Int_train, dataset.Int_test], axis = 0)"
   ]
  },
  {
   "cell_type": "code",
   "execution_count": 11,
   "metadata": {},
   "outputs": [],
   "source": [
    "# dataset = {\n",
    "#     'X': X,\n",
    "#     'I': I,\n",
    "#     'y': y,\n",
    "#     'Int': Int,\n",
    "# }\n",
    "\n",
    "# np.save('pamap2_dataset.npy', dataset)"
   ]
  },
  {
   "cell_type": "code",
   "execution_count": null,
   "metadata": {},
   "outputs": [],
   "source": []
  }
 ],
 "metadata": {
  "kernelspec": {
   "display_name": "Python 3.8.13 ('cuml-torch')",
   "language": "python",
   "name": "python3"
  },
  "language_info": {
   "codemirror_mode": {
    "name": "ipython",
    "version": 3
   },
   "file_extension": ".py",
   "mimetype": "text/x-python",
   "name": "python",
   "nbconvert_exporter": "python",
   "pygments_lexer": "ipython3",
   "version": "3.8.13"
  },
  "orig_nbformat": 4,
  "vscode": {
   "interpreter": {
    "hash": "16ac00c0aae14b2c47d32d44577e6834b4fabf6d4eb1a3c4b23cc5fc30cd0339"
   }
  }
 },
 "nbformat": 4,
 "nbformat_minor": 2
}
