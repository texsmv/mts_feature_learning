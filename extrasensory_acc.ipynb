{
 "cells": [
  {
   "cell_type": "code",
   "execution_count": 1,
   "metadata": {},
   "outputs": [],
   "source": [
    "%load_ext autoreload\n",
    "%autoreload 2\n",
    "import numpy as np\n",
    "from source.read_extrasensory import readAcc"
   ]
  },
  {
   "cell_type": "code",
   "execution_count": 2,
   "metadata": {},
   "outputs": [],
   "source": [
    "X, y, dimensions = readAcc()\n",
    "X = X.transpose([0, 2, 1])"
   ]
  },
  {
   "cell_type": "code",
   "execution_count": 13,
   "metadata": {},
   "outputs": [
    {
     "data": {
      "text/plain": [
       "(70000, 100, 3)"
      ]
     },
     "execution_count": 13,
     "metadata": {},
     "output_type": "execute_result"
    }
   ],
   "source": [
    "X.shape"
   ]
  },
  {
   "cell_type": "code",
   "execution_count": 3,
   "metadata": {},
   "outputs": [],
   "source": [
    "def filter_dimensions(X, all_dimensions, dimensions):\n",
    "    idx = [np.where(all_dimensions == dim)[0][0] for dim in dimensions]\n",
    "    return X[:, :, idx]\n",
    "\n",
    "def folding_v2(X):\n",
    "    N, T, D = X.shape\n",
    "    X_f = np.zeros((N, D * T))\n",
    "    for n in range(N):\n",
    "        for t in range(T):\n",
    "            for d in range(D):\n",
    "                X_f[n, D * t + d] = X[n, t, d]\n",
    "    return X_f\n",
    "\n",
    "# print(X.shape)\n",
    "# print(X_f.shape)\n",
    "# features = folding_v2(X_f)\n",
    "# print(features.shape)\n",
    "# X_f = X_f.transpose([0, 2, 1])\n"
   ]
  },
  {
   "cell_type": "code",
   "execution_count": 4,
   "metadata": {},
   "outputs": [
    {
     "data": {
      "text/plain": [
       "(100000, 100, 3)"
      ]
     },
     "execution_count": 4,
     "metadata": {},
     "output_type": "execute_result"
    }
   ],
   "source": [
    "X.shape"
   ]
  },
  {
   "cell_type": "code",
   "execution_count": 5,
   "metadata": {},
   "outputs": [],
   "source": [
    "N, T, D = X.shape\n",
    "for n in range(N):\n",
    "    for d in range(D):\n",
    "        X[n, :, d] = X[n, :, d] - X[n, :, d].mean()\n",
    "        \n",
    "features = folding_v2(X)"
   ]
  },
  {
   "cell_type": "code",
   "execution_count": 6,
   "metadata": {},
   "outputs": [
    {
     "data": {
      "text/plain": [
       "(100000, 300)"
      ]
     },
     "execution_count": 6,
     "metadata": {},
     "output_type": "execute_result"
    }
   ],
   "source": [
    "features.shape"
   ]
  },
  {
   "cell_type": "code",
   "execution_count": 7,
   "metadata": {},
   "outputs": [
    {
     "name": "stderr",
     "output_type": "stream",
     "text": [
      "/home/texs/anaconda3/envs/contrastive/lib/python3.10/site-packages/tqdm/auto.py:22: TqdmWarning: IProgress not found. Please update jupyter and ipywidgets. See https://ipywidgets.readthedocs.io/en/stable/user_install.html\n",
      "  from .autonotebook import tqdm as notebook_tqdm\n",
      "OMP: Info #276: omp_set_nested routine deprecated, please use omp_set_max_active_levels instead.\n"
     ]
    }
   ],
   "source": [
    "import umap\n",
    "\n",
    "reducer = umap.UMAP(n_components=2, metric='braycurtis')\n",
    "# coords = reducer.fit_transform(features)\n",
    "coords = reducer.fit_transform(features, y=y)"
   ]
  },
  {
   "cell_type": "code",
   "execution_count": 8,
   "metadata": {},
   "outputs": [],
   "source": [
    "import sys\n",
    "sys.path.insert(0, '/home/texs/Documentos/Repositories/mts_viz')\n",
    "\n",
    "from server.source.storage import MTSStorage"
   ]
  },
  {
   "cell_type": "code",
   "execution_count": 9,
   "metadata": {},
   "outputs": [
    {
     "data": {
      "text/plain": [
       "array([0, 1, 2, 3, 4, 5, 6, 45, 75, 98, 101, 102], dtype=object)"
      ]
     },
     "execution_count": 9,
     "metadata": {},
     "output_type": "execute_result"
    }
   ],
   "source": [
    "np.unique(y)"
   ]
  },
  {
   "cell_type": "code",
   "execution_count": 10,
   "metadata": {},
   "outputs": [],
   "source": [
    "storage = MTSStorage('extraSensory')\n",
    "storage.load()\n",
    "\n",
    "# activities_map = {act: str(act) for act in np.unique(y)}\n",
    "activities = ['LYING_DOWN', 'SITTING', 'STANDING_IN_PLACE', 'STANDING_AND_MOVING', 'WALKING', 'RUNNING', 'BICYCLING']\n",
    "activities_map = {i: activities[i] for i in range(len(activities))}\n",
    "storage.add_mts(\n",
    "    'acc_bray', X, \n",
    "    dimensions, \n",
    "    coords={'umap': coords}, \n",
    "    labels={'activities': y}, \n",
    "    labelsNames={'activities': activities_map},\n",
    "    sampling = True,\n",
    "    n_samples = 1000\n",
    ")\n",
    "storage.save()"
   ]
  },
  {
   "cell_type": "code",
   "execution_count": 10,
   "metadata": {},
   "outputs": [
    {
     "data": {
      "text/plain": [
       "(70000, 3, 100)"
      ]
     },
     "execution_count": 10,
     "metadata": {},
     "output_type": "execute_result"
    }
   ],
   "source": [
    "X.shape"
   ]
  },
  {
   "cell_type": "code",
   "execution_count": null,
   "metadata": {},
   "outputs": [],
   "source": []
  }
 ],
 "metadata": {
  "kernelspec": {
   "display_name": "Python 3.10.4 ('contrastive')",
   "language": "python",
   "name": "python3"
  },
  "language_info": {
   "codemirror_mode": {
    "name": "ipython",
    "version": 3
   },
   "file_extension": ".py",
   "mimetype": "text/x-python",
   "name": "python",
   "nbconvert_exporter": "python",
   "pygments_lexer": "ipython3",
   "version": "3.10.4"
  },
  "orig_nbformat": 4,
  "vscode": {
   "interpreter": {
    "hash": "af38bbb6e377e6d688e9d49e963edf808fac73a4ecd279c84061bb0d9783d83c"
   }
  }
 },
 "nbformat": 4,
 "nbformat_minor": 2
}
