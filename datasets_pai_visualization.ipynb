{
 "cells": [
  {
   "cell_type": "code",
   "execution_count": 21,
   "metadata": {},
   "outputs": [
    {
     "name": "stdout",
     "output_type": "stream",
     "text": [
      "The autoreload extension is already loaded. To reload it, use:\n",
      "  %reload_ext autoreload\n"
     ]
    }
   ],
   "source": [
    "%load_ext autoreload\n",
    "%autoreload 2\n",
    "import numpy as np\n",
    "from source.read_HAR_dataset import DatasetHARUML20\n",
    "from source.read_pamap2 import DatasetPAMAP2\n",
    "from source.read_open_dataset import DatasetOpenDataset\n",
    "from source.tserie import TSerie\n",
    "from source.models.manifold.umap_fl import UMAP_FL\n",
    "from sklearn import metrics\n",
    "from xgboost import XGBClassifier\n",
    "from source.utils import MetricsSaver, saveConfusionMatrix\n",
    "from sklearn.metrics import confusion_matrix, ConfusionMatrixDisplay\n",
    "from sklearn.preprocessing import LabelEncoder\n",
    "from source.featlearn.simclr import SimClrFL\n",
    "from sklearn import svm\n",
    "from source.utils import minoritySampling\n",
    "from scipy.fft import fft\n",
    "\n",
    "sys.path.append('/home/texs/Documentos/Repositories/ts2vec')\n",
    "from ts2vec import TS2Vec"
   ]
  },
  {
   "cell_type": "code",
   "execution_count": 22,
   "metadata": {},
   "outputs": [],
   "source": [
    "datasetName = 'PAMAP2' # PAMAP2 or HAR-UML20 or OpenDataset\n",
    "FEATURE_SIZE = 32\n",
    "# CLASS_LABELS = ['Sedentary', 'Light', 'Moderate', 'Vigorous']\n",
    "UMAP_NEIGHTBORS = 15\n",
    "N_EPOCHS = 2000\n",
    "RESULTS_PATH = 'results'\n",
    "BALANCE = False\n",
    "USE_ACC_MAGNITUDE = False\n",
    "\n",
    "MODE = 0 # 0 -> UMAP  -  1 -> TS2Vec - 2 -> SimCLR \n",
    "NET_EPOCHS = 7\n"
   ]
  },
  {
   "cell_type": "code",
   "execution_count": 23,
   "metadata": {},
   "outputs": [],
   "source": [
    "\n",
    "\n",
    "if datasetName == 'PAMAP2':\n",
    "    # signals=['handAcc16_1', 'handAcc16_2', 'handAcc16_3', 'handGyro1', 'handGyro2', 'handGyro3']\n",
    "    # acc_signals = ['handAcc16_1', 'handAcc16_2', 'handAcc16_3']\n",
    "    # signals=['handAcc16_1', 'handAcc16_2', 'handAcc16_3',]\n",
    "    # signals=['handAcc16_1', 'handAcc16_2', 'handAcc16_3','heartrate']\n",
    "    signals=['heartrate']\n",
    "    # heartrate\n",
    "    dataset = DatasetPAMAP2(mode = 'leave-one-subject')\n",
    "    \n",
    "elif datasetName ==  'HAR-UML20':\n",
    "    signals = ['Accelerometer-X', 'Accelerometer-Y', 'Accelerometer-Z']\n",
    "    dataset = DatasetHARUML20(mode = 'leave-one-subject')\n",
    "\n",
    "elif datasetName == 'OpenDataset':\n",
    "    # signals = ['accelerometer_x', 'accelerometer_y', 'accelerometer_z', 'heart_rate ']\n",
    "    # signals = ['heart_rate']\n",
    "    # signals = ['accelerometer_x', 'accelerometer_y', 'accelerometer_z']\n",
    "    dataset = DatasetOpenDataset(mode = 'leave-one-subject')\n",
    "    \n",
    "CLASS_LABELS = dataset.intensities\n",
    "if MODE == 0:\n",
    "    MODEL_NAME = 'umap'\n",
    "elif MODE == 1:\n",
    "    MODEL_NAME = 'ts2vec'\n",
    "elif MODE == 2:\n",
    "    MODEL_NAME = 'simclr'\n",
    "\n",
    "\n",
    "saver = MetricsSaver(datasetName + '_PAI_{}'.format(MODEL_NAME), rows = ['train', 'test'], cols=['F1-score', 'Balanced Accuracy', 'Accuracy'])"
   ]
  },
  {
   "cell_type": "code",
   "execution_count": 24,
   "metadata": {},
   "outputs": [
    {
     "name": "stdout",
     "output_type": "stream",
     "text": [
      "['heartrate']\n",
      "['handAcc16_1' 'handAcc16_2' 'handAcc16_3' 'handAcc6_1' 'handAcc6_2'\n",
      " 'handAcc6_3' 'handGyro1' 'handGyro2' 'handGyro3' 'handMagne1'\n",
      " 'handMagne2' 'handMagne3' 'heartrate']\n",
      "['heartrate']\n",
      "['handAcc16_1' 'handAcc16_2' 'handAcc16_3' 'handAcc6_1' 'handAcc6_2'\n",
      " 'handAcc6_3' 'handGyro1' 'handGyro2' 'handGyro3' 'handMagne1'\n",
      " 'handMagne2' 'handMagne3' 'heartrate']\n",
      "['heartrate']\n",
      "['handAcc16_1' 'handAcc16_2' 'handAcc16_3' 'handAcc6_1' 'handAcc6_2'\n",
      " 'handAcc6_3' 'handGyro1' 'handGyro2' 'handGyro3' 'handMagne1'\n",
      " 'handMagne2' 'handMagne3' 'heartrate']\n"
     ]
    },
    {
     "name": "stderr",
     "output_type": "stream",
     "text": [
      "/home/texs/anaconda3/envs/clearn/lib/python3.8/site-packages/sklearn/metrics/_classification.py:2006: UserWarning: y_pred contains classes not in y_true\n",
      "  warnings.warn(\"y_pred contains classes not in y_true\")\n"
     ]
    },
    {
     "name": "stdout",
     "output_type": "stream",
     "text": [
      "['heartrate']\n",
      "['handAcc16_1' 'handAcc16_2' 'handAcc16_3' 'handAcc6_1' 'handAcc6_2'\n",
      " 'handAcc6_3' 'handGyro1' 'handGyro2' 'handGyro3' 'handMagne1'\n",
      " 'handMagne2' 'handMagne3' 'heartrate']\n",
      "['heartrate']\n",
      "['handAcc16_1' 'handAcc16_2' 'handAcc16_3' 'handAcc6_1' 'handAcc6_2'\n",
      " 'handAcc6_3' 'handGyro1' 'handGyro2' 'handGyro3' 'handMagne1'\n",
      " 'handMagne2' 'handMagne3' 'heartrate']\n",
      "['heartrate']\n",
      "['handAcc16_1' 'handAcc16_2' 'handAcc16_3' 'handAcc6_1' 'handAcc6_2'\n",
      " 'handAcc6_3' 'handGyro1' 'handGyro2' 'handGyro3' 'handMagne1'\n",
      " 'handMagne2' 'handMagne3' 'heartrate']\n",
      "['heartrate']\n",
      "['handAcc16_1' 'handAcc16_2' 'handAcc16_3' 'handAcc6_1' 'handAcc6_2'\n",
      " 'handAcc6_3' 'handGyro1' 'handGyro2' 'handGyro3' 'handMagne1'\n",
      " 'handMagne2' 'handMagne3' 'heartrate']\n",
      "['heartrate']\n",
      "['handAcc16_1' 'handAcc16_2' 'handAcc16_3' 'handAcc6_1' 'handAcc6_2'\n",
      " 'handAcc6_3' 'handGyro1' 'handGyro2' 'handGyro3' 'handMagne1'\n",
      " 'handMagne2' 'handMagne3' 'heartrate']\n",
      "['heartrate']\n",
      "['handAcc16_1' 'handAcc16_2' 'handAcc16_3' 'handAcc6_1' 'handAcc6_2'\n",
      " 'handAcc6_3' 'handGyro1' 'handGyro2' 'handGyro3' 'handMagne1'\n",
      " 'handMagne2' 'handMagne3' 'heartrate']\n"
     ]
    },
    {
     "name": "stderr",
     "output_type": "stream",
     "text": [
      "/home/texs/anaconda3/envs/clearn/lib/python3.8/site-packages/sklearn/metrics/_classification.py:2006: UserWarning: y_pred contains classes not in y_true\n",
      "  warnings.warn(\"y_pred contains classes not in y_true\")\n"
     ]
    }
   ],
   "source": [
    "predicted_classes = []\n",
    "real_classes = []\n",
    "while dataset.loadData():\n",
    "    dataset.filterSignals(signals)\n",
    "    \n",
    "    # Preparing data\n",
    "    if BALANCE:\n",
    "        dataset.X_train, dataset.Int_train = minoritySampling(dataset.X_train, dataset.Int_train)\n",
    "    \n",
    "    ts_train = TSerie(dataset.X_train, dataset.Int_train, I = dataset.I_train, dimensions=dataset.signals)\n",
    "    ts_test = TSerie(dataset.X_test, dataset.Int_test, I = dataset.I_test, dimensions=dataset.signals)\n",
    "    \n",
    "    \n",
    "    # ts_train.center(dimensions=acc_signals)\n",
    "    # ts_test.center(dimensions=acc_signals)\n",
    "    \n",
    "    \n",
    "    # minv, maxv = ts_train.minMaxNormalization()\n",
    "    # minv, maxv = ts_test.minMaxNormalization(minl=minv, maxl=maxv)\n",
    "    \n",
    "    \n",
    "    # ts_train.znorm()\n",
    "    # ts_test.znorm()\n",
    "    \n",
    "    if USE_ACC_MAGNITUDE:\n",
    "        ts_train.features =  np.linalg.norm(ts_train.X[:, :, :3], axis=2)\n",
    "        ts_test.features = np.linalg.norm(ts_test.X[:, :, :3], axis=2)\n",
    "        \n",
    "    \n",
    "    if MODE == 0:\n",
    "        if not USE_ACC_MAGNITUDE:\n",
    "            ts_train.folding_features_v2()\n",
    "            ts_test.folding_features_v2()\n",
    "    \n",
    "        # Getting features\n",
    "        model = UMAP_FL(n_components=FEATURE_SIZE,n_neighbors=UMAP_NEIGHTBORS, n_epochs=N_EPOCHS)\n",
    "        ts_train.features = model.fit_transform(ts_train.features, y=ts_train.y)\n",
    "        ts_test.features = model.transform(ts_test.features)\n",
    "    \n",
    "    if MODE == 1:\n",
    "        if USE_ACC_MAGNITUDE:\n",
    "            model = TS2Vec(\n",
    "                input_dims=1,\n",
    "                device=0,\n",
    "                output_dims=64,\n",
    "                batch_size=8,\n",
    "            )\n",
    "            model.fit(ts_train.features, verbose=True,n_epochs = NET_EPOCHS)\n",
    "            ts_train.features = model.encode(ts_train.features, encoding_window='full_series')\n",
    "            ts_test.features = model.encode(ts_test.features, encoding_window='full_series')\n",
    "        else:\n",
    "            model = TS2Vec(\n",
    "                input_dims=ts_train.D,\n",
    "                device=0,\n",
    "                output_dims=64,\n",
    "                batch_size=80,\n",
    "            )\n",
    "            model.fit(ts_train.X, verbose=True,n_epochs = NET_EPOCHS)\n",
    "            ts_train.features = model.encode(ts_train.X, encoding_window='full_series')\n",
    "            ts_test.features = model.encode(ts_test.X, encoding_window='full_series')\n",
    "    elif MODE == 2:\n",
    "        model = SimClrFL(\n",
    "            ts_train.D, \n",
    "            ts_train.T,\n",
    "            encoding_size = 16, \n",
    "            feature_size=128, \n",
    "            filters = [16, 16, 16],\n",
    "            kernels = [3, 3, 3],\n",
    "        )\n",
    "        model.fit(ts_train.X.transpose([0, 2, 1]), \n",
    "                    epochs=20, \n",
    "                    batch_size=32,X_val = ts_test.X.transpose([0, 2, 1]),\n",
    "        )\n",
    "        ts_test.features = model.encode(ts_test.X.transpose([0, 2, 1]))\n",
    "        ts_train.features = model.encode(ts_train.X.transpose([0, 2, 1]))\n",
    "\n",
    "\n",
    "        \n",
    "    # print(ts_train.X.shape)\n",
    "    # print(ts_train.y.shape)\n",
    "    # print(ts_train.features.shape)\n",
    "    \n",
    "    # Classifying\n",
    "    clf = XGBClassifier(tree_method='gpu_hist', predictor='gpu_predictor')\n",
    "    # clf = svm.SVC()\n",
    "    clf.fit(ts_train.features, ts_train.y)\n",
    "    train_pr = clf.predict(ts_train.features)\n",
    "    test_pr = clf.predict(ts_test.features)\n",
    "    predicted_classes.append(test_pr)\n",
    "    real_classes.append(ts_test.y)\n",
    "\n",
    "\n",
    "    # Save metrics\n",
    "    train_f1 = metrics.f1_score(ts_train.y, train_pr, average='weighted')\n",
    "    test_f1 = metrics.f1_score(ts_test.y, test_pr, average='weighted')\n",
    "    train_bacc = metrics.balanced_accuracy_score(ts_train.y, train_pr)\n",
    "    test_bacc = metrics.balanced_accuracy_score(ts_test.y, test_pr)\n",
    "    train_acc = metrics.accuracy_score(ts_train.y, train_pr)\n",
    "    test_acc = metrics.accuracy_score(ts_test.y, test_pr)\n",
    "    \n",
    "    saver.addLog('train', 'F1-score', train_f1)\n",
    "    saver.addLog('test', 'F1-score', test_f1)\n",
    "    saver.addLog('train', 'Balanced Accuracy', train_bacc)\n",
    "    saver.addLog('test', 'Balanced Accuracy', test_bacc)\n",
    "    saver.addLog('train', 'Accuracy', train_acc)\n",
    "    saver.addLog('test', 'Accuracy', test_acc)\n",
    "    # break\n",
    "\n",
    "predicted_classes = np.concatenate(predicted_classes, axis = 0)\n",
    "real_classes = np.concatenate(real_classes, axis = 0)\n"
   ]
  },
  {
   "cell_type": "code",
   "execution_count": 25,
   "metadata": {},
   "outputs": [],
   "source": [
    "\n",
    "saveConfusionMatrix(real_classes, predicted_classes, datasetName + '_PAI_{}'.format(MODEL_NAME), labels=CLASS_LABELS, xrotation=90)"
   ]
  },
  {
   "cell_type": "code",
   "execution_count": null,
   "metadata": {},
   "outputs": [
    {
     "data": {
      "image/png": "[encoded data removed]",
      "text/plain": [
       "<Figure size 500x200 with 1 Axes>"
      ]
     },
     "metadata": {},
     "output_type": "display_data"
    }
   ],
   "source": [
    "saver.toImage()"
   ]
  },
  {
   "cell_type": "code",
   "execution_count": null,
   "metadata": {},
   "outputs": [],
   "source": []
  }
 ],
 "metadata": {
  "kernelspec": {
   "display_name": "Python 3.8.13 ('clearn')",
   "language": "python",
   "name": "python3"
  },
  "language_info": {
   "codemirror_mode": {
    "name": "ipython",
    "version": 3
   },
   "file_extension": ".py",
   "mimetype": "text/x-python",
   "name": "python",
   "nbconvert_exporter": "python",
   "pygments_lexer": "ipython3",
   "version": "3.8.13"
  },
  "orig_nbformat": 4,
  "vscode": {
   "interpreter": {
    "hash": "9b358327185eebe25ac8832d1d1e0e28e2841cec82efe29413dcc7b9341241d3"
   }
  }
 },
 "nbformat": 4,
 "nbformat_minor": 2
}
