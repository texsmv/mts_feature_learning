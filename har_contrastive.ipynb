{
 "cells": [
  {
   "cell_type": "markdown",
   "id": "3a4d93d2-53f0-4aaa-82d7-afa193f67156",
   "metadata": {},
   "source": [
    "## Code for reading the HAR-UML dataset"
   ]
  },
  {
   "cell_type": "code",
   "execution_count": 1,
   "id": "31ba70bf-6dac-442b-9ee4-f69f197553d1",
   "metadata": {},
   "outputs": [
    {
     "name": "stdout",
     "output_type": "stream",
     "text": [
      "The new directory is created!\n"
     ]
    }
   ],
   "source": [
    "%load_ext autoreload\n",
    "%autoreload 2\n",
    "\n",
    "import numpy as np\n",
    "from source.read_HAR_dataset import read_har_dataset, har_dimensions\n",
    "from source.utils import create_dir\n",
    "import os\n",
    "\n",
    "# Shuffle all data from all participants (SHOULD BE ONLY USED TO FIND THE BEST MODEL)\n",
    "SHUFFLE_ALL = False\n",
    "LOSS = \"SupConLoss\" # \"Contrastive\" or \"Triplet\"  or \"SupConLoss\" or \"SimCLR\"\n",
    "SUBSEC_PORC = 0.75 # Porcentage of the window to be used as a sub-sequence\n",
    "FEAT_DIM = 16 # Dimension of the code of input to the LOSS criterion (IS NOT THE FEATERURE DIMENSION!!)\n",
    "EPOCHS   = 80 # You know ...\n",
    "EXP_DIR = 'experiments'\n",
    "\n",
    "mode = 'shuffle' if SHUFFLE_ALL else 'noshuffle'\n",
    "\n",
    "EXPERIMENT_NAME = 'Exp_{}_{}_{}_{}'.format(LOSS, mode, FEAT_DIM, int(SUBSEC_PORC * 100), EPOCHS)\n",
    "EXP_PATH = os.path.join(EXP_DIR, EXPERIMENT_NAME)\n",
    "create_dir(EXP_DIR)\n",
    "create_dir(EXP_PATH)"
   ]
  },
  {
   "cell_type": "code",
   "execution_count": 2,
   "id": "3a526a48-a611-48c0-8eca-318ace67f145",
   "metadata": {},
   "outputs": [
    {
     "name": "stdout",
     "output_type": "stream",
     "text": [
      "IDS: [3, 9, 8, 2, 0, 5, 4, 7, 1, 6]\n",
      "Train IDS: [3, 9, 8, 2, 0, 5]\n",
      "Test IDS: [4, 7]\n",
      "Val IDS: [1, 6]\n"
     ]
    }
   ],
   "source": [
    "%autoreload 2\n",
    "\n",
    "data = read_har_dataset('./datasets/HAR-UML20/')\n",
    "\n",
    "ids_train, X_train, y_train, I_train, train_kcal_MET = data['train']\n",
    "\n",
    "ids_val, X_val, y_val, I_val, val_kcal_MET = data['val']\n",
    "\n",
    "ids_test, X_test, y_test, I_test, test_kcal_MET = data['test']"
   ]
  },
  {
   "cell_type": "code",
   "execution_count": 3,
   "id": "144236a2",
   "metadata": {},
   "outputs": [],
   "source": [
    "def shuffle_data(train_list, test_list, val_list, shuffled_indices):\n",
    "    X = np.concatenate([train_list, test_list, val_list], axis=0)\n",
    "    # print(X.shape)\n",
    "    X = np.array([X[i] for i in shuffled_indices])\n",
    "    # print(X.shape)\n",
    "    n_tr = len(train_list)\n",
    "    n_te = len(test_list)\n",
    "    n_val = len(val_list)\n",
    "    return X[0: n_tr], X[n_tr: n_tr + n_te], X[n_tr + n_te:]\n",
    "\n",
    "if SHUFFLE_ALL:\n",
    "    n = X_train.shape[0] + X_val.shape[0] + X_test.shape[0]\n",
    "    ids = list(range(n))\n",
    "    shuffled_indices = np.random.permutation(len(ids))\n",
    "\n",
    "    X_train, X_test, X_val = shuffle_data(X_train, X_test, X_val, shuffled_indices)\n",
    "    y_train, y_test, y_val = shuffle_data(y_train, y_test, y_val, shuffled_indices)\n",
    "    I_train, I_test, I_val = shuffle_data(I_train, I_test, I_val, shuffled_indices)\n",
    "    train_kcal_MET, test_kcal_MET, val_kcal_MET = shuffle_data(train_kcal_MET, test_kcal_MET, val_kcal_MET, shuffled_indices)"
   ]
  },
  {
   "cell_type": "code",
   "execution_count": 4,
   "id": "9c260ed5-7bea-4b0e-9d6f-2c2668d95811",
   "metadata": {},
   "outputs": [
    {
     "data": {
      "text/plain": [
       "array(['Accelerometer-X', 'Accelerometer-Y', 'Accelerometer-Z',\n",
       "       'Gyrometer-X', 'Gyrometer-Y', 'Gyrometer-Z', 'Magnetometer-X',\n",
       "       'Magnetometer-Y', 'Magnetometer-Z'], dtype='<U15')"
      ]
     },
     "execution_count": 4,
     "metadata": {},
     "output_type": "execute_result"
    }
   ],
   "source": [
    "har_dimensions"
   ]
  },
  {
   "cell_type": "code",
   "execution_count": 5,
   "id": "e4284411-85dc-4e81-9671-832568f05d7c",
   "metadata": {},
   "outputs": [],
   "source": [
    "from source.utils import  filter_dimensions\n",
    "dimensions = ['Accelerometer-X', 'Accelerometer-Y', 'Accelerometer-Z', 'Gyrometer-X', 'Gyrometer-Y', 'Gyrometer-Z']\n",
    "\n",
    "X_train_f = filter_dimensions(X_train, har_dimensions, dimensions)\n",
    "X_test_f = filter_dimensions(X_test, har_dimensions, dimensions)\n",
    "X_val_f = filter_dimensions(X_val, har_dimensions, dimensions)"
   ]
  },
  {
   "cell_type": "code",
   "execution_count": 6,
   "id": "adea1e7d-7519-406c-9782-67d832d2e870",
   "metadata": {},
   "outputs": [],
   "source": [
    "from source.datasets import ContrastiveDataset\n",
    "from torch.utils.data import DataLoader\n",
    "\n",
    "train_dataset = ContrastiveDataset(X_train_f.transpose([0, 2, 1]).astype(np.float32), y_train, use_label=False)\n",
    "train_dataloader = DataLoader(train_dataset, batch_size=32, shuffle=True)\n",
    "val_dataset = ContrastiveDataset(X_val_f.transpose([0, 2, 1]).astype(np.float32), y_val, use_label=False)\n",
    "val_dataloader = DataLoader(val_dataset, batch_size=32, shuffle=True)\n",
    "test_dataset = ContrastiveDataset(X_test_f.transpose([0, 2, 1]).astype(np.float32), y_test, use_label=False)\n",
    "test_dataloader = DataLoader(test_dataset, batch_size=32, shuffle=True)"
   ]
  },
  {
   "cell_type": "code",
   "execution_count": 7,
   "id": "874a2a3b-9199-4a8d-a40f-125a209814ec",
   "metadata": {},
   "outputs": [
    {
     "name": "stdout",
     "output_type": "stream",
     "text": [
      "Subsequence length: 150\n",
      "Epoch[1] Train loss    avg: 3.9224809785432453\n",
      "Epoch[1] Val loss      avg: 3.643311783952533\n",
      "[Log] Saving model with loss: 3.643311783952533\n",
      "Epoch[2] Train loss    avg: 3.50288678271861\n",
      "Epoch[2] Val loss      avg: 3.7601988495520824\n",
      "Epoch[3] Train loss    avg: 3.433737620522704\n",
      "Epoch[3] Val loss      avg: 3.7268225831805535\n",
      "Epoch[4] Train loss    avg: 3.3874593686453904\n",
      "Epoch[4] Val loss      avg: 3.72195177708032\n",
      "Epoch[5] Train loss    avg: 3.342977329145504\n",
      "Epoch[5] Val loss      avg: 3.7912754877558292\n",
      "Epoch[6] Train loss    avg: 3.3029775921302504\n",
      "Epoch[6] Val loss      avg: 3.7621021045828766\n",
      "Epoch[7] Train loss    avg: 3.2825946973848947\n",
      "Epoch[7] Val loss      avg: 3.798253450753554\n",
      "Epoch[8] Train loss    avg: 3.269040429139439\n",
      "Epoch[8] Val loss      avg: 3.7819790480271824\n",
      "Epoch[9] Train loss    avg: 3.251865136472485\n",
      "Epoch[9] Val loss      avg: 3.728069597820066\n",
      "Epoch[10] Train loss    avg: 3.2406598103197317\n",
      "Epoch[10] Val loss      avg: 3.7583017709120266\n",
      "Epoch[11] Train loss    avg: 3.221625009669533\n",
      "Epoch[11] Val loss      avg: 3.9143218049463235\n",
      "Epoch[12] Train loss    avg: 3.2218040242979797\n",
      "Epoch[12] Val loss      avg: 3.761147863460037\n",
      "Epoch[13] Train loss    avg: 3.1827961342244206\n",
      "Epoch[13] Val loss      avg: 4.0225819236827345\n",
      "Epoch[14] Train loss    avg: 3.1840804936010625\n",
      "Epoch[14] Val loss      avg: 4.361345160682246\n",
      "Epoch[15] Train loss    avg: 3.189922866942007\n",
      "Epoch[15] Val loss      avg: 4.5832133832967505\n",
      "Epoch[16] Train loss    avg: 3.1622390762160095\n",
      "Epoch[16] Val loss      avg: 4.426344826536359\n",
      "Epoch[17] Train loss    avg: 3.1616213683840595\n",
      "Epoch[17] Val loss      avg: 4.427770673104052\n",
      "Epoch[18] Train loss    avg: 3.1361261455318594\n",
      "Epoch[18] Val loss      avg: 4.4554359912872314\n",
      "Epoch[19] Train loss    avg: 3.133984663818456\n",
      "Epoch[19] Val loss      avg: 4.372415371660916\n",
      "Epoch[20] Train loss    avg: 3.1466311714317223\n",
      "Epoch[20] Val loss      avg: 3.8395682685780077\n",
      "Epoch[21] Train loss    avg: 3.128888095481486\n",
      "Epoch[21] Val loss      avg: 3.9554848401051648\n",
      "Epoch[22] Train loss    avg: 3.1239845330202125\n",
      "Epoch[22] Val loss      avg: 4.332594147268331\n",
      "Epoch[23] Train loss    avg: 3.1182202432729023\n",
      "Epoch[23] Val loss      avg: 4.3805759672848685\n",
      "Epoch[24] Train loss    avg: 3.1152480327630343\n",
      "Epoch[24] Val loss      avg: 4.395796973750277\n",
      "Epoch[25] Train loss    avg: 3.1064796840088276\n",
      "Epoch[25] Val loss      avg: 4.34292175634852\n",
      "Epoch[26] Train loss    avg: 3.1009556553031823\n",
      "Epoch[26] Val loss      avg: 4.422736163409251\n",
      "Epoch[27] Train loss    avg: 3.095098761063588\n",
      "Epoch[27] Val loss      avg: 4.35527466378122\n",
      "Epoch[28] Train loss    avg: 3.10929371435431\n",
      "Epoch[28] Val loss      avg: 4.469930126981915\n",
      "Epoch[29] Train loss    avg: 3.0968956479543372\n",
      "Epoch[29] Val loss      avg: 4.5227728249891745\n",
      "Epoch[30] Train loss    avg: 3.100392509110366\n",
      "Epoch[30] Val loss      avg: 4.44097598543707\n",
      "Epoch[31] Train loss    avg: 3.091978946818581\n",
      "Epoch[31] Val loss      avg: 4.391463747564352\n",
      "Epoch[32] Train loss    avg: 3.106748775590824\n",
      "Epoch[32] Val loss      avg: 4.512599891086794\n",
      "Epoch[33] Train loss    avg: 3.0980324971524973\n",
      "Epoch[33] Val loss      avg: 4.229417643457089\n",
      "Epoch[34] Train loss    avg: 3.0902924462209773\n",
      "Epoch[34] Val loss      avg: 4.3664069175720215\n",
      "Epoch[35] Train loss    avg: 3.0802768016163307\n",
      "Epoch[35] Val loss      avg: 4.27733432571843\n",
      "Epoch[36] Train loss    avg: 3.0910185560395447\n",
      "Epoch[36] Val loss      avg: 4.355401529456085\n",
      "Epoch[37] Train loss    avg: 3.0846267727356924\n",
      "Epoch[37] Val loss      avg: 4.455751099676456\n",
      "Epoch[38] Train loss    avg: 3.0800932675977295\n",
      "Epoch[38] Val loss      avg: 4.337018143455937\n",
      "Epoch[39] Train loss    avg: 3.084485453895376\n",
      "Epoch[39] Val loss      avg: 4.493634880713697\n",
      "Epoch[40] Train loss    avg: 3.078606128692627\n",
      "Epoch[40] Val loss      avg: 4.241245899560316\n",
      "Epoch[41] Train loss    avg: 3.078777379627469\n",
      "Epoch[41] Val loss      avg: 4.528075829991755\n",
      "Epoch[42] Train loss    avg: 3.0617864901506446\n",
      "Epoch[42] Val loss      avg: 4.42369156513574\n",
      "Epoch[43] Train loss    avg: 3.0670616204225563\n",
      "Epoch[43] Val loss      avg: 4.0029236730539575\n",
      "Epoch[44] Train loss    avg: 3.075830699522284\n",
      "Epoch[44] Val loss      avg: 4.031647218848175\n",
      "Epoch[45] Train loss    avg: 3.0657341118100323\n",
      "Epoch[45] Val loss      avg: 4.612066993173563\n",
      "Epoch[46] Train loss    avg: 3.0683081210414067\n",
      "Epoch[46] Val loss      avg: 4.5808524095787195\n",
      "Epoch[47] Train loss    avg: 3.0635182842423645\n",
      "Epoch[47] Val loss      avg: 4.161859723756898\n",
      "Epoch[48] Train loss    avg: 3.0617485121835637\n",
      "Epoch[48] Val loss      avg: 4.156868385818769\n",
      "Epoch[49] Train loss    avg: 3.0752348462237586\n",
      "Epoch[49] Val loss      avg: 4.171249290682235\n",
      "Epoch[50] Train loss    avg: 3.0781249034253855\n",
      "Epoch[50] Val loss      avg: 4.098597895424321\n",
      "Epoch[51] Train loss    avg: 3.063143936893608\n",
      "Epoch[51] Val loss      avg: 4.143723078493802\n",
      "Epoch[52] Train loss    avg: 3.0597360179394104\n",
      "Epoch[52] Val loss      avg: 4.319187834577741\n",
      "Epoch[53] Train loss    avg: 3.0640943638886076\n",
      "Epoch[53] Val loss      avg: 4.2873357646870165\n",
      "Epoch[54] Train loss    avg: 3.058674558808532\n",
      "Epoch[54] Val loss      avg: 4.528757392235522\n",
      "Epoch[55] Train loss    avg: 3.0602051774157752\n",
      "Epoch[55] Val loss      avg: 4.521370631343913\n",
      "Epoch[56] Train loss    avg: 3.048100907591325\n",
      "Epoch[56] Val loss      avg: 4.2066220202535956\n",
      "Epoch[57] Train loss    avg: 3.059054092515873\n",
      "Epoch[57] Val loss      avg: 3.9431653472612487\n",
      "Epoch[58] Train loss    avg: 3.0591715891149978\n",
      "Epoch[58] Val loss      avg: 4.263390239679588\n",
      "Epoch[59] Train loss    avg: 3.058916146242166\n",
      "Epoch[59] Val loss      avg: 4.402983031182919\n",
      "Epoch[60] Train loss    avg: 3.0456774823273283\n",
      "Epoch[60] Val loss      avg: 4.378546089496252\n",
      "Epoch[61] Train loss    avg: 3.0484588146209717\n",
      "Epoch[61] Val loss      avg: 4.031276253034484\n",
      "Epoch[62] Train loss    avg: 3.036259993722167\n",
      "Epoch[62] Val loss      avg: 4.162750347605291\n",
      "Epoch[63] Train loss    avg: 3.0663513488407377\n",
      "Epoch[63] Val loss      avg: 4.352045886921433\n",
      "Epoch[64] Train loss    avg: 3.058325820331332\n",
      "Epoch[64] Val loss      avg: 4.393656109863857\n",
      "Epoch[65] Train loss    avg: 3.05363505248782\n",
      "Epoch[65] Val loss      avg: 4.652419926985255\n",
      "Epoch[66] Train loss    avg: 3.057207893721665\n",
      "Epoch[66] Val loss      avg: 4.425797237540191\n",
      "Epoch[67] Train loss    avg: 3.046228558202333\n",
      "Epoch[67] Val loss      avg: 4.279233905504334\n",
      "Epoch[68] Train loss    avg: 3.0484848565693143\n",
      "Epoch[68] Val loss      avg: 4.2478778227320255\n",
      "Epoch[69] Train loss    avg: 3.0571034724199317\n",
      "Epoch[69] Val loss      avg: 4.332541726670176\n",
      "Epoch[70] Train loss    avg: 3.0482522535927687\n",
      "Epoch[70] Val loss      avg: 4.194785459986273\n",
      "Epoch[71] Train loss    avg: 3.0371532953238187\n",
      "Epoch[71] Val loss      avg: 4.294002622928259\n",
      "Epoch[72] Train loss    avg: 3.0348385919498493\n",
      "Epoch[72] Val loss      avg: 4.164328507657321\n",
      "Epoch[73] Train loss    avg: 3.0302946507176265\n",
      "Epoch[73] Val loss      avg: 4.5739068895016075\n",
      "Epoch[74] Train loss    avg: 3.039580381369289\n",
      "Epoch[74] Val loss      avg: 4.6665273657384905\n",
      "Epoch[75] Train loss    avg: 3.030656588228443\n",
      "Epoch[75] Val loss      avg: 4.271919479909933\n",
      "Epoch[76] Train loss    avg: 3.0508777054050302\n",
      "Epoch[76] Val loss      avg: 4.152740941857392\n",
      "Epoch[77] Train loss    avg: 3.0336990280996394\n",
      "Epoch[77] Val loss      avg: 4.096390913117607\n",
      "Epoch[78] Train loss    avg: 3.035699296601211\n",
      "Epoch[78] Val loss      avg: 4.5781964176106005\n",
      "Epoch[79] Train loss    avg: 3.047691947297205\n",
      "Epoch[79] Val loss      avg: 4.439537763595581\n",
      "Epoch[80] Train loss    avg: 3.0202028132692167\n",
      "Epoch[80] Val loss      avg: 4.332599302507797\n"
     ]
    },
    {
     "data": {
      "image/png": "[encoded data removed]",
      "text/plain": [
       "<Figure size 432x288 with 1 Axes>"
      ]
     },
     "metadata": {
      "needs_background": "light"
     },
     "output_type": "display_data"
    }
   ],
   "source": [
    "%autoreload 2\n",
    "from torch_snippets import *\n",
    "from source.models import SiameseNetwork, train_batch, train_batch_contrastive, train_batch_triplet, eval_batch, eval_batch_contrastive, eval_batch_triplet\n",
    "from source.losses import ContrastiveLoss, SupConLoss, TripletLoss\n",
    "from source.utils import ValueLogger\n",
    "import torch\n",
    "\n",
    "device = 'cuda' if torch.cuda.is_available() else 'cpu'\n",
    "\n",
    "\n",
    "\n",
    "subsequence_length = int(X_train_f.shape[1] * SUBSEC_PORC)\n",
    "\n",
    "print(\"Subsequence length: {}\".format(subsequence_length))\n",
    "\n",
    "model      = SiameseNetwork(X_train_f.shape[2], subsequence_length, feat_dim=FEAT_DIM).to(device)\n",
    "\n",
    "model_path = os.path.join(EXP_PATH, 'model.pt')\n",
    "loss_path = os.path.join(EXP_PATH, 'loss.png')\n",
    "\n",
    "if LOSS == \"Contrastive\":\n",
    "    criterion  = ContrastiveLoss().to(device)\n",
    "elif LOSS == \"Triplet\":\n",
    "    criterion  = TripletLoss(margin=4.0).to(device)\n",
    "elif LOSS == \"SupConLoss\":\n",
    "    criterion = SupConLoss().to(device)\n",
    "    supervised = True\n",
    "else:\n",
    "    criterion = SupConLoss().to(device)\n",
    "    supervised = False\n",
    "\n",
    "trainLogs = ValueLogger(\"Train loss   \", epoch_freq=1)\n",
    "testLogs = ValueLogger( \"Test loss    \", epoch_freq=1)\n",
    "valLogs = ValueLogger(  \"Val loss     \", epoch_freq=1)\n",
    "\n",
    "optimizer  = optim.AdamW(model.parameters(),lr = 0.0005)\n",
    "# optimizer  = optim.AdamW(model.parameters(),lr = 0.00001) #Triplet\n",
    "# optimizer  = optim.SGD(model.parameters(),lr = 0.001)\n",
    "# optimizer  = optim.Adam(model.parameters(),lr = 0.0001, weight_decay=0.004)\n",
    "\n",
    "for epoch in range(EPOCHS):\n",
    "    N = len(train_dataloader)\n",
    "    for i, data in enumerate(train_dataloader):\n",
    "        loss = None\n",
    "        if LOSS == \"Contrastive\":\n",
    "            loss = train_batch_contrastive(model, data, optimizer, criterion, device, subsequence_length)\n",
    "        elif LOSS == \"Triplet\":\n",
    "            loss = train_batch_triplet(model, data, optimizer, criterion, device, subsequence_length)\n",
    "        elif LOSS == \"SupConLoss\":\n",
    "            loss = train_batch(model, data, optimizer, criterion, device, subsequence_length, supervised=supervised)\n",
    "        else:\n",
    "            loss = train_batch(model, data, optimizer, criterion, device, subsequence_length, supervised=supervised)\n",
    "        trainLogs.update(loss)\n",
    "    trainLogs.end_epoch()\n",
    "    with torch.no_grad():\n",
    "        N = len(val_dataloader)\n",
    "        for i, data in enumerate(val_dataloader):\n",
    "            if LOSS == \"Contrastive\":\n",
    "                loss = eval_batch_contrastive(model, data,  criterion, device, subsequence_length)\n",
    "            elif LOSS == \"Triplet\":\n",
    "                loss = eval_batch_triplet(model, data,  criterion, device, subsequence_length)\n",
    "            elif LOSS == \"SupConLoss\":\n",
    "                loss = eval_batch(model, data,  criterion, device, subsequence_length, supervised=supervised)\n",
    "            else:\n",
    "                loss = eval_batch(model, data,  criterion, device, subsequence_length, supervised=supervised)\n",
    "            valLogs.update(loss)\n",
    "                \n",
    "        if  valLogs.end_epoch():\n",
    "            print('[Log] Saving model with loss: {}'.format(valLogs.bestAvg))\n",
    "            torch.save(model, model_path) \n",
    "\n",
    "fig = plt.figure()\n",
    "ax0 = fig.add_subplot(111, title=\"loss\")\n",
    "ax0.plot(trainLogs.avgs, 'bo-', label='train')\n",
    "ax0.plot(valLogs.avgs, 'ro-', label='val')\n",
    "\n",
    "ax0.legend()\n",
    "fig.savefig(loss_path)"
   ]
  },
  {
   "cell_type": "code",
   "execution_count": null,
   "id": "b8c2a9f9",
   "metadata": {},
   "outputs": [],
   "source": []
  },
  {
   "cell_type": "code",
   "execution_count": null,
   "id": "3241079a",
   "metadata": {},
   "outputs": [],
   "source": [
    "  \n",
    "model = torch.load(model_path)\n",
    "with torch.no_grad():\n",
    "    N = len(test_dataloader)\n",
    "    for i, data in enumerate(test_dataloader):\n",
    "        if LOSS == \"Contrastive\":\n",
    "            if LOSS == \"Contrastive\":\n",
    "                loss = eval_batch_contrastive(model, data, criterion, device, subsequence_length)\n",
    "            elif LOSS == \"Triplet\":\n",
    "                loss = eval_batch_triplet(model, data, criterion, device, subsequence_length)\n",
    "            elif LOSS == \"SupConLoss\":\n",
    "                loss = eval_batch(model, data, criterion, device, subsequence_length, supervised=supervised)\n",
    "            else:\n",
    "                loss = eval_batch(model, data, criterion, device, subsequence_length, supervised=supervised)\n",
    "        testLogs.update(loss)\n",
    "    testLogs.end_epoch()"
   ]
  },
  {
   "cell_type": "code",
   "execution_count": 8,
   "id": "a98217fa-f649-47f8-a608-f005ff2b287f",
   "metadata": {},
   "outputs": [],
   "source": [
    "# # ---------------Load best model is you already saved it-----------------\n",
    "# model      = SiameseNetwork(X_train_f.shape[2], win_len).to(device)\n",
    "# model = torch.load(model_path)"
   ]
  },
  {
   "cell_type": "code",
   "execution_count": 9,
   "id": "220fe5a1",
   "metadata": {},
   "outputs": [],
   "source": [
    "# Get the representations from the model\n",
    "train_repr = model.encode(X_train_f.transpose(0, 2, 1), device)\n",
    "test_repr = model.encode(X_test_f.transpose(0, 2, 1), device)"
   ]
  },
  {
   "cell_type": "markdown",
   "id": "18384c26",
   "metadata": {},
   "source": [
    "## VISUALIZATION TASK"
   ]
  },
  {
   "cell_type": "code",
   "execution_count": 10,
   "id": "7ada1c46-42f7-4249-ab21-4e193d1ced72",
   "metadata": {},
   "outputs": [
    {
     "name": "stderr",
     "output_type": "stream",
     "text": [
      "OMP: Info #276: omp_set_nested routine deprecated, please use omp_set_max_active_levels instead.\n"
     ]
    },
    {
     "data": {
      "text/plain": [
       "UMAP(tqdm_kwds={'bar_format': '{desc}: {percentage:3.0f}%| {bar} {n_fmt}/{total_fmt} [{elapsed}]', 'desc': 'Epochs completed', 'disable': True})"
      ]
     },
     "execution_count": 10,
     "metadata": {},
     "output_type": "execute_result"
    }
   ],
   "source": [
    "import umap\n",
    "reducer = umap.UMAP(n_components = 2)\n",
    "# reducer.fit(train_repr, y=y_train)\n",
    "reducer.fit(train_repr)"
   ]
  },
  {
   "cell_type": "code",
   "execution_count": 11,
   "id": "f8ce2df9-4d3c-4f3f-98da-fa61f2c5cacc",
   "metadata": {},
   "outputs": [],
   "source": [
    "train_coords = reducer.transform(train_repr)\n",
    "test_coords = reducer.transform(test_repr)"
   ]
  },
  {
   "cell_type": "code",
   "execution_count": 12,
   "id": "778187a0-c2cc-4a5d-8fa6-b1aa79fdac8c",
   "metadata": {},
   "outputs": [
    {
     "name": "stdout",
     "output_type": "stream",
     "text": [
      "['Sitting', 'Lying', 'Standing', 'Walking', 'Running', 'Downstairs', 'Upstairs']\n"
     ]
    },
    {
     "data": {
      "text/plain": [
       "<matplotlib.legend.Legend at 0x7fe02065a4d0>"
      ]
     },
     "execution_count": 12,
     "metadata": {},
     "output_type": "execute_result"
    },
    {
     "data": {
      "image/png": "[encoded data removed]",
      "text/plain": [
       "<Figure size 432x288 with 1 Axes>"
      ]
     },
     "metadata": {
      "needs_background": "light"
     },
     "output_type": "display_data"
    }
   ],
   "source": [
    "import matplotlib.pyplot as plt\n",
    "activities = [\n",
    "    \"Sitting\",\n",
    "    \"Lying\",\n",
    "    \"Standing\",\n",
    "    \"Walking\",\n",
    "    \"Running\",\n",
    "    \"Downstairs\",\n",
    "    \"Upstairs\"\n",
    "]\n",
    "\n",
    "print(activities)\n",
    "fig, ax = plt.subplots()\n",
    "\n",
    "scatter = ax.scatter(train_coords[:, 0], train_coords[:, 1], c = y_train, cmap='jet', label='Inline label')\n",
    "\n",
    "legend1 = ax.legend(*scatter.legend_elements(),\n",
    "                    loc=\"lower left\", title=\"Classes\")\n",
    "ax.add_artist(legend1)\n",
    "\n"
   ]
  },
  {
   "cell_type": "code",
   "execution_count": 13,
   "id": "ebdbe81b-0efa-4130-9207-b96f8fa0716d",
   "metadata": {},
   "outputs": [
    {
     "data": {
      "text/plain": [
       "<matplotlib.collections.PathCollection at 0x7fdfbc1a65f0>"
      ]
     },
     "execution_count": 13,
     "metadata": {},
     "output_type": "execute_result"
    },
    {
     "data": {
      "image/png": "[encoded data removed]",
      "text/plain": [
       "<Figure size 432x288 with 1 Axes>"
      ]
     },
     "metadata": {
      "needs_background": "light"
     },
     "output_type": "display_data"
    }
   ],
   "source": [
    "plt.scatter(test_coords[:, 0], test_coords[:, 1], c = y_test, cmap='jet')"
   ]
  },
  {
   "cell_type": "code",
   "execution_count": null,
   "id": "11bd39b8-4263-4667-a641-5a2301043fd3",
   "metadata": {},
   "outputs": [],
   "source": []
  },
  {
   "cell_type": "markdown",
   "id": "087e0c17",
   "metadata": {},
   "source": [
    "## CLASSIFICATION TASK"
   ]
  },
  {
   "cell_type": "code",
   "execution_count": 14,
   "id": "7db8afe3-e67a-4b71-a730-ea3a85a05486",
   "metadata": {},
   "outputs": [
    {
     "name": "stderr",
     "output_type": "stream",
     "text": [
      "/home/texs/anaconda3/envs/mo445-gpu/lib/python3.10/site-packages/sklearn/neighbors/_classification.py:198: DataConversionWarning: A column-vector y was passed when a 1d array was expected. Please change the shape of y to (n_samples,), for example using ravel().\n",
      "  return self._fit(X, y)\n"
     ]
    }
   ],
   "source": [
    "from sklearn.ensemble import RandomForestClassifier\n",
    "from sklearn.neighbors import KNeighborsClassifier\n",
    "from sklearn.svm import LinearSVC\n",
    "from sklearn import svm\n",
    "\n",
    "def classify_dataset(X_train, y_train, X_test, y_test):\n",
    "    # clf = RandomForestClassifier(random_state=0)\n",
    "    # clf = LinearSVC(dual=False, random_state=123)\n",
    "    # clf = svm.SVC()\n",
    "    clf = KNeighborsClassifier()\n",
    "    clf.fit(X_train, y_train)\n",
    "    return clf.predict(X_train), clf.predict(X_test)\n",
    "    \n",
    "\n",
    "train_pred, test_pred = classify_dataset(train_repr, y_train, test_repr, y_test)\n",
    "\n"
   ]
  },
  {
   "cell_type": "code",
   "execution_count": 15,
   "id": "f19e2fd3-a236-4f5a-8a5c-cb2747f1c733",
   "metadata": {},
   "outputs": [
    {
     "name": "stdout",
     "output_type": "stream",
     "text": [
      "Training balanced accuracy: 0.9918650793650794 - testing balanced accuracy: 0.675595238095238\n",
      "Training f1 score: 0.9918600569311649 - testing f1 score: 0.6476929652422234\n"
     ]
    }
   ],
   "source": [
    "from sklearn import metrics\n",
    "\n",
    "bal_acc_tr = metrics.balanced_accuracy_score(y_train, train_pred)\n",
    "bal_acc_te = metrics.balanced_accuracy_score(y_test, test_pred)\n",
    "            \n",
    "f1_tr = metrics.f1_score(y_train, train_pred, average='weighted')\n",
    "f1_te = metrics.f1_score(y_test, test_pred, average='weighted')\n",
    "\n",
    "print(\"Training balanced accuracy: {} - testing balanced accuracy: {}\".format(bal_acc_tr, bal_acc_te))\n",
    "print(\"Training f1 score: {} - testing f1 score: {}\".format(f1_tr, f1_te))"
   ]
  },
  {
   "cell_type": "code",
   "execution_count": 16,
   "id": "bd00ed11-a471-4237-a92b-d3954e46537e",
   "metadata": {},
   "outputs": [
    {
     "data": {
      "text/plain": [
       "<sklearn.metrics._plot.confusion_matrix.ConfusionMatrixDisplay at 0x7fdfa3c25cf0>"
      ]
     },
     "execution_count": 16,
     "metadata": {},
     "output_type": "execute_result"
    },
    {
     "data": {
      "image/png": "[encoded data removed]",
      "text/plain": [
       "<Figure size 432x288 with 2 Axes>"
      ]
     },
     "metadata": {
      "needs_background": "light"
     },
     "output_type": "display_data"
    }
   ],
   "source": [
    "from sklearn.metrics import confusion_matrix, ConfusionMatrixDisplay\n",
    "\n",
    "cm_train = confusion_matrix(y_train, train_pred)\n",
    "disp = ConfusionMatrixDisplay(confusion_matrix=cm_train, display_labels= activities)\n",
    "disp.plot()\n"
   ]
  },
  {
   "cell_type": "code",
   "execution_count": 17,
   "id": "eb7084ea-ba43-4a15-b38b-939132f381e5",
   "metadata": {},
   "outputs": [
    {
     "data": {
      "text/plain": [
       "<sklearn.metrics._plot.confusion_matrix.ConfusionMatrixDisplay at 0x7fdfd4bf50c0>"
      ]
     },
     "execution_count": 17,
     "metadata": {},
     "output_type": "execute_result"
    },
    {
     "data": {
      "image/png": "[encoded data removed]",
      "text/plain": [
       "<Figure size 432x288 with 2 Axes>"
      ]
     },
     "metadata": {
      "needs_background": "light"
     },
     "output_type": "display_data"
    }
   ],
   "source": [
    "cm_test = confusion_matrix(y_test, test_pred)\n",
    "disp = ConfusionMatrixDisplay(confusion_matrix=cm_test, display_labels= activities)\n",
    "disp.plot()\n"
   ]
  },
  {
   "cell_type": "code",
   "execution_count": null,
   "id": "bd05ff70",
   "metadata": {},
   "outputs": [],
   "source": []
  },
  {
   "cell_type": "markdown",
   "id": "996ba0a8",
   "metadata": {},
   "source": [
    "## PREDICTION"
   ]
  },
  {
   "cell_type": "code",
   "execution_count": 18,
   "id": "5e3486fd",
   "metadata": {},
   "outputs": [
    {
     "name": "stderr",
     "output_type": "stream",
     "text": [
      "/home/texs/anaconda3/envs/mo445-gpu/lib/python3.10/site-packages/sklearn/linear_model/_stochastic_gradient.py:1503: ConvergenceWarning: Maximum number of iteration reached before convergence. Consider increasing max_iter to improve the fit.\n",
      "  warnings.warn(\n"
     ]
    },
    {
     "data": {
      "text/plain": [
       "SGDRegressor(max_iter=20)"
      ]
     },
     "execution_count": 18,
     "metadata": {},
     "output_type": "execute_result"
    }
   ],
   "source": [
    "from sklearn.linear_model import LinearRegression\n",
    "from sklearn.linear_model import SGDRegressor\n",
    "\n",
    "def regression_results(y_true, y_pred):\n",
    "    \n",
    "    # Regression metrics\n",
    "    explained_variance=metrics.explained_variance_score(y_true, y_pred)\n",
    "    mean_absolute_error=metrics.mean_absolute_error(y_true, y_pred) \n",
    "    # mse=metrics.mean_squared_error(y_true, y_pred) \n",
    "    # mean_squared_log_error=metrics.mean_squared_log_error(y_true, y_pred)\n",
    "    # median_absolute_error=metrics.median_absolute_error(y_true, y_pred)\n",
    "    r2=metrics.r2_score(y_true, y_pred)\n",
    "    \n",
    "    \n",
    "    # return round(mean_absolute_error,4), round(explained_variance,4)\n",
    "    return round(mean_absolute_error,4), round(r2,4)\n",
    "\n",
    "# regressor = LinearRegression()\n",
    "regressor = SGDRegressor(loss=\"squared_error\", penalty=\"l2\", max_iter=20)\n",
    "regressor.fit(train_repr, train_kcal_MET[:, 1])"
   ]
  },
  {
   "cell_type": "code",
   "execution_count": 19,
   "id": "8e978662",
   "metadata": {},
   "outputs": [],
   "source": [
    "train_met_pred = regressor.predict(train_repr) \n",
    "test_met_pred = regressor.predict(test_repr) \n",
    "# regressor.score(train_repr, train_kcal_MET[:, 1])"
   ]
  },
  {
   "cell_type": "code",
   "execution_count": 20,
   "id": "18632a49",
   "metadata": {},
   "outputs": [
    {
     "name": "stdout",
     "output_type": "stream",
     "text": [
      "(0.6203, 0.8606)\n",
      "(1.5181, 0.5741)\n"
     ]
    }
   ],
   "source": [
    "print(regression_results(train_kcal_MET[:, 1], train_met_pred))\n",
    "print(regression_results(test_kcal_MET[:, 1], test_met_pred))"
   ]
  },
  {
   "cell_type": "code",
   "execution_count": 21,
   "id": "1c225db7",
   "metadata": {},
   "outputs": [
    {
     "data": {
      "text/plain": [
       "array([1.064, 1.054, 1.104, 1.047, 1.102, 1.093, 1.041, 1.078, 1.07 ,\n",
       "       1.049])"
      ]
     },
     "execution_count": 21,
     "metadata": {},
     "output_type": "execute_result"
    }
   ],
   "source": [
    "test_met_pred[:10]"
   ]
  },
  {
   "cell_type": "code",
   "execution_count": 22,
   "id": "255e5382",
   "metadata": {},
   "outputs": [
    {
     "data": {
      "text/plain": [
       "array([1., 1., 1., 1., 1., 1., 1., 1., 1., 1.], dtype=float32)"
      ]
     },
     "execution_count": 22,
     "metadata": {},
     "output_type": "execute_result"
    }
   ],
   "source": [
    "test_kcal_MET[:10, 1]"
   ]
  },
  {
   "cell_type": "code",
   "execution_count": null,
   "id": "4128e62b",
   "metadata": {},
   "outputs": [],
   "source": []
  }
 ],
 "metadata": {
  "kernelspec": {
   "display_name": "Python 3.10.4 ('mo445-gpu')",
   "language": "python",
   "name": "python3"
  },
  "language_info": {
   "codemirror_mode": {
    "name": "ipython",
    "version": 3
   },
   "file_extension": ".py",
   "mimetype": "text/x-python",
   "name": "python",
   "nbconvert_exporter": "python",
   "pygments_lexer": "ipython3",
   "version": "3.10.4"
  },
  "vscode": {
   "interpreter": {
    "hash": "1722752dee94dd2cd2cee5e1f6d1f39af7c9d8fe0a677adbf505990a645144cd"
   }
  }
 },
 "nbformat": 4,
 "nbformat_minor": 5
}
