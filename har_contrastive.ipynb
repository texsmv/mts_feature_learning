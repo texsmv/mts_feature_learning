{
 "cells": [
  {
   "cell_type": "markdown",
   "id": "3a4d93d2-53f0-4aaa-82d7-afa193f67156",
   "metadata": {},
   "source": [
    "## Code for reading the HAR-UML dataset"
   ]
  },
  {
   "cell_type": "code",
   "execution_count": 9,
   "id": "31ba70bf-6dac-442b-9ee4-f69f197553d1",
   "metadata": {},
   "outputs": [
    {
     "name": "stdout",
     "output_type": "stream",
     "text": [
      "The autoreload extension is already loaded. To reload it, use:\n",
      "  %reload_ext autoreload\n"
     ]
    }
   ],
   "source": [
    "%load_ext autoreload\n",
    "%autoreload 2\n",
    "\n",
    "import numpy as np\n",
    "from source.read_HAR_dataset import read_har_dataset, har_dimensions, har_activities_map\n",
    "from source.utils import create_dir\n",
    "import os\n",
    "\n",
    "# Shuffle all data from all participants (SHOULD BE ONLY USED TO FIND THE BEST MODEL)\n",
    "SHUFFLE_ALL = False\n",
    "LOSS = \"SupConLoss\" # \"Contrastive\" or \"Triplet\"  or \"SupConLoss\" or \"SimCLR\"\n",
    "SUBSEC_PORC = 0.9 # Porcentage of the window to be used as a sub-sequence\n",
    "FEAT_DIM = 16 # Dimension of the code of input to the LOSS criterion (IS NOT THE FEATERURE DIMENSION!!)\n",
    "EPOCHS   = 8 # You know ...\n",
    "EXP_DIR = 'experiments'\n",
    "\n",
    "mode = 'shuffle' if SHUFFLE_ALL else 'noshuffle'\n",
    "\n",
    "EXPERIMENT_NAME = 'Exp_{}_{}_{}_{}'.format(LOSS, mode, FEAT_DIM, int(SUBSEC_PORC * 100), EPOCHS)\n",
    "EXP_PATH = os.path.join(EXP_DIR, EXPERIMENT_NAME)\n",
    "create_dir(EXP_DIR)\n",
    "create_dir(EXP_PATH)\n",
    "\n",
    "activities = [\n",
    "    \"Sitting\",\n",
    "    \"Lying\",\n",
    "    \"Standing\",\n",
    "    \"Walking\",\n",
    "    \"Running\",\n",
    "    \"Downstairs\",\n",
    "    \"Upstairs\"\n",
    "]\n",
    "\n",
    "har_activities = activities"
   ]
  },
  {
   "cell_type": "code",
   "execution_count": 10,
   "id": "3a526a48-a611-48c0-8eca-318ace67f145",
   "metadata": {},
   "outputs": [
    {
     "name": "stdout",
     "output_type": "stream",
     "text": [
      "Train IDS: [8, 7, 1, 6, 4, 0]\n",
      "Test IDS: [5, 2]\n",
      "Val IDS: [9, 3]\n",
      "IDS: [8, 7, 1, 6, 4, 0, 5, 2, 9, 3]\n"
     ]
    }
   ],
   "source": [
    "\n",
    "data = read_har_dataset('./datasets/HAR-UML20/')\n",
    "\n",
    "ids_train, X_train, y_train, I_train, train_kcal_MET = data['train']\n",
    "\n",
    "ids_val, X_val, y_val, I_val, val_kcal_MET = data['val']\n",
    "\n",
    "ids_test, X_test, y_test, I_test, test_kcal_MET = data['test']"
   ]
  },
  {
   "cell_type": "code",
   "execution_count": 11,
   "id": "ab70a360",
   "metadata": {},
   "outputs": [],
   "source": [
    "y_train[y_train==0] = 0\n",
    "y_train[y_train==1] = 0\n",
    "y_train[y_train==2] = 0\n",
    "y_val[y_val==0] = 0\n",
    "y_val[y_val==1] = 0\n",
    "y_val[y_val==2] = 0\n",
    "y_test[y_test==0] = 0\n",
    "y_test[y_test==1] = 0\n",
    "y_test[y_test==2] = 0\n",
    "\n",
    "for i in range(3, len(har_activities)):\n",
    "    y_train[y_train==i] = i - 2\n",
    "    y_test[y_test==i] = i - 2\n",
    "    y_val[y_val==i] = i - 2"
   ]
  },
  {
   "cell_type": "code",
   "execution_count": 12,
   "id": "144236a2",
   "metadata": {},
   "outputs": [],
   "source": [
    "def shuffle_data(train_list, test_list, val_list, shuffled_indices):\n",
    "    X = np.concatenate([train_list, test_list, val_list], axis=0)\n",
    "    X = np.array([X[i] for i in shuffled_indices])\n",
    "    n_tr = len(train_list)\n",
    "    n_te = len(test_list)\n",
    "    n_val = len(val_list)\n",
    "    return X[0: n_tr], X[n_tr: n_tr + n_te], X[n_tr + n_te:]\n",
    "\n",
    "if SHUFFLE_ALL:\n",
    "    n = X_train.shape[0] + X_val.shape[0] + X_test.shape[0]\n",
    "    ids = list(range(n))\n",
    "    shuffled_indices = np.random.permutation(len(ids))\n",
    "\n",
    "    X_train, X_test, X_val = shuffle_data(X_train, X_test, X_val, shuffled_indices)\n",
    "    y_train, y_test, y_val = shuffle_data(y_train, y_test, y_val, shuffled_indices)\n",
    "    I_train, I_test, I_val = shuffle_data(I_train, I_test, I_val, shuffled_indices)\n",
    "    train_kcal_MET, test_kcal_MET, val_kcal_MET = shuffle_data(train_kcal_MET, test_kcal_MET, val_kcal_MET, shuffled_indices)"
   ]
  },
  {
   "cell_type": "code",
   "execution_count": 13,
   "id": "9c260ed5-7bea-4b0e-9d6f-2c2668d95811",
   "metadata": {},
   "outputs": [
    {
     "data": {
      "text/plain": [
       "array(['Accelerometer-X', 'Accelerometer-Y', 'Accelerometer-Z',\n",
       "       'Gyrometer-X', 'Gyrometer-Y', 'Gyrometer-Z', 'Magnetometer-X',\n",
       "       'Magnetometer-Y', 'Magnetometer-Z'], dtype='<U15')"
      ]
     },
     "execution_count": 13,
     "metadata": {},
     "output_type": "execute_result"
    }
   ],
   "source": [
    "har_dimensions"
   ]
  },
  {
   "cell_type": "code",
   "execution_count": 14,
   "id": "e4284411-85dc-4e81-9671-832568f05d7c",
   "metadata": {},
   "outputs": [
    {
     "data": {
      "text/plain": [
       "([-1.2347009181976318,\n",
       "  -1.5885978937149048,\n",
       "  -1.0381275415420532,\n",
       "  -4.732575416564941,\n",
       "  -3.347278356552124,\n",
       "  -3.3371174335479736],\n",
       " [1.542318344116211,\n",
       "  0.7820973992347717,\n",
       "  0.7367585301399231,\n",
       "  2.8887481689453125,\n",
       "  2.6872572898864746,\n",
       "  3.323666572570801])"
      ]
     },
     "execution_count": 14,
     "metadata": {},
     "output_type": "execute_result"
    }
   ],
   "source": [
    "from source.tserie import TSerie\n",
    "from source.utils import  filter_dimensions\n",
    "dimensions = ['Accelerometer-X', 'Accelerometer-Y', 'Accelerometer-Z', 'Gyrometer-X', 'Gyrometer-Y', 'Gyrometer-Z']\n",
    "\n",
    "X_train_f = filter_dimensions(X_train, har_dimensions, dimensions)\n",
    "X_test_f = filter_dimensions(X_test, har_dimensions, dimensions)\n",
    "X_val_f = filter_dimensions(X_val, har_dimensions, dimensions)\n",
    "\n",
    "mts_train = TSerie(X = X_train_f, y = y_train, I = I_train, dimensions = dimensions, classLabels=har_activities_map)\n",
    "mts_test = TSerie(X = X_test_f, y = y_test, I = I_test, dimensions = dimensions, classLabels=har_activities_map)\n",
    "mts_val = TSerie(X = X_val_f, y = y_val, I = I_val, dimensions = dimensions, classLabels=har_activities_map)\n",
    "\n",
    "\n",
    "minl, maxl = mts_train.minMaxNormalization()\n",
    "mts_val.minMaxNormalization(minl=minl, maxl=maxl)\n",
    "mts_test.minMaxNormalization(minl=minl, maxl=maxl)\n",
    "# mts_train.center()\n",
    "# mts_val.center()\n",
    "# mts_test.center()\n",
    "\n",
    "mts_train.znorm()\n",
    "mts_val.znorm()\n",
    "mts_test.znorm()\n",
    "\n",
    "minl, maxl = mts_train.minMaxNormalization()\n",
    "mts_val.minMaxNormalization(minl=minl, maxl=maxl)\n",
    "mts_test.minMaxNormalization(minl=minl, maxl=maxl)"
   ]
  },
  {
   "cell_type": "code",
   "execution_count": 15,
   "id": "adea1e7d-7519-406c-9782-67d832d2e870",
   "metadata": {},
   "outputs": [],
   "source": [
    "from source.datasets import ContrastiveDataset\n",
    "from torch.utils.data import DataLoader\n",
    "\n",
    "train_dataset = ContrastiveDataset(mts_train.X.transpose([0, 2, 1]).astype(np.float32), y_train, use_label=False)\n",
    "train_dataloader = DataLoader(train_dataset, batch_size=32, shuffle=True)\n",
    "val_dataset = ContrastiveDataset(mts_val.X.transpose([0, 2, 1]).astype(np.float32), y_val, use_label=False)\n",
    "val_dataloader = DataLoader(val_dataset, batch_size=32, shuffle=True)\n",
    "test_dataset = ContrastiveDataset(mts_test.X.transpose([0, 2, 1]).astype(np.float32), y_test, use_label=False)\n",
    "test_dataloader = DataLoader(test_dataset, batch_size=32, shuffle=True)"
   ]
  },
  {
   "cell_type": "code",
   "execution_count": 16,
   "id": "874a2a3b-9199-4a8d-a40f-125a209814ec",
   "metadata": {},
   "outputs": [
    {
     "name": "stdout",
     "output_type": "stream",
     "text": [
      "Subsequence length: 180\n",
      "Epoch[1] Train loss    avg: 5.715639195864713\n",
      "Epoch[1] Val loss      avg: 4.094325227557488\n",
      "[Log] Saving model with loss: 4.094325227557488\n",
      "Epoch[2] Train loss    avg: 4.125626253176339\n",
      "Epoch[2] Val loss      avg: 4.080663136716159\n",
      "[Log] Saving model with loss: 4.080663136716159\n",
      "Epoch[3] Train loss    avg: 4.115619979327238\n",
      "Epoch[3] Val loss      avg: 4.065685191244449\n",
      "[Log] Saving model with loss: 4.065685191244449\n",
      "Epoch[4] Train loss    avg: 4.09545031227643\n",
      "Epoch[4] Val loss      avg: 4.0510706316750005\n",
      "[Log] Saving model with loss: 4.0510706316750005\n",
      "Epoch[5] Train loss    avg: 4.092213835897325\n",
      "Epoch[5] Val loss      avg: 4.041917252090742\n",
      "[Log] Saving model with loss: 4.041917252090742\n",
      "Epoch[6] Train loss    avg: 4.08202873755105\n",
      "Epoch[6] Val loss      avg: 4.066846964494237\n",
      "Epoch[7] Train loss    avg: 4.073728849616232\n",
      "Epoch[7] Val loss      avg: 4.069549879937802\n",
      "Epoch[8] Train loss    avg: 4.076969293099415\n",
      "Epoch[8] Val loss      avg: 4.05448661210402\n"
     ]
    },
    {
     "data": {
      "image/png": "[encoded data removed]",
      "text/plain": [
       "<Figure size 432x288 with 1 Axes>"
      ]
     },
     "metadata": {
      "needs_background": "light"
     },
     "output_type": "display_data"
    }
   ],
   "source": [
    "%autoreload 2\n",
    "from torch_snippets import *\n",
    "from source.models.contrastive.models import LSTMSiameseNetwork, SiameseNetwork, train_batch, train_batch_contrastive, train_batch_triplet, eval_batch, eval_batch_contrastive, eval_batch_triplet\n",
    "from source.losses import ContrastiveLoss, SupConLoss, TripletLoss\n",
    "from source.utils import ValueLogger\n",
    "import torch\n",
    "\n",
    "device = 'cuda' if torch.cuda.is_available() else 'cpu'\n",
    "\n",
    "\n",
    "\n",
    "subsequence_length = int(X_train_f.shape[1] * SUBSEC_PORC)\n",
    "\n",
    "print(\"Subsequence length: {}\".format(subsequence_length))\n",
    "\n",
    "model      = LSTMSiameseNetwork(X_train_f.shape[2], subsequence_length, device, feat_size=1024, encoding_size=8, head='mlp', conv_filters=[16, 16, 16], conv_kernels=[5, 5, 5]).to(device)\n",
    "\n",
    "model_path = os.path.join(EXP_PATH, 'model.pt')\n",
    "loss_path = os.path.join(EXP_PATH, 'loss.png')\n",
    "\n",
    "if LOSS == \"Contrastive\":\n",
    "    criterion  = ContrastiveLoss().to(device)\n",
    "elif LOSS == \"Triplet\":\n",
    "    criterion  = TripletLoss(margin=4.0).to(device)\n",
    "elif LOSS == \"SupConLoss\":\n",
    "    criterion = SupConLoss().to(device)\n",
    "    supervised = True\n",
    "else:\n",
    "    criterion = SupConLoss().to(device)\n",
    "    supervised = False\n",
    "\n",
    "trainLogs = ValueLogger(\"Train loss   \", epoch_freq=1)\n",
    "testLogs = ValueLogger( \"Test loss    \", epoch_freq=1)\n",
    "valLogs = ValueLogger(  \"Val loss     \", epoch_freq=1)\n",
    "\n",
    "optimizer  = optim.AdamW(model.parameters(),lr = 0.0005)\n",
    "# optimizer  = optim.AdamW(model.parameters(),lr = 0.00001) #Triplet\n",
    "# optimizer  = optim.SGD(model.parameters(),lr = 0.001)\n",
    "# optimizer  = optim.Adam(model.parameters(),lr = 0.0001, weight_decay=0.004)\n",
    "\n",
    "for epoch in range(EPOCHS):\n",
    "    N = len(train_dataloader)\n",
    "    for i, data in enumerate(train_dataloader):\n",
    "        loss = None\n",
    "        if LOSS == \"Contrastive\":\n",
    "            loss = train_batch_contrastive(model, data, optimizer, criterion, device, subsequence_length)\n",
    "        elif LOSS == \"Triplet\":\n",
    "            loss = train_batch_triplet(model, data, optimizer, criterion, device, subsequence_length)\n",
    "        elif LOSS == \"SupConLoss\":\n",
    "            loss = train_batch(model, data, optimizer, criterion, device, subsequence_length, supervised=supervised)\n",
    "        else:\n",
    "            loss = train_batch(model, data, optimizer, criterion, device, subsequence_length, supervised=supervised)\n",
    "        trainLogs.update(loss)\n",
    "    trainLogs.end_epoch()\n",
    "    with torch.no_grad():\n",
    "        N = len(val_dataloader)\n",
    "        for i, data in enumerate(val_dataloader):\n",
    "            if LOSS == \"Contrastive\":\n",
    "                loss = eval_batch_contrastive(model, data,  criterion, device, subsequence_length)\n",
    "            elif LOSS == \"Triplet\":\n",
    "                loss = eval_batch_triplet(model, data,  criterion, device, subsequence_length)\n",
    "            elif LOSS == \"SupConLoss\":\n",
    "                loss = eval_batch(model, data,  criterion, device, subsequence_length, supervised=supervised)\n",
    "            else:\n",
    "                loss = eval_batch(model, data,  criterion, device, subsequence_length, supervised=supervised)\n",
    "            valLogs.update(loss)\n",
    "                \n",
    "        if  valLogs.end_epoch():\n",
    "            print('[Log] Saving model with loss: {}'.format(valLogs.bestAvg))\n",
    "            torch.save(model, model_path) \n",
    "\n",
    "fig = plt.figure()\n",
    "ax0 = fig.add_subplot(111, title=\"loss\")\n",
    "ax0.plot(trainLogs.avgs, 'bo-', label='train')\n",
    "ax0.plot(valLogs.avgs, 'ro-', label='val')\n",
    "\n",
    "ax0.legend()\n",
    "fig.savefig(loss_path)"
   ]
  },
  {
   "cell_type": "code",
   "execution_count": null,
   "id": "b8c2a9f9",
   "metadata": {},
   "outputs": [],
   "source": []
  },
  {
   "cell_type": "code",
   "execution_count": 17,
   "id": "3241079a",
   "metadata": {},
   "outputs": [
    {
     "name": "stdout",
     "output_type": "stream",
     "text": [
      "Epoch[1] Test loss     avg: 3.281736373901367\n"
     ]
    }
   ],
   "source": [
    "  \n",
    "model = torch.load(model_path)\n",
    "with torch.no_grad():\n",
    "    N = len(test_dataloader)\n",
    "    for i, data in enumerate(test_dataloader):\n",
    "        if LOSS == \"Contrastive\":\n",
    "            if LOSS == \"Contrastive\":\n",
    "                loss = eval_batch_contrastive(model, data, criterion, device, subsequence_length)\n",
    "            elif LOSS == \"Triplet\":\n",
    "                loss = eval_batch_triplet(model, data, criterion, device, subsequence_length)\n",
    "            elif LOSS == \"SupConLoss\":\n",
    "                loss = eval_batch(model, data, criterion, device, subsequence_length, supervised=supervised)\n",
    "            else:\n",
    "                loss = eval_batch(model, data, criterion, device, subsequence_length, supervised=supervised)\n",
    "        testLogs.update(loss)\n",
    "    testLogs.end_epoch()"
   ]
  },
  {
   "cell_type": "code",
   "execution_count": 18,
   "id": "a98217fa-f649-47f8-a608-f005ff2b287f",
   "metadata": {},
   "outputs": [],
   "source": [
    "# # ---------------Load best model is you already saved it-----------------\n",
    "# model      = SiameseNetwork(X_train_f.shape[2], win_len).to(device)\n",
    "# model = torch.load(model_path)"
   ]
  },
  {
   "cell_type": "code",
   "execution_count": 19,
   "id": "220fe5a1",
   "metadata": {},
   "outputs": [],
   "source": [
    "# Get the representations from the model\n",
    "train_repr = model.encode(X_train_f.transpose(0, 2, 1), device)\n",
    "test_repr = model.encode(X_test_f.transpose(0, 2, 1), device)"
   ]
  },
  {
   "cell_type": "markdown",
   "id": "18384c26",
   "metadata": {},
   "source": [
    "## VISUALIZATION TASK"
   ]
  },
  {
   "cell_type": "code",
   "execution_count": 20,
   "id": "7ada1c46-42f7-4249-ab21-4e193d1ced72",
   "metadata": {},
   "outputs": [
    {
     "name": "stderr",
     "output_type": "stream",
     "text": [
      "OMP: Info #276: omp_set_nested routine deprecated, please use omp_set_max_active_levels instead.\n"
     ]
    },
    {
     "data": {
      "text/html": [
       "<style>#sk-container-id-1 {color: black;background-color: white;}#sk-container-id-1 pre{padding: 0;}#sk-container-id-1 div.sk-toggleable {background-color: white;}#sk-container-id-1 label.sk-toggleable__label {cursor: pointer;display: block;width: 100%;margin-bottom: 0;padding: 0.3em;box-sizing: border-box;text-align: center;}#sk-container-id-1 label.sk-toggleable__label-arrow:before {content: \"▸\";float: left;margin-right: 0.25em;color: #696969;}#sk-container-id-1 label.sk-toggleable__label-arrow:hover:before {color: black;}#sk-container-id-1 div.sk-estimator:hover label.sk-toggleable__label-arrow:before {color: black;}#sk-container-id-1 div.sk-toggleable__content {max-height: 0;max-width: 0;overflow: hidden;text-align: left;background-color: #f0f8ff;}#sk-container-id-1 div.sk-toggleable__content pre {margin: 0.2em;color: black;border-radius: 0.25em;background-color: #f0f8ff;}#sk-container-id-1 input.sk-toggleable__control:checked~div.sk-toggleable__content {max-height: 200px;max-width: 100%;overflow: auto;}#sk-container-id-1 input.sk-toggleable__control:checked~label.sk-toggleable__label-arrow:before {content: \"▾\";}#sk-container-id-1 div.sk-estimator input.sk-toggleable__control:checked~label.sk-toggleable__label {background-color: #d4ebff;}#sk-container-id-1 div.sk-label input.sk-toggleable__control:checked~label.sk-toggleable__label {background-color: #d4ebff;}#sk-container-id-1 input.sk-hidden--visually {border: 0;clip: rect(1px 1px 1px 1px);clip: rect(1px, 1px, 1px, 1px);height: 1px;margin: -1px;overflow: hidden;padding: 0;position: absolute;width: 1px;}#sk-container-id-1 div.sk-estimator {font-family: monospace;background-color: #f0f8ff;border: 1px dotted black;border-radius: 0.25em;box-sizing: border-box;margin-bottom: 0.5em;}#sk-container-id-1 div.sk-estimator:hover {background-color: #d4ebff;}#sk-container-id-1 div.sk-parallel-item::after {content: \"\";width: 100%;border-bottom: 1px solid gray;flex-grow: 1;}#sk-container-id-1 div.sk-label:hover label.sk-toggleable__label {background-color: #d4ebff;}#sk-container-id-1 div.sk-serial::before {content: \"\";position: absolute;border-left: 1px solid gray;box-sizing: border-box;top: 0;bottom: 0;left: 50%;z-index: 0;}#sk-container-id-1 div.sk-serial {display: flex;flex-direction: column;align-items: center;background-color: white;padding-right: 0.2em;padding-left: 0.2em;position: relative;}#sk-container-id-1 div.sk-item {position: relative;z-index: 1;}#sk-container-id-1 div.sk-parallel {display: flex;align-items: stretch;justify-content: center;background-color: white;position: relative;}#sk-container-id-1 div.sk-item::before, #sk-container-id-1 div.sk-parallel-item::before {content: \"\";position: absolute;border-left: 1px solid gray;box-sizing: border-box;top: 0;bottom: 0;left: 50%;z-index: -1;}#sk-container-id-1 div.sk-parallel-item {display: flex;flex-direction: column;z-index: 1;position: relative;background-color: white;}#sk-container-id-1 div.sk-parallel-item:first-child::after {align-self: flex-end;width: 50%;}#sk-container-id-1 div.sk-parallel-item:last-child::after {align-self: flex-start;width: 50%;}#sk-container-id-1 div.sk-parallel-item:only-child::after {width: 0;}#sk-container-id-1 div.sk-dashed-wrapped {border: 1px dashed gray;margin: 0 0.4em 0.5em 0.4em;box-sizing: border-box;padding-bottom: 0.4em;background-color: white;}#sk-container-id-1 div.sk-label label {font-family: monospace;font-weight: bold;display: inline-block;line-height: 1.2em;}#sk-container-id-1 div.sk-label-container {text-align: center;}#sk-container-id-1 div.sk-container {/* jupyter's `normalize.less` sets `[hidden] { display: none; }` but bootstrap.min.css set `[hidden] { display: none !important; }` so we also need the `!important` here to be able to override the default hidden behavior on the sphinx rendered scikit-learn.org. See: https://github.com/scikit-learn/scikit-learn/issues/21755 */display: inline-block !important;position: relative;}#sk-container-id-1 div.sk-text-repr-fallback {display: none;}</style><div id=\"sk-container-id-1\" class=\"sk-top-container\"><div class=\"sk-text-repr-fallback\"><pre>UMAP(tqdm_kwds={&#x27;bar_format&#x27;: &#x27;{desc}: {percentage:3.0f}%| {bar} {n_fmt}/{total_fmt} [{elapsed}]&#x27;, &#x27;desc&#x27;: &#x27;Epochs completed&#x27;, &#x27;disable&#x27;: True})</pre><b>In a Jupyter environment, please rerun this cell to show the HTML representation or trust the notebook. <br />On GitHub, the HTML representation is unable to render, please try loading this page with nbviewer.org.</b></div><div class=\"sk-container\" hidden><div class=\"sk-item\"><div class=\"sk-estimator sk-toggleable\"><input class=\"sk-toggleable__control sk-hidden--visually\" id=\"sk-estimator-id-1\" type=\"checkbox\" checked><label for=\"sk-estimator-id-1\" class=\"sk-toggleable__label sk-toggleable__label-arrow\">UMAP</label><div class=\"sk-toggleable__content\"><pre>UMAP(tqdm_kwds={&#x27;bar_format&#x27;: &#x27;{desc}: {percentage:3.0f}%| {bar} {n_fmt}/{total_fmt} [{elapsed}]&#x27;, &#x27;desc&#x27;: &#x27;Epochs completed&#x27;, &#x27;disable&#x27;: True})</pre></div></div></div></div></div>"
      ],
      "text/plain": [
       "UMAP(tqdm_kwds={'bar_format': '{desc}: {percentage:3.0f}%| {bar} {n_fmt}/{total_fmt} [{elapsed}]', 'desc': 'Epochs completed', 'disable': True})"
      ]
     },
     "execution_count": 20,
     "metadata": {},
     "output_type": "execute_result"
    }
   ],
   "source": [
    "import umap\n",
    "reducer = umap.UMAP(n_components = 2)\n",
    "reducer.fit(train_repr, y=y_train)\n",
    "# reducer.fit(train_repr)"
   ]
  },
  {
   "cell_type": "code",
   "execution_count": 21,
   "id": "f8ce2df9-4d3c-4f3f-98da-fa61f2c5cacc",
   "metadata": {},
   "outputs": [],
   "source": [
    "train_coords = reducer.transform(train_repr)\n",
    "test_coords = reducer.transform(test_repr)"
   ]
  },
  {
   "cell_type": "code",
   "execution_count": 22,
   "id": "778187a0-c2cc-4a5d-8fa6-b1aa79fdac8c",
   "metadata": {},
   "outputs": [
    {
     "name": "stdout",
     "output_type": "stream",
     "text": [
      "['Sitting', 'Lying', 'Standing', 'Walking', 'Running', 'Downstairs', 'Upstairs']\n"
     ]
    },
    {
     "data": {
      "text/plain": [
       "<matplotlib.legend.Legend at 0x7f17010e0a90>"
      ]
     },
     "execution_count": 22,
     "metadata": {},
     "output_type": "execute_result"
    },
    {
     "data": {
      "image/png": "[encoded data removed]",
      "text/plain": [
       "<Figure size 432x288 with 1 Axes>"
      ]
     },
     "metadata": {
      "needs_background": "light"
     },
     "output_type": "display_data"
    }
   ],
   "source": [
    "import matplotlib.pyplot as plt\n",
    "\n",
    "print(activities)\n",
    "fig, ax = plt.subplots()\n",
    "\n",
    "scatter = ax.scatter(train_coords[:, 0], train_coords[:, 1], c = y_train, cmap='jet', label='Inline label')\n",
    "\n",
    "legend1 = ax.legend(*scatter.legend_elements(),\n",
    "                    loc=\"lower left\", title=\"Classes\")\n",
    "ax.add_artist(legend1)\n",
    "\n"
   ]
  },
  {
   "cell_type": "code",
   "execution_count": 23,
   "id": "ebdbe81b-0efa-4130-9207-b96f8fa0716d",
   "metadata": {},
   "outputs": [
    {
     "data": {
      "text/plain": [
       "<matplotlib.collections.PathCollection at 0x7f17005aabc0>"
      ]
     },
     "execution_count": 23,
     "metadata": {},
     "output_type": "execute_result"
    },
    {
     "data": {
      "image/png": "[encoded data removed]",
      "text/plain": [
       "<Figure size 432x288 with 1 Axes>"
      ]
     },
     "metadata": {
      "needs_background": "light"
     },
     "output_type": "display_data"
    }
   ],
   "source": [
    "plt.scatter(test_coords[:, 0], test_coords[:, 1], c = y_test, cmap='jet')"
   ]
  },
  {
   "cell_type": "code",
   "execution_count": null,
   "id": "11bd39b8-4263-4667-a641-5a2301043fd3",
   "metadata": {},
   "outputs": [],
   "source": []
  },
  {
   "cell_type": "markdown",
   "id": "087e0c17",
   "metadata": {},
   "source": [
    "## CLASSIFICATION TASK"
   ]
  },
  {
   "cell_type": "code",
   "execution_count": 24,
   "id": "7db8afe3-e67a-4b71-a730-ea3a85a05486",
   "metadata": {},
   "outputs": [
    {
     "name": "stderr",
     "output_type": "stream",
     "text": [
      "/home/texs/anaconda3/envs/contrastive/lib/python3.10/site-packages/sklearn/neighbors/_classification.py:207: DataConversionWarning: A column-vector y was passed when a 1d array was expected. Please change the shape of y to (n_samples,), for example using ravel().\n",
      "  return self._fit(X, y)\n"
     ]
    }
   ],
   "source": [
    "from sklearn.ensemble import RandomForestClassifier\n",
    "from sklearn.neighbors import KNeighborsClassifier\n",
    "from sklearn.svm import LinearSVC\n",
    "from sklearn import svm\n",
    "\n",
    "def classify_dataset(X_train, y_train, X_test, y_test):\n",
    "    # clf = RandomForestClassifier(random_state=0)\n",
    "    # clf = LinearSVC(dual=False, random_state=123)\n",
    "    # clf = svm.SVC()\n",
    "    clf = KNeighborsClassifier()\n",
    "    clf.fit(X_train, y_train)\n",
    "    return clf.predict(X_train), clf.predict(X_test)\n",
    "    \n",
    "\n",
    "train_pred, test_pred = classify_dataset(train_repr, y_train, test_repr, y_test)\n",
    "\n"
   ]
  },
  {
   "cell_type": "code",
   "execution_count": 25,
   "id": "f19e2fd3-a236-4f5a-8a5c-cb2747f1c733",
   "metadata": {},
   "outputs": [
    {
     "name": "stdout",
     "output_type": "stream",
     "text": [
      "Training balanced accuracy: 0.6394444444444444 - testing balanced accuracy: 0.2775\n",
      "Training accuracy: 0.734920634920635 - testing accuracy: 0.3470238095238095\n",
      "Training f1 score: 0.7141299603167369 - testing f1 score: 0.35471212602637936\n"
     ]
    }
   ],
   "source": [
    "from sklearn import metrics\n",
    "\n",
    "bal_acc_tr = metrics.balanced_accuracy_score(y_train, train_pred)\n",
    "bal_acc_te = metrics.balanced_accuracy_score(y_test, test_pred)\n",
    "\n",
    "acc_tr = metrics.accuracy_score(y_train, train_pred)\n",
    "acc_te = metrics.accuracy_score(y_test, test_pred)\n",
    "            \n",
    "f1_tr = metrics.f1_score(y_train, train_pred, average='weighted')\n",
    "f1_te = metrics.f1_score(y_test, test_pred, average='weighted')\n",
    "\n",
    "print(\"Training balanced accuracy: {} - testing balanced accuracy: {}\".format(bal_acc_tr, bal_acc_te))\n",
    "print(\"Training accuracy: {} - testing accuracy: {}\".format(acc_tr, acc_te))\n",
    "print(\"Training f1 score: {} - testing f1 score: {}\".format(f1_tr, f1_te))"
   ]
  },
  {
   "cell_type": "code",
   "execution_count": 26,
   "id": "bd00ed11-a471-4237-a92b-d3954e46537e",
   "metadata": {},
   "outputs": [
    {
     "data": {
      "text/plain": [
       "<sklearn.metrics._plot.confusion_matrix.ConfusionMatrixDisplay at 0x7f16769780d0>"
      ]
     },
     "execution_count": 26,
     "metadata": {},
     "output_type": "execute_result"
    },
    {
     "data": {
      "image/png": "[encoded data removed]",
      "text/plain": [
       "<Figure size 432x288 with 2 Axes>"
      ]
     },
     "metadata": {
      "needs_background": "light"
     },
     "output_type": "display_data"
    }
   ],
   "source": [
    "from sklearn.metrics import confusion_matrix, ConfusionMatrixDisplay\n",
    "\n",
    "cm_train = confusion_matrix(y_train, train_pred)\n",
    "disp = ConfusionMatrixDisplay(confusion_matrix=cm_train, display_labels= activities[2:])\n",
    "disp.plot()\n"
   ]
  },
  {
   "cell_type": "code",
   "execution_count": 27,
   "id": "eb7084ea-ba43-4a15-b38b-939132f381e5",
   "metadata": {},
   "outputs": [
    {
     "data": {
      "text/plain": [
       "<sklearn.metrics._plot.confusion_matrix.ConfusionMatrixDisplay at 0x7f1704f93fd0>"
      ]
     },
     "execution_count": 27,
     "metadata": {},
     "output_type": "execute_result"
    },
    {
     "data": {
      "image/png": "[encoded data removed]",
      "text/plain": [
       "<Figure size 432x288 with 2 Axes>"
      ]
     },
     "metadata": {
      "needs_background": "light"
     },
     "output_type": "display_data"
    }
   ],
   "source": [
    "cm_test = confusion_matrix(y_test, test_pred)\n",
    "disp = ConfusionMatrixDisplay(confusion_matrix=cm_test, display_labels= activities[2:])\n",
    "disp.plot()\n"
   ]
  },
  {
   "cell_type": "code",
   "execution_count": null,
   "id": "bd05ff70",
   "metadata": {},
   "outputs": [],
   "source": []
  },
  {
   "cell_type": "markdown",
   "id": "996ba0a8",
   "metadata": {},
   "source": [
    "## PREDICTION"
   ]
  },
  {
   "cell_type": "code",
   "execution_count": 28,
   "id": "5e3486fd",
   "metadata": {},
   "outputs": [
    {
     "name": "stderr",
     "output_type": "stream",
     "text": [
      "/home/texs/anaconda3/envs/contrastive/lib/python3.10/site-packages/sklearn/linear_model/_stochastic_gradient.py:1527: ConvergenceWarning: Maximum number of iteration reached before convergence. Consider increasing max_iter to improve the fit.\n",
      "  warnings.warn(\n"
     ]
    },
    {
     "data": {
      "text/html": [
       "<style>#sk-container-id-2 {color: black;background-color: white;}#sk-container-id-2 pre{padding: 0;}#sk-container-id-2 div.sk-toggleable {background-color: white;}#sk-container-id-2 label.sk-toggleable__label {cursor: pointer;display: block;width: 100%;margin-bottom: 0;padding: 0.3em;box-sizing: border-box;text-align: center;}#sk-container-id-2 label.sk-toggleable__label-arrow:before {content: \"▸\";float: left;margin-right: 0.25em;color: #696969;}#sk-container-id-2 label.sk-toggleable__label-arrow:hover:before {color: black;}#sk-container-id-2 div.sk-estimator:hover label.sk-toggleable__label-arrow:before {color: black;}#sk-container-id-2 div.sk-toggleable__content {max-height: 0;max-width: 0;overflow: hidden;text-align: left;background-color: #f0f8ff;}#sk-container-id-2 div.sk-toggleable__content pre {margin: 0.2em;color: black;border-radius: 0.25em;background-color: #f0f8ff;}#sk-container-id-2 input.sk-toggleable__control:checked~div.sk-toggleable__content {max-height: 200px;max-width: 100%;overflow: auto;}#sk-container-id-2 input.sk-toggleable__control:checked~label.sk-toggleable__label-arrow:before {content: \"▾\";}#sk-container-id-2 div.sk-estimator input.sk-toggleable__control:checked~label.sk-toggleable__label {background-color: #d4ebff;}#sk-container-id-2 div.sk-label input.sk-toggleable__control:checked~label.sk-toggleable__label {background-color: #d4ebff;}#sk-container-id-2 input.sk-hidden--visually {border: 0;clip: rect(1px 1px 1px 1px);clip: rect(1px, 1px, 1px, 1px);height: 1px;margin: -1px;overflow: hidden;padding: 0;position: absolute;width: 1px;}#sk-container-id-2 div.sk-estimator {font-family: monospace;background-color: #f0f8ff;border: 1px dotted black;border-radius: 0.25em;box-sizing: border-box;margin-bottom: 0.5em;}#sk-container-id-2 div.sk-estimator:hover {background-color: #d4ebff;}#sk-container-id-2 div.sk-parallel-item::after {content: \"\";width: 100%;border-bottom: 1px solid gray;flex-grow: 1;}#sk-container-id-2 div.sk-label:hover label.sk-toggleable__label {background-color: #d4ebff;}#sk-container-id-2 div.sk-serial::before {content: \"\";position: absolute;border-left: 1px solid gray;box-sizing: border-box;top: 0;bottom: 0;left: 50%;z-index: 0;}#sk-container-id-2 div.sk-serial {display: flex;flex-direction: column;align-items: center;background-color: white;padding-right: 0.2em;padding-left: 0.2em;position: relative;}#sk-container-id-2 div.sk-item {position: relative;z-index: 1;}#sk-container-id-2 div.sk-parallel {display: flex;align-items: stretch;justify-content: center;background-color: white;position: relative;}#sk-container-id-2 div.sk-item::before, #sk-container-id-2 div.sk-parallel-item::before {content: \"\";position: absolute;border-left: 1px solid gray;box-sizing: border-box;top: 0;bottom: 0;left: 50%;z-index: -1;}#sk-container-id-2 div.sk-parallel-item {display: flex;flex-direction: column;z-index: 1;position: relative;background-color: white;}#sk-container-id-2 div.sk-parallel-item:first-child::after {align-self: flex-end;width: 50%;}#sk-container-id-2 div.sk-parallel-item:last-child::after {align-self: flex-start;width: 50%;}#sk-container-id-2 div.sk-parallel-item:only-child::after {width: 0;}#sk-container-id-2 div.sk-dashed-wrapped {border: 1px dashed gray;margin: 0 0.4em 0.5em 0.4em;box-sizing: border-box;padding-bottom: 0.4em;background-color: white;}#sk-container-id-2 div.sk-label label {font-family: monospace;font-weight: bold;display: inline-block;line-height: 1.2em;}#sk-container-id-2 div.sk-label-container {text-align: center;}#sk-container-id-2 div.sk-container {/* jupyter's `normalize.less` sets `[hidden] { display: none; }` but bootstrap.min.css set `[hidden] { display: none !important; }` so we also need the `!important` here to be able to override the default hidden behavior on the sphinx rendered scikit-learn.org. See: https://github.com/scikit-learn/scikit-learn/issues/21755 */display: inline-block !important;position: relative;}#sk-container-id-2 div.sk-text-repr-fallback {display: none;}</style><div id=\"sk-container-id-2\" class=\"sk-top-container\"><div class=\"sk-text-repr-fallback\"><pre>SGDRegressor(max_iter=20)</pre><b>In a Jupyter environment, please rerun this cell to show the HTML representation or trust the notebook. <br />On GitHub, the HTML representation is unable to render, please try loading this page with nbviewer.org.</b></div><div class=\"sk-container\" hidden><div class=\"sk-item\"><div class=\"sk-estimator sk-toggleable\"><input class=\"sk-toggleable__control sk-hidden--visually\" id=\"sk-estimator-id-2\" type=\"checkbox\" checked><label for=\"sk-estimator-id-2\" class=\"sk-toggleable__label sk-toggleable__label-arrow\">SGDRegressor</label><div class=\"sk-toggleable__content\"><pre>SGDRegressor(max_iter=20)</pre></div></div></div></div></div>"
      ],
      "text/plain": [
       "SGDRegressor(max_iter=20)"
      ]
     },
     "execution_count": 28,
     "metadata": {},
     "output_type": "execute_result"
    }
   ],
   "source": [
    "from sklearn.linear_model import LinearRegression\n",
    "from sklearn.linear_model import SGDRegressor\n",
    "\n",
    "def regression_results(y_true, y_pred):\n",
    "    \n",
    "    # Regression metrics\n",
    "    explained_variance=metrics.explained_variance_score(y_true, y_pred)\n",
    "    mean_absolute_error=metrics.mean_absolute_error(y_true, y_pred) \n",
    "    # mse=metrics.mean_squared_error(y_true, y_pred) \n",
    "    # mean_squared_log_error=metrics.mean_squared_log_error(y_true, y_pred)\n",
    "    # median_absolute_error=metrics.median_absolute_error(y_true, y_pred)\n",
    "    r2=metrics.r2_score(y_true, y_pred)\n",
    "    \n",
    "    \n",
    "    # return round(mean_absolute_error,4), round(explained_variance,4)\n",
    "    return round(mean_absolute_error,4), round(r2,4)\n",
    "\n",
    "# regressor = LinearRegression()\n",
    "regressor = SGDRegressor(loss=\"squared_error\", penalty=\"l2\", max_iter=20)\n",
    "regressor.fit(train_repr, train_kcal_MET[:, 1])"
   ]
  },
  {
   "cell_type": "code",
   "execution_count": 29,
   "id": "8e978662",
   "metadata": {},
   "outputs": [],
   "source": [
    "train_met_pred = regressor.predict(train_repr) \n",
    "test_met_pred = regressor.predict(test_repr) \n",
    "# regressor.score(train_repr, train_kcal_MET[:, 1])"
   ]
  },
  {
   "cell_type": "code",
   "execution_count": 30,
   "id": "18632a49",
   "metadata": {},
   "outputs": [
    {
     "name": "stdout",
     "output_type": "stream",
     "text": [
      "(1.4465, 0.4773)\n",
      "(1.9396, -0.0286)\n"
     ]
    }
   ],
   "source": [
    "print(regression_results(train_kcal_MET[:, 1], train_met_pred))\n",
    "print(regression_results(test_kcal_MET[:, 1], test_met_pred))"
   ]
  },
  {
   "cell_type": "code",
   "execution_count": 31,
   "id": "1c225db7",
   "metadata": {},
   "outputs": [
    {
     "data": {
      "text/plain": [
       "array([3.611, 1.412, 1.839, 1.813, 1.359, 2.782, 1.934, 4.148, 2.092,\n",
       "       1.716])"
      ]
     },
     "execution_count": 31,
     "metadata": {},
     "output_type": "execute_result"
    }
   ],
   "source": [
    "test_met_pred[:10]"
   ]
  },
  {
   "cell_type": "code",
   "execution_count": 32,
   "id": "255e5382",
   "metadata": {},
   "outputs": [
    {
     "data": {
      "text/plain": [
       "array([1., 1., 1., 1., 1., 1., 1., 1., 1., 1.], dtype=float32)"
      ]
     },
     "execution_count": 32,
     "metadata": {},
     "output_type": "execute_result"
    }
   ],
   "source": [
    "test_kcal_MET[:10, 1]"
   ]
  },
  {
   "cell_type": "code",
   "execution_count": null,
   "id": "4128e62b",
   "metadata": {},
   "outputs": [],
   "source": []
  }
 ],
 "metadata": {
  "kernelspec": {
   "display_name": "Python 3.10.6 64-bit",
   "language": "python",
   "name": "python3"
  },
  "language_info": {
   "codemirror_mode": {
    "name": "ipython",
    "version": 3
   },
   "file_extension": ".py",
   "mimetype": "text/x-python",
   "name": "python",
   "nbconvert_exporter": "python",
   "pygments_lexer": "ipython3",
   "version": "3.10.6"
  },
  "vscode": {
   "interpreter": {
    "hash": "916dbcbb3f70747c44a77c7bcd40155683ae19c65e1c03b4aa3499c5328201f1"
   }
  }
 },
 "nbformat": 4,
 "nbformat_minor": 5
}
