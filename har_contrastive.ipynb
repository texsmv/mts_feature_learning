{
 "cells": [
  {
   "cell_type": "markdown",
   "id": "3a4d93d2-53f0-4aaa-82d7-afa193f67156",
   "metadata": {},
   "source": [
    "## Code for reading the HAR-UML dataset"
   ]
  },
  {
   "cell_type": "code",
   "execution_count": 22,
   "id": "31ba70bf-6dac-442b-9ee4-f69f197553d1",
   "metadata": {},
   "outputs": [
    {
     "name": "stdout",
     "output_type": "stream",
     "text": [
      "The autoreload extension is already loaded. To reload it, use:\n",
      "  %reload_ext autoreload\n"
     ]
    }
   ],
   "source": [
    "%load_ext autoreload\n",
    "%autoreload 2\n",
    "\n",
    "import numpy as np\n",
    "from source.read_HAR_dataset import read_har_dataset, har_dimensions\n",
    "from source.utils import create_dir\n",
    "import os\n",
    "\n",
    "# Shuffle all data from all participants (SHOULD BE ONLY USED TO FIND THE BEST MODEL)\n",
    "SHUFFLE_ALL = True\n",
    "LOSS = \"SupConLoss\" # \"Contrastive\" or \"Triplet\"  or \"SupConLoss\" or \"SimCLR\"\n",
    "SUBSEC_PORC = 0.75 # Porcentage of the window to be used as a sub-sequence\n",
    "FEAT_DIM = 16 # Dimension of the code of input to the LOSS criterion (IS NOT THE FEATERURE DIMENSION!!)\n",
    "EPOCHS   = 80 # You know ...\n",
    "EXP_DIR = 'experiments'\n",
    "\n",
    "mode = 'shuffle' if SHUFFLE_ALL else 'noshuffle'\n",
    "\n",
    "EXPERIMENT_NAME = 'Exp_{}_{}_{}_{}'.format(LOSS, mode, FEAT_DIM, int(SUBSEC_PORC * 100), EPOCHS)\n",
    "EXP_PATH = os.path.join(EXP_DIR, EXPERIMENT_NAME)\n",
    "create_dir(EXP_DIR)\n",
    "create_dir(EXP_PATH)\n",
    "\n",
    "activities = [\n",
    "    \"Sitting\",\n",
    "    \"Lying\",\n",
    "    \"Standing\",\n",
    "    \"Walking\",\n",
    "    \"Running\",\n",
    "    \"Downstairs\",\n",
    "    \"Upstairs\"\n",
    "]\n"
   ]
  },
  {
   "cell_type": "code",
   "execution_count": 8,
   "id": "3a526a48-a611-48c0-8eca-318ace67f145",
   "metadata": {},
   "outputs": [
    {
     "name": "stdout",
     "output_type": "stream",
     "text": [
      "IDS: [4, 3, 5, 9, 1, 8, 2, 7, 0, 6]\n",
      "Train IDS: [4, 3, 5, 9, 1, 8]\n",
      "Test IDS: [2, 7]\n",
      "Val IDS: [0, 6]\n"
     ]
    }
   ],
   "source": [
    "%autoreload 2\n",
    "\n",
    "data = read_har_dataset('./datasets/HAR-UML20/')\n",
    "\n",
    "ids_train, X_train, y_train, I_train, train_kcal_MET = data['train']\n",
    "\n",
    "ids_val, X_val, y_val, I_val, val_kcal_MET = data['val']\n",
    "\n",
    "ids_test, X_test, y_test, I_test, test_kcal_MET = data['test']"
   ]
  },
  {
   "cell_type": "code",
   "execution_count": 9,
   "id": "144236a2",
   "metadata": {},
   "outputs": [],
   "source": [
    "def shuffle_data(train_list, test_list, val_list, shuffled_indices):\n",
    "    X = np.concatenate([train_list, test_list, val_list], axis=0)\n",
    "    X = np.array([X[i] for i in shuffled_indices])\n",
    "    n_tr = len(train_list)\n",
    "    n_te = len(test_list)\n",
    "    n_val = len(val_list)\n",
    "    return X[0: n_tr], X[n_tr: n_tr + n_te], X[n_tr + n_te:]\n",
    "\n",
    "if SHUFFLE_ALL:\n",
    "    n = X_train.shape[0] + X_val.shape[0] + X_test.shape[0]\n",
    "    ids = list(range(n))\n",
    "    shuffled_indices = np.random.permutation(len(ids))\n",
    "\n",
    "    X_train, X_test, X_val = shuffle_data(X_train, X_test, X_val, shuffled_indices)\n",
    "    y_train, y_test, y_val = shuffle_data(y_train, y_test, y_val, shuffled_indices)\n",
    "    I_train, I_test, I_val = shuffle_data(I_train, I_test, I_val, shuffled_indices)\n",
    "    train_kcal_MET, test_kcal_MET, val_kcal_MET = shuffle_data(train_kcal_MET, test_kcal_MET, val_kcal_MET, shuffled_indices)"
   ]
  },
  {
   "cell_type": "code",
   "execution_count": 10,
   "id": "9c260ed5-7bea-4b0e-9d6f-2c2668d95811",
   "metadata": {},
   "outputs": [
    {
     "data": {
      "text/plain": [
       "array(['Accelerometer-X', 'Accelerometer-Y', 'Accelerometer-Z',\n",
       "       'Gyrometer-X', 'Gyrometer-Y', 'Gyrometer-Z', 'Magnetometer-X',\n",
       "       'Magnetometer-Y', 'Magnetometer-Z'], dtype='<U15')"
      ]
     },
     "execution_count": 10,
     "metadata": {},
     "output_type": "execute_result"
    }
   ],
   "source": [
    "har_dimensions"
   ]
  },
  {
   "cell_type": "code",
   "execution_count": 11,
   "id": "e4284411-85dc-4e81-9671-832568f05d7c",
   "metadata": {},
   "outputs": [],
   "source": [
    "from source.utils import  filter_dimensions\n",
    "dimensions = ['Accelerometer-X', 'Accelerometer-Y', 'Accelerometer-Z', 'Gyrometer-X', 'Gyrometer-Y', 'Gyrometer-Z']\n",
    "\n",
    "X_train_f = filter_dimensions(X_train, har_dimensions, dimensions)\n",
    "X_test_f = filter_dimensions(X_test, har_dimensions, dimensions)\n",
    "X_val_f = filter_dimensions(X_val, har_dimensions, dimensions)"
   ]
  },
  {
   "cell_type": "code",
   "execution_count": 12,
   "id": "adea1e7d-7519-406c-9782-67d832d2e870",
   "metadata": {},
   "outputs": [],
   "source": [
    "from source.datasets import ContrastiveDataset\n",
    "from torch.utils.data import DataLoader\n",
    "\n",
    "train_dataset = ContrastiveDataset(X_train_f.transpose([0, 2, 1]).astype(np.float32), y_train, use_label=False)\n",
    "train_dataloader = DataLoader(train_dataset, batch_size=32, shuffle=True)\n",
    "val_dataset = ContrastiveDataset(X_val_f.transpose([0, 2, 1]).astype(np.float32), y_val, use_label=False)\n",
    "val_dataloader = DataLoader(val_dataset, batch_size=32, shuffle=True)\n",
    "test_dataset = ContrastiveDataset(X_test_f.transpose([0, 2, 1]).astype(np.float32), y_test, use_label=False)\n",
    "test_dataloader = DataLoader(test_dataset, batch_size=32, shuffle=True)"
   ]
  },
  {
   "cell_type": "code",
   "execution_count": 14,
   "id": "874a2a3b-9199-4a8d-a40f-125a209814ec",
   "metadata": {},
   "outputs": [
    {
     "name": "stdout",
     "output_type": "stream",
     "text": [
      "Subsequence length: 150\n",
      "Epoch[1] Train loss    avg: 3.9629993529259404\n",
      "Epoch[1] Val loss      avg: 3.6683684295078494\n",
      "[Log] Saving model with loss: 3.6683684295078494\n",
      "Epoch[2] Train loss    avg: 3.5889810957486117\n",
      "Epoch[2] Val loss      avg: 3.483958563714657\n",
      "[Log] Saving model with loss: 3.483958563714657\n",
      "Epoch[3] Train loss    avg: 3.516259831718252\n",
      "Epoch[3] Val loss      avg: 3.488482070419024\n",
      "Epoch[4] Train loss    avg: 3.4808691543868826\n",
      "Epoch[4] Val loss      avg: 3.445825797206951\n",
      "[Log] Saving model with loss: 3.445825797206951\n",
      "Epoch[5] Train loss    avg: 3.4595325732532936\n",
      "Epoch[5] Val loss      avg: 3.4297093040538282\n",
      "[Log] Saving model with loss: 3.4297093040538282\n",
      "Epoch[6] Train loss    avg: 3.4491274236123775\n",
      "Epoch[6] Val loss      avg: 3.439974451964756\n",
      "Epoch[7] Train loss    avg: 3.4195566403714914\n",
      "Epoch[7] Val loss      avg: 3.407126912530863\n",
      "[Log] Saving model with loss: 3.407126912530863\n",
      "Epoch[8] Train loss    avg: 3.4160821799990497\n",
      "Epoch[8] Val loss      avg: 3.398945839899891\n",
      "[Log] Saving model with loss: 3.398945839899891\n",
      "Epoch[9] Train loss    avg: 3.3782493253297443\n",
      "Epoch[9] Val loss      avg: 3.3874566375084645\n",
      "[Log] Saving model with loss: 3.3874566375084645\n",
      "Epoch[10] Train loss    avg: 3.369504694697223\n",
      "Epoch[10] Val loss      avg: 3.3698910407300264\n",
      "[Log] Saving model with loss: 3.3698910407300264\n",
      "Epoch[11] Train loss    avg: 3.355510794663731\n",
      "Epoch[11] Val loss      avg: 3.365088309881822\n",
      "[Log] Saving model with loss: 3.365088309881822\n",
      "Epoch[12] Train loss    avg: 3.3242156581033635\n",
      "Epoch[12] Val loss      avg: 3.332211175054874\n",
      "[Log] Saving model with loss: 3.332211175054874\n",
      "Epoch[13] Train loss    avg: 3.3159507814841933\n",
      "Epoch[13] Val loss      avg: 3.3295878149428457\n",
      "[Log] Saving model with loss: 3.3295878149428457\n",
      "Epoch[14] Train loss    avg: 3.336761696429192\n",
      "Epoch[14] Val loss      avg: 3.3612837611504323\n",
      "Epoch[15] Train loss    avg: 3.2994066069397747\n",
      "Epoch[15] Val loss      avg: 3.3103750336844966\n",
      "[Log] Saving model with loss: 3.3103750336844966\n",
      "Epoch[16] Train loss    avg: 3.294265074065969\n",
      "Epoch[16] Val loss      avg: 3.3053897146908744\n",
      "[Log] Saving model with loss: 3.3053897146908744\n",
      "Epoch[17] Train loss    avg: 3.304009680506549\n",
      "Epoch[17] Val loss      avg: 3.296376295809476\n",
      "[Log] Saving model with loss: 3.296376295809476\n",
      "Epoch[18] Train loss    avg: 3.2988571049291875\n",
      "Epoch[18] Val loss      avg: 3.313597814092096\n",
      "Epoch[19] Train loss    avg: 3.283923336222202\n",
      "Epoch[19] Val loss      avg: 3.2953449600147753\n",
      "[Log] Saving model with loss: 3.2953449600147753\n",
      "Epoch[20] Train loss    avg: 3.302155600318426\n",
      "Epoch[20] Val loss      avg: 3.302660627185174\n",
      "Epoch[21] Train loss    avg: 3.2753597890274433\n",
      "Epoch[21] Val loss      avg: 3.2659024157614076\n",
      "[Log] Saving model with loss: 3.2659024157614076\n",
      "Epoch[22] Train loss    avg: 3.2650527818293513\n",
      "Epoch[22] Val loss      avg: 3.304485114115589\n",
      "Epoch[23] Train loss    avg: 3.278694955608513\n",
      "Epoch[23] Val loss      avg: 3.256481112174268\n",
      "[Log] Saving model with loss: 3.256481112174268\n",
      "Epoch[24] Train loss    avg: 3.2705205316785015\n",
      "Epoch[24] Val loss      avg: 3.277913179037706\n",
      "Epoch[25] Train loss    avg: 3.267507904692541\n",
      "Epoch[25] Val loss      avg: 3.279876767464404\n",
      "Epoch[26] Train loss    avg: 3.2593635803536523\n",
      "Epoch[26] Val loss      avg: 3.2875348037143923\n",
      "Epoch[27] Train loss    avg: 3.258700915529758\n",
      "Epoch[27] Val loss      avg: 3.3119090862993925\n",
      "Epoch[28] Train loss    avg: 3.260416857803924\n",
      "Epoch[28] Val loss      avg: 3.277842107808815\n",
      "Epoch[29] Train loss    avg: 3.2566670601881005\n",
      "Epoch[29] Val loss      avg: 3.275158054423782\n",
      "Epoch[30] Train loss    avg: 3.245260363892664\n",
      "Epoch[30] Val loss      avg: 3.261887806766438\n",
      "Epoch[31] Train loss    avg: 3.2452605298802824\n",
      "Epoch[31] Val loss      avg: 3.258932541001518\n",
      "Epoch[32] Train loss    avg: 3.254345009598551\n",
      "Epoch[32] Val loss      avg: 3.2814937447601893\n",
      "Epoch[33] Train loss    avg: 3.2305610360978525\n",
      "Epoch[33] Val loss      avg: 3.2568327885753705\n",
      "Epoch[34] Train loss    avg: 3.2329816576800767\n",
      "Epoch[34] Val loss      avg: 3.239385685830746\n",
      "[Log] Saving model with loss: 3.239385685830746\n",
      "Epoch[35] Train loss    avg: 3.2371802601633193\n",
      "Epoch[35] Val loss      avg: 3.254762438108336\n",
      "Epoch[36] Train loss    avg: 3.2462386179573928\n",
      "Epoch[36] Val loss      avg: 3.2734755120187438\n",
      "Epoch[37] Train loss    avg: 3.2211146324495727\n",
      "Epoch[37] Val loss      avg: 3.2447385293132855\n",
      "Epoch[38] Train loss    avg: 3.2314035183266747\n",
      "Epoch[38] Val loss      avg: 3.2459429300056315\n",
      "Epoch[39] Train loss    avg: 3.21802946736541\n",
      "Epoch[39] Val loss      avg: 3.2235641659430736\n",
      "[Log] Saving model with loss: 3.2235641659430736\n",
      "Epoch[40] Train loss    avg: 3.238314397727387\n",
      "Epoch[40] Val loss      avg: 3.224259803879936\n",
      "Epoch[41] Train loss    avg: 3.223459269427046\n",
      "Epoch[41] Val loss      avg: 3.2288849263821007\n",
      "Epoch[42] Train loss    avg: 3.2276405639286283\n",
      "Epoch[42] Val loss      avg: 3.2344452075238497\n",
      "Epoch[43] Train loss    avg: 3.223212909094895\n",
      "Epoch[43] Val loss      avg: 3.270580768585205\n",
      "Epoch[44] Train loss    avg: 3.221155245092851\n",
      "Epoch[44] Val loss      avg: 3.2588857119938113\n",
      "Epoch[45] Train loss    avg: 3.2293770343442505\n",
      "Epoch[45] Val loss      avg: 3.225249951740481\n",
      "Epoch[46] Train loss    avg: 3.206556620477121\n",
      "Epoch[46] Val loss      avg: 3.2900048606800585\n",
      "Epoch[47] Train loss    avg: 3.214107952540434\n",
      "Epoch[47] Val loss      avg: 3.241498290367846\n",
      "Epoch[48] Train loss    avg: 3.214413540272773\n",
      "Epoch[48] Val loss      avg: 3.21715387758219\n",
      "[Log] Saving model with loss: 3.21715387758219\n",
      "Epoch[49] Train loss    avg: 3.211638708657856\n",
      "Epoch[49] Val loss      avg: 3.238345357606996\n",
      "Epoch[50] Train loss    avg: 3.212464952770668\n",
      "Epoch[50] Val loss      avg: 3.2485798124997123\n",
      "Epoch[51] Train loss    avg: 3.2054901786997347\n",
      "Epoch[51] Val loss      avg: 3.250250852332925\n",
      "Epoch[52] Train loss    avg: 3.2143351563924476\n",
      "Epoch[52] Val loss      avg: 3.2104108918387935\n",
      "[Log] Saving model with loss: 3.2104108918387935\n",
      "Epoch[53] Train loss    avg: 3.2232981029945083\n",
      "Epoch[53] Val loss      avg: 3.210266117779714\n",
      "[Log] Saving model with loss: 3.210266117779714\n",
      "Epoch[54] Train loss    avg: 3.2117442737651776\n",
      "Epoch[54] Val loss      avg: 3.2274117604741512\n",
      "Epoch[55] Train loss    avg: 3.220767544794686\n",
      "Epoch[55] Val loss      avg: 3.2391897012602606\n",
      "Epoch[56] Train loss    avg: 3.214275867124147\n",
      "Epoch[56] Val loss      avg: 3.2392526347682162\n",
      "Epoch[57] Train loss    avg: 3.2107276312912565\n",
      "Epoch[57] Val loss      avg: 3.237753157345754\n",
      "Epoch[58] Train loss    avg: 3.2013296945185603\n",
      "Epoch[58] Val loss      avg: 3.235927064463777\n",
      "Epoch[59] Train loss    avg: 3.2122098433820505\n",
      "Epoch[59] Val loss      avg: 3.2260416003893004\n",
      "Epoch[60] Train loss    avg: 3.1951366149926486\n",
      "Epoch[60] Val loss      avg: 3.2520625681247353\n",
      "Epoch[61] Train loss    avg: 3.1993697534633587\n",
      "Epoch[61] Val loss      avg: 3.24097448474956\n",
      "Epoch[62] Train loss    avg: 3.204874981807757\n",
      "Epoch[62] Val loss      avg: 3.2188999203016175\n",
      "Epoch[63] Train loss    avg: 3.1980011644242685\n",
      "Epoch[63] Val loss      avg: 3.2435441107120155\n",
      "Epoch[64] Train loss    avg: 3.1978370147415354\n",
      "Epoch[64] Val loss      avg: 3.2232407803805367\n",
      "Epoch[65] Train loss    avg: 3.1984164005593407\n",
      "Epoch[65] Val loss      avg: 3.222204667217327\n",
      "Epoch[66] Train loss    avg: 3.206586584260192\n",
      "Epoch[66] Val loss      avg: 3.218722383930998\n",
      "Epoch[67] Train loss    avg: 3.1928203618979154\n",
      "Epoch[67] Val loss      avg: 3.2169296921424144\n",
      "Epoch[68] Train loss    avg: 3.1899380351923687\n",
      "Epoch[68] Val loss      avg: 3.225576207322894\n",
      "Epoch[69] Train loss    avg: 3.2046653379367878\n",
      "Epoch[69] Val loss      avg: 3.250439459422849\n",
      "Epoch[70] Train loss    avg: 3.189698257023775\n",
      "Epoch[70] Val loss      avg: 3.201494738740741\n",
      "[Log] Saving model with loss: 3.201494738740741\n",
      "Epoch[71] Train loss    avg: 3.1887836531747746\n",
      "Epoch[71] Val loss      avg: 3.2121284502857135\n",
      "Epoch[72] Train loss    avg: 3.17710409285147\n",
      "Epoch[72] Val loss      avg: 3.2162858405203187\n",
      "Epoch[73] Train loss    avg: 3.187249191199677\n",
      "Epoch[73] Val loss      avg: 3.243465891424215\n",
      "Epoch[74] Train loss    avg: 3.174729668641392\n",
      "Epoch[74] Val loss      avg: 3.2045066536597484\n",
      "Epoch[75] Train loss    avg: 3.1888916085038006\n",
      "Epoch[75] Val loss      avg: 3.20012248237178\n",
      "[Log] Saving model with loss: 3.20012248237178\n",
      "Epoch[76] Train loss    avg: 3.189443843274177\n",
      "Epoch[76] Val loss      avg: 3.225933745222272\n",
      "Epoch[77] Train loss    avg: 3.1743889790547044\n",
      "Epoch[77] Val loss      avg: 3.2164353154740244\n",
      "Epoch[78] Train loss    avg: 3.1882369578639165\n",
      "Epoch[78] Val loss      avg: 3.2114785662237204\n",
      "Epoch[79] Train loss    avg: 3.1809318940850755\n",
      "Epoch[79] Val loss      avg: 3.2223793875496343\n",
      "Epoch[80] Train loss    avg: 3.190843221507495\n",
      "Epoch[80] Val loss      avg: 3.2194265329612874\n"
     ]
    },
    {
     "data": {
      "image/png": "[encoded data removed]",
      "text/plain": [
       "<Figure size 432x288 with 1 Axes>"
      ]
     },
     "metadata": {
      "needs_background": "light"
     },
     "output_type": "display_data"
    }
   ],
   "source": [
    "%autoreload 2\n",
    "from torch_snippets import *\n",
    "from source.models import SiameseNetwork, train_batch, train_batch_contrastive, train_batch_triplet, eval_batch, eval_batch_contrastive, eval_batch_triplet\n",
    "from source.losses import ContrastiveLoss, SupConLoss, TripletLoss\n",
    "from source.utils import ValueLogger\n",
    "import torch\n",
    "\n",
    "device = 'cuda' if torch.cuda.is_available() else 'cpu'\n",
    "\n",
    "\n",
    "\n",
    "subsequence_length = int(X_train_f.shape[1] * SUBSEC_PORC)\n",
    "\n",
    "print(\"Subsequence length: {}\".format(subsequence_length))\n",
    "\n",
    "model      = SiameseNetwork(X_train_f.shape[2], subsequence_length, feat_dim=FEAT_DIM).to(device)\n",
    "\n",
    "model_path = os.path.join(EXP_PATH, 'model.pt')\n",
    "loss_path = os.path.join(EXP_PATH, 'loss.png')\n",
    "\n",
    "if LOSS == \"Contrastive\":\n",
    "    criterion  = ContrastiveLoss().to(device)\n",
    "elif LOSS == \"Triplet\":\n",
    "    criterion  = TripletLoss(margin=4.0).to(device)\n",
    "elif LOSS == \"SupConLoss\":\n",
    "    criterion = SupConLoss().to(device)\n",
    "    supervised = True\n",
    "else:\n",
    "    criterion = SupConLoss().to(device)\n",
    "    supervised = False\n",
    "\n",
    "trainLogs = ValueLogger(\"Train loss   \", epoch_freq=1)\n",
    "testLogs = ValueLogger( \"Test loss    \", epoch_freq=1)\n",
    "valLogs = ValueLogger(  \"Val loss     \", epoch_freq=1)\n",
    "\n",
    "optimizer  = optim.AdamW(model.parameters(),lr = 0.0005)\n",
    "# optimizer  = optim.AdamW(model.parameters(),lr = 0.00001) #Triplet\n",
    "# optimizer  = optim.SGD(model.parameters(),lr = 0.001)\n",
    "# optimizer  = optim.Adam(model.parameters(),lr = 0.0001, weight_decay=0.004)\n",
    "\n",
    "for epoch in range(EPOCHS):\n",
    "    N = len(train_dataloader)\n",
    "    for i, data in enumerate(train_dataloader):\n",
    "        loss = None\n",
    "        if LOSS == \"Contrastive\":\n",
    "            loss = train_batch_contrastive(model, data, optimizer, criterion, device, subsequence_length)\n",
    "        elif LOSS == \"Triplet\":\n",
    "            loss = train_batch_triplet(model, data, optimizer, criterion, device, subsequence_length)\n",
    "        elif LOSS == \"SupConLoss\":\n",
    "            loss = train_batch(model, data, optimizer, criterion, device, subsequence_length, supervised=supervised)\n",
    "        else:\n",
    "            loss = train_batch(model, data, optimizer, criterion, device, subsequence_length, supervised=supervised)\n",
    "        trainLogs.update(loss)\n",
    "    trainLogs.end_epoch()\n",
    "    with torch.no_grad():\n",
    "        N = len(val_dataloader)\n",
    "        for i, data in enumerate(val_dataloader):\n",
    "            if LOSS == \"Contrastive\":\n",
    "                loss = eval_batch_contrastive(model, data,  criterion, device, subsequence_length)\n",
    "            elif LOSS == \"Triplet\":\n",
    "                loss = eval_batch_triplet(model, data,  criterion, device, subsequence_length)\n",
    "            elif LOSS == \"SupConLoss\":\n",
    "                loss = eval_batch(model, data,  criterion, device, subsequence_length, supervised=supervised)\n",
    "            else:\n",
    "                loss = eval_batch(model, data,  criterion, device, subsequence_length, supervised=supervised)\n",
    "            valLogs.update(loss)\n",
    "                \n",
    "        if  valLogs.end_epoch():\n",
    "            print('[Log] Saving model with loss: {}'.format(valLogs.bestAvg))\n",
    "            torch.save(model, model_path) \n",
    "\n",
    "fig = plt.figure()\n",
    "ax0 = fig.add_subplot(111, title=\"loss\")\n",
    "ax0.plot(trainLogs.avgs, 'bo-', label='train')\n",
    "ax0.plot(valLogs.avgs, 'ro-', label='val')\n",
    "\n",
    "ax0.legend()\n",
    "fig.savefig(loss_path)"
   ]
  },
  {
   "cell_type": "code",
   "execution_count": null,
   "id": "b8c2a9f9",
   "metadata": {},
   "outputs": [],
   "source": []
  },
  {
   "cell_type": "code",
   "execution_count": 15,
   "id": "3241079a",
   "metadata": {},
   "outputs": [
    {
     "name": "stdout",
     "output_type": "stream",
     "text": [
      "Epoch[1] Test loss     avg: 2.781360149383545\n"
     ]
    }
   ],
   "source": [
    "  \n",
    "model = torch.load(model_path)\n",
    "with torch.no_grad():\n",
    "    N = len(test_dataloader)\n",
    "    for i, data in enumerate(test_dataloader):\n",
    "        if LOSS == \"Contrastive\":\n",
    "            if LOSS == \"Contrastive\":\n",
    "                loss = eval_batch_contrastive(model, data, criterion, device, subsequence_length)\n",
    "            elif LOSS == \"Triplet\":\n",
    "                loss = eval_batch_triplet(model, data, criterion, device, subsequence_length)\n",
    "            elif LOSS == \"SupConLoss\":\n",
    "                loss = eval_batch(model, data, criterion, device, subsequence_length, supervised=supervised)\n",
    "            else:\n",
    "                loss = eval_batch(model, data, criterion, device, subsequence_length, supervised=supervised)\n",
    "        testLogs.update(loss)\n",
    "    testLogs.end_epoch()"
   ]
  },
  {
   "cell_type": "code",
   "execution_count": 16,
   "id": "a98217fa-f649-47f8-a608-f005ff2b287f",
   "metadata": {},
   "outputs": [],
   "source": [
    "# # ---------------Load best model is you already saved it-----------------\n",
    "# model      = SiameseNetwork(X_train_f.shape[2], win_len).to(device)\n",
    "# model = torch.load(model_path)"
   ]
  },
  {
   "cell_type": "code",
   "execution_count": 17,
   "id": "220fe5a1",
   "metadata": {},
   "outputs": [],
   "source": [
    "# Get the representations from the model\n",
    "train_repr = model.encode(X_train_f.transpose(0, 2, 1), device)\n",
    "test_repr = model.encode(X_test_f.transpose(0, 2, 1), device)"
   ]
  },
  {
   "cell_type": "markdown",
   "id": "18384c26",
   "metadata": {},
   "source": [
    "## VISUALIZATION TASK"
   ]
  },
  {
   "cell_type": "code",
   "execution_count": 18,
   "id": "7ada1c46-42f7-4249-ab21-4e193d1ced72",
   "metadata": {},
   "outputs": [
    {
     "ename": "ModuleNotFoundError",
     "evalue": "No module named 'umap'",
     "output_type": "error",
     "traceback": [
      "\u001b[0;31m---------------------------------------------------------------------------\u001b[0m",
      "\u001b[0;31mModuleNotFoundError\u001b[0m                       Traceback (most recent call last)",
      "\u001b[1;32m/home/alexis/Documents/repositories/har_contrastive_learning/har_contrastive.ipynb Cell 14\u001b[0m in \u001b[0;36m<cell line: 1>\u001b[0;34m()\u001b[0m\n\u001b[0;32m----> <a href='vscode-notebook-cell:/home/alexis/Documents/repositories/har_contrastive_learning/har_contrastive.ipynb#ch0000013?line=0'>1</a>\u001b[0m \u001b[39mimport\u001b[39;00m \u001b[39mumap\u001b[39;00m\n\u001b[1;32m      <a href='vscode-notebook-cell:/home/alexis/Documents/repositories/har_contrastive_learning/har_contrastive.ipynb#ch0000013?line=1'>2</a>\u001b[0m reducer \u001b[39m=\u001b[39m umap\u001b[39m.\u001b[39mUMAP(n_components \u001b[39m=\u001b[39m \u001b[39m2\u001b[39m)\n\u001b[1;32m      <a href='vscode-notebook-cell:/home/alexis/Documents/repositories/har_contrastive_learning/har_contrastive.ipynb#ch0000013?line=2'>3</a>\u001b[0m \u001b[39m# reducer.fit(train_repr, y=y_train)\u001b[39;00m\n",
      "\u001b[0;31mModuleNotFoundError\u001b[0m: No module named 'umap'"
     ]
    }
   ],
   "source": [
    "import umap\n",
    "reducer = umap.UMAP(n_components = 2)\n",
    "# reducer.fit(train_repr, y=y_train)\n",
    "reducer.fit(train_repr)"
   ]
  },
  {
   "cell_type": "code",
   "execution_count": null,
   "id": "f8ce2df9-4d3c-4f3f-98da-fa61f2c5cacc",
   "metadata": {},
   "outputs": [],
   "source": [
    "train_coords = reducer.transform(train_repr)\n",
    "test_coords = reducer.transform(test_repr)"
   ]
  },
  {
   "cell_type": "code",
   "execution_count": null,
   "id": "778187a0-c2cc-4a5d-8fa6-b1aa79fdac8c",
   "metadata": {},
   "outputs": [
    {
     "name": "stdout",
     "output_type": "stream",
     "text": [
      "['Sitting', 'Lying', 'Standing', 'Walking', 'Running', 'Downstairs', 'Upstairs']\n"
     ]
    },
    {
     "data": {
      "text/plain": [
       "<matplotlib.legend.Legend at 0x7fe02065a4d0>"
      ]
     },
     "execution_count": 12,
     "metadata": {},
     "output_type": "execute_result"
    },
    {
     "data": {
      "image/png": "[encoded data removed]",
      "text/plain": [
       "<Figure size 432x288 with 1 Axes>"
      ]
     },
     "metadata": {
      "needs_background": "light"
     },
     "output_type": "display_data"
    }
   ],
   "source": [
    "import matplotlib.pyplot as plt\n",
    "\n",
    "print(activities)\n",
    "fig, ax = plt.subplots()\n",
    "\n",
    "scatter = ax.scatter(train_coords[:, 0], train_coords[:, 1], c = y_train, cmap='jet', label='Inline label')\n",
    "\n",
    "legend1 = ax.legend(*scatter.legend_elements(),\n",
    "                    loc=\"lower left\", title=\"Classes\")\n",
    "ax.add_artist(legend1)\n",
    "\n"
   ]
  },
  {
   "cell_type": "code",
   "execution_count": null,
   "id": "ebdbe81b-0efa-4130-9207-b96f8fa0716d",
   "metadata": {},
   "outputs": [
    {
     "data": {
      "text/plain": [
       "<matplotlib.collections.PathCollection at 0x7fdfbc1a65f0>"
      ]
     },
     "execution_count": 13,
     "metadata": {},
     "output_type": "execute_result"
    },
    {
     "data": {
      "image/png": "[encoded data removed]",
      "text/plain": [
       "<Figure size 432x288 with 1 Axes>"
      ]
     },
     "metadata": {
      "needs_background": "light"
     },
     "output_type": "display_data"
    }
   ],
   "source": [
    "plt.scatter(test_coords[:, 0], test_coords[:, 1], c = y_test, cmap='jet')"
   ]
  },
  {
   "cell_type": "code",
   "execution_count": null,
   "id": "11bd39b8-4263-4667-a641-5a2301043fd3",
   "metadata": {},
   "outputs": [],
   "source": []
  },
  {
   "cell_type": "markdown",
   "id": "087e0c17",
   "metadata": {},
   "source": [
    "## CLASSIFICATION TASK"
   ]
  },
  {
   "cell_type": "code",
   "execution_count": 23,
   "id": "7db8afe3-e67a-4b71-a730-ea3a85a05486",
   "metadata": {},
   "outputs": [
    {
     "name": "stderr",
     "output_type": "stream",
     "text": [
      "/home/alexis/anaconda3/envs/contrastive/lib/python3.10/site-packages/sklearn/neighbors/_classification.py:198: DataConversionWarning: A column-vector y was passed when a 1d array was expected. Please change the shape of y to (n_samples,), for example using ravel().\n",
      "  return self._fit(X, y)\n"
     ]
    }
   ],
   "source": [
    "from sklearn.ensemble import RandomForestClassifier\n",
    "from sklearn.neighbors import KNeighborsClassifier\n",
    "from sklearn.svm import LinearSVC\n",
    "from sklearn import svm\n",
    "\n",
    "def classify_dataset(X_train, y_train, X_test, y_test):\n",
    "    # clf = RandomForestClassifier(random_state=0)\n",
    "    # clf = LinearSVC(dual=False, random_state=123)\n",
    "    # clf = svm.SVC()\n",
    "    clf = KNeighborsClassifier()\n",
    "    clf.fit(X_train, y_train)\n",
    "    return clf.predict(X_train), clf.predict(X_test)\n",
    "    \n",
    "\n",
    "train_pred, test_pred = classify_dataset(train_repr, y_train, test_repr, y_test)\n",
    "\n"
   ]
  },
  {
   "cell_type": "code",
   "execution_count": 27,
   "id": "f19e2fd3-a236-4f5a-8a5c-cb2747f1c733",
   "metadata": {},
   "outputs": [
    {
     "name": "stdout",
     "output_type": "stream",
     "text": [
      "Training balanced accuracy: 0.9744226672899885 - testing balanced accuracy: 0.9580775837802243\n",
      "Training accuracy: 0.9746031746031746 - testing accuracy: 0.9577380952380953\n",
      "Training f1 score: 0.9746554272950695 - testing f1 score: 0.9578490479052569\n"
     ]
    }
   ],
   "source": [
    "from sklearn import metrics\n",
    "\n",
    "bal_acc_tr = metrics.balanced_accuracy_score(y_train, train_pred)\n",
    "bal_acc_te = metrics.balanced_accuracy_score(y_test, test_pred)\n",
    "\n",
    "acc_tr = metrics.accuracy_score(y_train, train_pred)\n",
    "acc_te = metrics.accuracy_score(y_test, test_pred)\n",
    "            \n",
    "f1_tr = metrics.f1_score(y_train, train_pred, average='weighted')\n",
    "f1_te = metrics.f1_score(y_test, test_pred, average='weighted')\n",
    "\n",
    "print(\"Training balanced accuracy: {} - testing balanced accuracy: {}\".format(bal_acc_tr, bal_acc_te))\n",
    "print(\"Training accuracy: {} - testing accuracy: {}\".format(acc_tr, acc_te))\n",
    "print(\"Training f1 score: {} - testing f1 score: {}\".format(f1_tr, f1_te))"
   ]
  },
  {
   "cell_type": "code",
   "execution_count": 25,
   "id": "bd00ed11-a471-4237-a92b-d3954e46537e",
   "metadata": {},
   "outputs": [
    {
     "data": {
      "text/plain": [
       "<sklearn.metrics._plot.confusion_matrix.ConfusionMatrixDisplay at 0x7f06c0927a30>"
      ]
     },
     "execution_count": 25,
     "metadata": {},
     "output_type": "execute_result"
    },
    {
     "data": {
      "image/png": "[encoded data removed]",
      "text/plain": [
       "<Figure size 432x288 with 2 Axes>"
      ]
     },
     "metadata": {
      "needs_background": "light"
     },
     "output_type": "display_data"
    }
   ],
   "source": [
    "from sklearn.metrics import confusion_matrix, ConfusionMatrixDisplay\n",
    "\n",
    "cm_train = confusion_matrix(y_train, train_pred)\n",
    "disp = ConfusionMatrixDisplay(confusion_matrix=cm_train, display_labels= activities)\n",
    "disp.plot()\n"
   ]
  },
  {
   "cell_type": "code",
   "execution_count": 26,
   "id": "eb7084ea-ba43-4a15-b38b-939132f381e5",
   "metadata": {},
   "outputs": [
    {
     "data": {
      "text/plain": [
       "<sklearn.metrics._plot.confusion_matrix.ConfusionMatrixDisplay at 0x7f06c0925a50>"
      ]
     },
     "execution_count": 26,
     "metadata": {},
     "output_type": "execute_result"
    },
    {
     "data": {
      "image/png": "[encoded data removed]",
      "text/plain": [
       "<Figure size 432x288 with 2 Axes>"
      ]
     },
     "metadata": {
      "needs_background": "light"
     },
     "output_type": "display_data"
    }
   ],
   "source": [
    "cm_test = confusion_matrix(y_test, test_pred)\n",
    "disp = ConfusionMatrixDisplay(confusion_matrix=cm_test, display_labels= activities)\n",
    "disp.plot()\n"
   ]
  },
  {
   "cell_type": "code",
   "execution_count": null,
   "id": "bd05ff70",
   "metadata": {},
   "outputs": [],
   "source": []
  },
  {
   "cell_type": "markdown",
   "id": "996ba0a8",
   "metadata": {},
   "source": [
    "## PREDICTION"
   ]
  },
  {
   "cell_type": "code",
   "execution_count": 28,
   "id": "5e3486fd",
   "metadata": {},
   "outputs": [
    {
     "name": "stderr",
     "output_type": "stream",
     "text": [
      "/home/alexis/anaconda3/envs/contrastive/lib/python3.10/site-packages/sklearn/linear_model/_stochastic_gradient.py:1503: ConvergenceWarning: Maximum number of iteration reached before convergence. Consider increasing max_iter to improve the fit.\n",
      "  warnings.warn(\n"
     ]
    },
    {
     "data": {
      "text/plain": [
       "SGDRegressor(max_iter=20)"
      ]
     },
     "execution_count": 28,
     "metadata": {},
     "output_type": "execute_result"
    }
   ],
   "source": [
    "from sklearn.linear_model import LinearRegression\n",
    "from sklearn.linear_model import SGDRegressor\n",
    "\n",
    "def regression_results(y_true, y_pred):\n",
    "    \n",
    "    # Regression metrics\n",
    "    explained_variance=metrics.explained_variance_score(y_true, y_pred)\n",
    "    mean_absolute_error=metrics.mean_absolute_error(y_true, y_pred) \n",
    "    # mse=metrics.mean_squared_error(y_true, y_pred) \n",
    "    # mean_squared_log_error=metrics.mean_squared_log_error(y_true, y_pred)\n",
    "    # median_absolute_error=metrics.median_absolute_error(y_true, y_pred)\n",
    "    r2=metrics.r2_score(y_true, y_pred)\n",
    "    \n",
    "    \n",
    "    # return round(mean_absolute_error,4), round(explained_variance,4)\n",
    "    return round(mean_absolute_error,4), round(r2,4)\n",
    "\n",
    "# regressor = LinearRegression()\n",
    "regressor = SGDRegressor(loss=\"squared_error\", penalty=\"l2\", max_iter=20)\n",
    "regressor.fit(train_repr, train_kcal_MET[:, 1])"
   ]
  },
  {
   "cell_type": "code",
   "execution_count": 29,
   "id": "8e978662",
   "metadata": {},
   "outputs": [],
   "source": [
    "train_met_pred = regressor.predict(train_repr) \n",
    "test_met_pred = regressor.predict(test_repr) \n",
    "# regressor.score(train_repr, train_kcal_MET[:, 1])"
   ]
  },
  {
   "cell_type": "code",
   "execution_count": 30,
   "id": "18632a49",
   "metadata": {},
   "outputs": [
    {
     "name": "stdout",
     "output_type": "stream",
     "text": [
      "(0.75, 0.7983)\n",
      "(0.7754, 0.7641)\n"
     ]
    }
   ],
   "source": [
    "print(regression_results(train_kcal_MET[:, 1], train_met_pred))\n",
    "print(regression_results(test_kcal_MET[:, 1], test_met_pred))"
   ]
  },
  {
   "cell_type": "code",
   "execution_count": null,
   "id": "1c225db7",
   "metadata": {},
   "outputs": [
    {
     "data": {
      "text/plain": [
       "array([1.064, 1.054, 1.104, 1.047, 1.102, 1.093, 1.041, 1.078, 1.07 ,\n",
       "       1.049])"
      ]
     },
     "execution_count": 21,
     "metadata": {},
     "output_type": "execute_result"
    }
   ],
   "source": [
    "test_met_pred[:10]"
   ]
  },
  {
   "cell_type": "code",
   "execution_count": null,
   "id": "255e5382",
   "metadata": {},
   "outputs": [
    {
     "data": {
      "text/plain": [
       "array([1., 1., 1., 1., 1., 1., 1., 1., 1., 1.], dtype=float32)"
      ]
     },
     "execution_count": 22,
     "metadata": {},
     "output_type": "execute_result"
    }
   ],
   "source": [
    "test_kcal_MET[:10, 1]"
   ]
  },
  {
   "cell_type": "code",
   "execution_count": null,
   "id": "4128e62b",
   "metadata": {},
   "outputs": [],
   "source": []
  }
 ],
 "metadata": {
  "kernelspec": {
   "display_name": "Python 3.10.4 ('contrastive')",
   "language": "python",
   "name": "python3"
  },
  "language_info": {
   "codemirror_mode": {
    "name": "ipython",
    "version": 3
   },
   "file_extension": ".py",
   "mimetype": "text/x-python",
   "name": "python",
   "nbconvert_exporter": "python",
   "pygments_lexer": "ipython3",
   "version": "3.10.4"
  },
  "vscode": {
   "interpreter": {
    "hash": "20564e34382f7a8deb0d76d7002c90a98271de81e96fd07d48a2d06e0bfcc4c3"
   }
  }
 },
 "nbformat": 4,
 "nbformat_minor": 5
}
