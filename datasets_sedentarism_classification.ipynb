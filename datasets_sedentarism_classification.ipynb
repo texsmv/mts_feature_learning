{
 "cells": [
  {
   "cell_type": "code",
   "execution_count": 1,
   "metadata": {},
   "outputs": [],
   "source": [
    "%load_ext autoreload\n",
    "%autoreload 2\n",
    "import numpy as np\n",
    "from source.read_HAR_dataset import DatasetHARUML20\n",
    "from source.read_pamap2 import DatasetPAMAP2\n",
    "from source.read_open_dataset import DatasetOpenDataset\n",
    "from source.tserie import TSerie\n",
    "from source.models.manifold.umap_fl import UMAP_FL\n",
    "from sklearn import metrics\n",
    "from xgboost import XGBClassifier\n",
    "from source.utils import MetricsSaver, saveConfusionMatrix\n",
    "from sklearn.metrics import confusion_matrix, ConfusionMatrixDisplay"
   ]
  },
  {
   "cell_type": "code",
   "execution_count": 2,
   "metadata": {},
   "outputs": [],
   "source": [
    "datasetName = 'OpenDataset' # PAMAP2 or HAR-UML20 or OpenDataset\n",
    "FEATURE_SIZE = 32\n",
    "CLASS_LABELS = ['Sedentary', 'Light', 'Moderate', 'Vigorous']\n",
    "UMAP_NEIGHTBORS = 15\n",
    "N_EPOCHS = 1000\n",
    "RESULTS_PATH = 'results'"
   ]
  },
  {
   "cell_type": "code",
   "execution_count": 3,
   "metadata": {},
   "outputs": [],
   "source": [
    "\n",
    "\n",
    "if datasetName == 'PAMAP2':\n",
    "    dataset = DatasetPAMAP2(mode = 'leave-one-subject', signals=['handAcc16_1', 'handAcc16_2', 'handAcc16_3', 'handGyro1', 'handGyro2', 'handGyro3'])\n",
    "elif datasetName ==  'HAR-UML20':\n",
    "    dataset = DatasetHARUML20(mode = 'leave-one-subject')\n",
    "elif datasetName ==  'OpenDataset':\n",
    "    dataset = DatasetOpenDataset(mode = 'leave-one-subject')\n",
    "\n",
    "saver = MetricsSaver(datasetName, rows = ['train', 'test'], cols=['F1-score', 'Balanced Accuracy', 'Accuracy'])"
   ]
  },
  {
   "cell_type": "code",
   "execution_count": 4,
   "metadata": {},
   "outputs": [
    {
     "name": "stdout",
     "output_type": "stream",
     "text": [
      "[100]\n",
      "[101]\n",
      "[102]\n",
      "[103]\n",
      "[104]\n",
      "[105]\n",
      "[106]\n",
      "[107]\n",
      "[108]\n",
      "[109]\n",
      "[110]\n",
      "[111]\n",
      "[112]\n",
      "[113]\n",
      "[115]\n",
      "[116]\n",
      "[117]\n",
      "[118]\n",
      "[119]\n",
      "[120]\n",
      "[121]\n",
      "[122]\n",
      "[123]\n",
      "[124]\n",
      "[125]\n",
      "[126]\n",
      "[127]\n",
      "[128]\n",
      "[129]\n"
     ]
    }
   ],
   "source": [
    "predicted_classes = []\n",
    "real_classes = []\n",
    "cont = 0\n",
    "\n",
    "# Opendataset filtering\n",
    "# activities = ['caminando;', 'parado;']\n",
    "while dataset.loadData():\n",
    "    cont =cont + 1\n",
    "    # Preparing data\n",
    "    ts_train = TSerie(dataset.X_train, dataset.Int_train)\n",
    "    ts_test = TSerie(dataset.X_test, dataset.Int_test)\n",
    "    # ts_train.center()\n",
    "    # ts_test.center()\n",
    "    ts_train.folding_features_v2()\n",
    "    ts_test.folding_features_v2()\n",
    "    \n",
    "    # Getting features\n",
    "    model = UMAP_FL(n_components=FEATURE_SIZE,n_neighbors=UMAP_NEIGHTBORS, n_epochs=N_EPOCHS)\n",
    "    ts_train.features = model.fit_transform(ts_train.features, y=ts_train.y)\n",
    "    ts_test.features = model.transform(ts_test.features)\n",
    "    \n",
    "    \n",
    "    # Classifying\n",
    "    clf = XGBClassifier(tree_method='gpu_hist', predictor='gpu_predictor')\n",
    "    clf.fit(ts_train.features, ts_train.y)\n",
    "    train_pr = clf.predict(ts_train.features)\n",
    "    test_pr = clf.predict(ts_test.features)\n",
    "    predicted_classes.append(test_pr)\n",
    "    real_classes.append(ts_test.y)\n",
    "\n",
    "\n",
    "    # Save metrics\n",
    "    train_f1 = metrics.f1_score(ts_train.y, train_pr, average='weighted')\n",
    "    test_f1 = metrics.f1_score(ts_test.y, test_pr, average='weighted')\n",
    "    train_bacc = metrics.balanced_accuracy_score(ts_train.y, train_pr)\n",
    "    test_bacc = metrics.balanced_accuracy_score(ts_test.y, test_pr)\n",
    "    train_acc = metrics.accuracy_score(ts_train.y, train_pr)\n",
    "    test_acc = metrics.accuracy_score(ts_test.y, test_pr)\n",
    "    \n",
    "    saver.addLog('train', 'F1-score', train_f1)\n",
    "    saver.addLog('test', 'F1-score', test_f1)\n",
    "    saver.addLog('train', 'Balanced Accuracy', train_bacc)\n",
    "    saver.addLog('test', 'Balanced Accuracy', test_bacc)\n",
    "    saver.addLog('train', 'Accuracy', train_acc)\n",
    "    saver.addLog('test', 'Accuracy', test_acc)\n",
    "    \n",
    "predicted_classes = np.concatenate(predicted_classes, axis = 0)\n",
    "real_classes = np.concatenate(real_classes, axis = 0)"
   ]
  },
  {
   "cell_type": "code",
   "execution_count": 5,
   "metadata": {},
   "outputs": [
    {
     "data": {
      "image/png": "[encoded data removed]",
      "text/plain": [
       "<Figure size 432x288 with 2 Axes>"
      ]
     },
     "metadata": {
      "needs_background": "light"
     },
     "output_type": "display_data"
    }
   ],
   "source": [
    "# CLASS_LABELS\n",
    "# np.unique(real_classes)\n",
    "saveConfusionMatrix(real_classes, predicted_classes, datasetName, labels=CLASS_LABELS)"
   ]
  },
  {
   "cell_type": "code",
   "execution_count": 6,
   "metadata": {},
   "outputs": [
    {
     "data": {
      "image/png": "[encoded data removed]",
      "text/plain": [
       "<Figure size 432x288 with 1 Axes>"
      ]
     },
     "metadata": {},
     "output_type": "display_data"
    }
   ],
   "source": [
    "saver.toImage()"
   ]
  },
  {
   "cell_type": "code",
   "execution_count": null,
   "metadata": {},
   "outputs": [],
   "source": []
  }
 ],
 "metadata": {
  "kernelspec": {
   "display_name": "Python 3.7.10 ('rapidsml')",
   "language": "python",
   "name": "python3"
  },
  "language_info": {
   "codemirror_mode": {
    "name": "ipython",
    "version": 3
   },
   "file_extension": ".py",
   "mimetype": "text/x-python",
   "name": "python",
   "nbconvert_exporter": "python",
   "pygments_lexer": "ipython3",
   "version": "3.7.10"
  },
  "orig_nbformat": 4,
  "vscode": {
   "interpreter": {
    "hash": "4f51f79755ef8f79693022c2238daee50231b90d0a3e393b6e63d90a9477d06f"
   }
  }
 },
 "nbformat": 4,
 "nbformat_minor": 2
}
