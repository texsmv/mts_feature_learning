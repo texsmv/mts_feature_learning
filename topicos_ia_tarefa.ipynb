{
 "cells": [
  {
   "cell_type": "code",
   "execution_count": 87,
   "metadata": {},
   "outputs": [
    {
     "name": "stdout",
     "output_type": "stream",
     "text": [
      "The autoreload extension is already loaded. To reload it, use:\n",
      "  %reload_ext autoreload\n"
     ]
    }
   ],
   "source": [
    "%load_ext autoreload\n",
    "%autoreload 2\n",
    "import numpy as np\n",
    "from xgboost import XGBClassifier\n",
    "from sklearn import metrics\n",
    "import seaborn as sns\n",
    "from sklearn.discriminant_analysis import LinearDiscriminantAnalysis\n",
    "\n",
    "from source.read_open_dataset import DatasetOpenDataset, openDatasetParticipants\n",
    "from source.tserie import TSerie\n",
    "from source.models.manifold.umap_fl import UMAP_FL\n",
    "\n",
    "FEATURE_SIZE = 32\n",
    "UMAP_NEIGHTBORS = 20\n",
    "N_EPOCHS = 2000\n",
    "CLASS_LABELS = ['Sedentary', 'Light']"
   ]
  },
  {
   "cell_type": "markdown",
   "metadata": {},
   "source": [
    "# Reading the dataset"
   ]
  },
  {
   "cell_type": "code",
   "execution_count": 4,
   "metadata": {},
   "outputs": [
    {
     "data": {
      "text/plain": [
       "True"
      ]
     },
     "execution_count": 4,
     "metadata": {},
     "output_type": "execute_result"
    }
   ],
   "source": [
    "dataset = DatasetOpenDataset(mode='leave-one-subject')\n",
    "dataset.loadData()"
   ]
  },
  {
   "cell_type": "code",
   "execution_count": 14,
   "metadata": {},
   "outputs": [
    {
     "name": "stdout",
     "output_type": "stream",
     "text": [
      "Unique Labels (intensities): [0. 1.]\n",
      "Sedentary windows: 24866  Light windows: 1036\n"
     ]
    }
   ],
   "source": [
    "print('Unique Labels (intensities): {}'.format(np.unique(dataset.Int_train)))\n",
    "\n",
    "print('Sedentary windows: {}  Light windows: {}'.format(len(dataset.Int_train[dataset.Int_train == 0]), len(dataset.Int_train[dataset.Int_train == 1])))"
   ]
  },
  {
   "cell_type": "markdown",
   "metadata": {},
   "source": [
    "# Data preparation"
   ]
  },
  {
   "cell_type": "code",
   "execution_count": 16,
   "metadata": {},
   "outputs": [],
   "source": [
    "# Preparing data\n",
    "ts_train = TSerie(dataset.X_train, dataset.Int_train)\n",
    "ts_test = TSerie(dataset.X_test, dataset.Int_test)\n",
    "\n",
    "ts_train.center()\n",
    "ts_test.center()\n",
    "\n",
    "ts_train.folding_features_v2()\n",
    "ts_test.folding_features_v2()"
   ]
  },
  {
   "cell_type": "markdown",
   "metadata": {},
   "source": [
    "# Engenharia de features"
   ]
  },
  {
   "cell_type": "code",
   "execution_count": 58,
   "metadata": {},
   "outputs": [],
   "source": [
    "\n",
    "# Getting features\n",
    "model = UMAP_FL(n_components=FEATURE_SIZE,n_neighbors=UMAP_NEIGHTBORS, n_epochs=N_EPOCHS)\n",
    "ts_train.features = model.fit_transform(ts_train.features, y=ts_train.I)\n",
    "ts_test.features = model.transform(ts_test.features)"
   ]
  },
  {
   "cell_type": "code",
   "execution_count": 72,
   "metadata": {},
   "outputs": [],
   "source": [
    "\n",
    "# Getting features\n",
    "model_vis = UMAP_FL(n_components=2,n_neighbors=UMAP_NEIGHTBORS, n_epochs=N_EPOCHS)\n",
    "train_proj = model_vis.fit_transform(ts_train.features, y=ts_train.I)\n",
    "test_proj = model_vis.transform(ts_test.features)"
   ]
  },
  {
   "cell_type": "markdown",
   "metadata": {},
   "source": [
    "# Straight-forward Classifier\n"
   ]
  },
  {
   "cell_type": "code",
   "execution_count": 88,
   "metadata": {},
   "outputs": [],
   "source": [
    "\n",
    "\n",
    "# clf = XGBClassifier(tree_method='gpu_hist', predictor='gpu_predictor')\n",
    "clf = LinearDiscriminantAnalysis(solver=\"svd\", store_covariance=True)\n",
    "\n",
    "clf.fit(ts_train.features, ts_train.y)\n",
    "\n",
    "\n",
    "train_pr = clf.predict(ts_train.features)\n",
    "test_pr = clf.predict(ts_test.features)"
   ]
  },
  {
   "cell_type": "code",
   "execution_count": 89,
   "metadata": {},
   "outputs": [
    {
     "name": "stdout",
     "output_type": "stream",
     "text": [
      "              precision    recall  f1-score   support\n",
      "\n",
      "   Sedentary       0.97      1.00      0.98       888\n",
      "       Light       1.00      0.19      0.32        37\n",
      "\n",
      "    accuracy                           0.97       925\n",
      "   macro avg       0.98      0.59      0.65       925\n",
      "weighted avg       0.97      0.97      0.96       925\n",
      "\n"
     ]
    }
   ],
   "source": [
    "print(metrics.classification_report(ts_test.y, test_pr, target_names=CLASS_LABELS))"
   ]
  },
  {
   "cell_type": "markdown",
   "metadata": {},
   "source": [
    "# Bayesian Risk\n"
   ]
  },
  {
   "cell_type": "code",
   "execution_count": 90,
   "metadata": {},
   "outputs": [],
   "source": [
    "c10 = 1\n",
    "c01 = 10000\n",
    "p1 = np.mean(ts_train.y)\n",
    "p0 = 1 - np.mean(ts_test.y)\n",
    "\n",
    "eta = (c10*p0)/(c01*p1)\n"
   ]
  },
  {
   "cell_type": "code",
   "execution_count": 103,
   "metadata": {},
   "outputs": [],
   "source": [
    "Lambda = clf.predict_proba (ts_test.features)"
   ]
  },
  {
   "cell_type": "code",
   "execution_count": 106,
   "metadata": {},
   "outputs": [
    {
     "data": {
      "text/plain": [
       "array([1.000e+00, 5.951e-12], dtype=float32)"
      ]
     },
     "execution_count": 106,
     "metadata": {},
     "output_type": "execute_result"
    }
   ],
   "source": [
    "Lambda[0]"
   ]
  },
  {
   "cell_type": "code",
   "execution_count": 92,
   "metadata": {},
   "outputs": [],
   "source": [
    "y_pred = (Lambda>eta)*1"
   ]
  },
  {
   "cell_type": "code",
   "execution_count": 94,
   "metadata": {},
   "outputs": [
    {
     "data": {
      "text/plain": [
       "(925, 2)"
      ]
     },
     "execution_count": 94,
     "metadata": {},
     "output_type": "execute_result"
    }
   ],
   "source": [
    "y_pred.shape\n",
    "\n"
   ]
  },
  {
   "cell_type": "code",
   "execution_count": 57,
   "metadata": {},
   "outputs": [
    {
     "data": {
      "text/plain": [
       "array([0, 1])"
      ]
     },
     "execution_count": 57,
     "metadata": {},
     "output_type": "execute_result"
    }
   ],
   "source": [
    "np.unique(y_pred)"
   ]
  },
  {
   "cell_type": "code",
   "execution_count": 84,
   "metadata": {},
   "outputs": [
    {
     "ename": "IndexError",
     "evalue": "too many indices for array: array is 2-dimensional, but 3 were indexed",
     "output_type": "error",
     "traceback": [
      "\u001b[0;31m---------------------------------------------------------------------------\u001b[0m",
      "\u001b[0;31mIndexError\u001b[0m                                Traceback (most recent call last)",
      "\u001b[0;32m/tmp/ipykernel_15037/3027132506.py\u001b[0m in \u001b[0;36m<module>\u001b[0;34m\u001b[0m\n\u001b[0;32m----> 1\u001b[0;31m \u001b[0msns\u001b[0m\u001b[0;34m.\u001b[0m\u001b[0mscatterplot\u001b[0m\u001b[0;34m(\u001b[0m\u001b[0mtest_proj\u001b[0m\u001b[0;34m[\u001b[0m\u001b[0my_pred\u001b[0m\u001b[0;34m==\u001b[0m\u001b[0;36m0\u001b[0m\u001b[0;34m,\u001b[0m\u001b[0;36m0\u001b[0m\u001b[0;34m]\u001b[0m\u001b[0;34m,\u001b[0m \u001b[0mtest_proj\u001b[0m\u001b[0;34m[\u001b[0m\u001b[0my_pred\u001b[0m\u001b[0;34m==\u001b[0m\u001b[0;36m0\u001b[0m\u001b[0;34m,\u001b[0m\u001b[0;36m1\u001b[0m\u001b[0;34m]\u001b[0m\u001b[0;34m)\u001b[0m\u001b[0;34m\u001b[0m\u001b[0;34m\u001b[0m\u001b[0m\n\u001b[0m\u001b[1;32m      2\u001b[0m \u001b[0msns\u001b[0m\u001b[0;34m.\u001b[0m\u001b[0mscatterplot\u001b[0m\u001b[0;34m(\u001b[0m\u001b[0mtest_proj\u001b[0m\u001b[0;34m[\u001b[0m\u001b[0my_pred\u001b[0m\u001b[0;34m==\u001b[0m\u001b[0;36m1\u001b[0m\u001b[0;34m,\u001b[0m\u001b[0;36m0\u001b[0m\u001b[0;34m]\u001b[0m\u001b[0;34m,\u001b[0m \u001b[0mtest_proj\u001b[0m\u001b[0;34m[\u001b[0m\u001b[0my_pred\u001b[0m\u001b[0;34m==\u001b[0m\u001b[0;36m1\u001b[0m\u001b[0;34m,\u001b[0m\u001b[0;36m1\u001b[0m\u001b[0;34m]\u001b[0m\u001b[0;34m)\u001b[0m\u001b[0;34m\u001b[0m\u001b[0;34m\u001b[0m\u001b[0m\n",
      "\u001b[0;31mIndexError\u001b[0m: too many indices for array: array is 2-dimensional, but 3 were indexed"
     ]
    }
   ],
   "source": [
    "sns.scatterplot(test_proj[y_pred==0,0], test_proj[y_pred==0,1])\n",
    "sns.scatterplot(test_proj[y_pred==1,0], test_proj[y_pred==1,1])"
   ]
  },
  {
   "cell_type": "code",
   "execution_count": 76,
   "metadata": {},
   "outputs": [
    {
     "data": {
      "text/plain": [
       "(925, 2)"
      ]
     },
     "execution_count": 76,
     "metadata": {},
     "output_type": "execute_result"
    }
   ],
   "source": [
    "test_proj.shape\n",
    "y_pred.shape"
   ]
  },
  {
   "cell_type": "code",
   "execution_count": 77,
   "metadata": {},
   "outputs": [
    {
     "ename": "IndexError",
     "evalue": "too many indices for array: array is 2-dimensional, but 3 were indexed",
     "output_type": "error",
     "traceback": [
      "\u001b[0;31m---------------------------------------------------------------------------\u001b[0m",
      "\u001b[0;31mIndexError\u001b[0m                                Traceback (most recent call last)",
      "\u001b[0;32m/tmp/ipykernel_15037/2958835681.py\u001b[0m in \u001b[0;36m<module>\u001b[0;34m\u001b[0m\n\u001b[0;32m----> 1\u001b[0;31m \u001b[0mtest_proj\u001b[0m\u001b[0;34m[\u001b[0m\u001b[0my_pred\u001b[0m\u001b[0;34m==\u001b[0m\u001b[0;36m0\u001b[0m\u001b[0;34m,\u001b[0m\u001b[0;36m0\u001b[0m\u001b[0;34m]\u001b[0m\u001b[0;34m.\u001b[0m\u001b[0mshape\u001b[0m\u001b[0;34m\u001b[0m\u001b[0;34m\u001b[0m\u001b[0m\n\u001b[0m",
      "\u001b[0;31mIndexError\u001b[0m: too many indices for array: array is 2-dimensional, but 3 were indexed"
     ]
    }
   ],
   "source": [
    "test_proj[y_pred==0,0].shape"
   ]
  },
  {
   "cell_type": "code",
   "execution_count": 85,
   "metadata": {},
   "outputs": [
    {
     "data": {
      "text/plain": [
       "array([ -5.189,  12.598,  -6.949,  -6.772,  -6.594, -17.918,  -7.663,\n",
       "         7.432,   2.182,  11.751,  14.051,  14.71 ,  -8.42 , -20.777,\n",
       "        12.409,  -1.128,   5.56 ,  -8.62 ,  12.728,  -2.338,  -3.815,\n",
       "        -6.017,   8.511,   0.241,   5.562,  -5.274,   6.771,  11.184,\n",
       "         1.821,  -7.872,  24.715,  11.929,  14.155,  -9.803, -23.734,\n",
       "        18.944,   3.777,  -9.767,   6.032,  16.761,  -1.158, -16.902,\n",
       "        12.37 ,   2.936,  -3.586, -16.988, -18.349,  -3.596,   7.391,\n",
       "         7.159,  -7.403,  -8.566,  -0.138,   6.476,  -7.732,  -7.059,\n",
       "        -7.331,  -6.986,  12.097,  -3.524,   8.043,   7.217,  -5.796,\n",
       "         7.715,   1.293,  -7.194,   6.953,  -0.287,   7.523,  -2.466,\n",
       "        12.839,   1.572,  13.218,  -9.679,  -0.429,   2.071,   6.838,\n",
       "        -7.137,  -9.444,  -7.048,  -7.145,  11.583,  -6.204, -18.984,\n",
       "        -9.594,  10.022, -19.556, -18.15 ,  14.769, -18.353,  -9.498,\n",
       "        24.065,  -7.038, -18.421,   9.164,  -5.923,  11.709,  13.87 ,\n",
       "        -8.578,  -2.375,  -2.131,   7.199,  -3.898,   0.919,   1.934,\n",
       "        -4.014,   8.116,  -3.569,  -3.365,  -5.071,  -3.531,   5.512,\n",
       "         7.179,  -5.866,   3.481,   0.089,   1.985,   0.809,  -5.451,\n",
       "         7.703,  12.391,  -8.218,   5.376,  14.111,  -8.5  , -20.56 ,\n",
       "        12.487,  12.83 ,  -8.028,   1.088,  -3.903,   9.836, -20.82 ,\n",
       "       -13.426, -17.744,  13.787,  -4.339, -18.361, -18.217,  -7.022,\n",
       "        17.403,   7.74 , -18.554, -17.64 ,  -4.336, -14.074,  17.024,\n",
       "        18.423,   5.763,  16.186,   7.894,  16.246,   5.998,  -0.652,\n",
       "        -0.766,  19.091,   2.731,  -3.681,  14.454,  12.281,  -7.747,\n",
       "         7.483,  -2.159,  -3.883,  -5.844,   7.279,   2.169,  -5.091,\n",
       "         6.817,  11.502,  11.643,  -6.019,   8.012,   5.672,  10.058,\n",
       "        -7.841,  11.523,   0.591, -18.582,  -7.764,  18.479,   7.527,\n",
       "        -6.682,  -8.472,  11.558, -16.739,  -7.636,   3.854,  -8.387,\n",
       "        13.048,  -7.447,  12.545,  -0.363,  -8.381,  -4.772,   8.095,\n",
       "        12.609,  12.148,  -7.893,  -7.731,  11.193,  11.877,  12.624,\n",
       "        -8.797,  -9.059,  -8.082,  -7.854,   7.56 ,   8.032, -18.224,\n",
       "       -18.991,  14.789,  -7.193,  -6.877,  -3.5  ,   7.396,  -6.476,\n",
       "        -3.213,   4.845,   1.528,  -6.262,  -7.378,  -6.303,   6.862,\n",
       "         7.495,  -4.151,   7.955,  14.226,  12.079,  14.625,  -5.849,\n",
       "        13.583,  -3.889,  -6.507,  -3.158,  10.56 , -19.872,  11.851,\n",
       "        12.148,  24.702,   7.438,   9.907,  -6.704,   2.088,  -6.431,\n",
       "        -3.428,  -5.414,  -6.24 ,   4.585,  -2.345,   4.35 ,   1.832,\n",
       "       -19.209,  -5.799,   9.84 ,  -6.868,  12.621,  12.404,  11.443,\n",
       "        12.341,   0.562,  11.595,  -2.693,   0.682,  -6.749,  -5.958,\n",
       "         7.551,  -4.086,   7.388,  -3.861,  -7.423,  -5.132,  -6.2  ,\n",
       "         7.525,  -4.791,   6.789,  13.429,  -5.312, -19.465,  11.254,\n",
       "        12.919,  -6.192,  -7.897,  13.221,  13.408,  12.856,  -7.753,\n",
       "        -6.781,  -5.836,  13.185,  13.534,  -8.53 ,  12.569,  -7.645,\n",
       "        -9.675,  -8.392,  -7.137,  -9.547,   1.898,  -2.951,  -0.739,\n",
       "         7.776,   7.524,  -5.863,  -5.86 ,   2.181,  -3.058,   8.246,\n",
       "         5.835,  -0.664,  12.105,  11.16 ,  -5.195,  -0.179,  -5.753,\n",
       "         4.354,  -4.816,  -9.773,  -6.422,  -7.461,   7.569,  -6.834,\n",
       "        -6.458,  -6.39 ,   5.401,   1.997,  -5.59 ,  -3.656,  -6.006,\n",
       "        -7.701,  -0.404,   2.292,   5.183,   0.581,  11.543,   6.622,\n",
       "        -3.438,  -5.853,   0.1  ,  -5.694,   7.975,   7.494,  11.575,\n",
       "         8.262,  10.484,  -8.908,  -7.755,  14.324,  -8.23 , -19.778,\n",
       "        -7.41 ,  11.171,   1.315,   7.435,  -6.322,   8.79 ,  -7.714,\n",
       "       -19.573,   5.895,  -6.218,  11.593,  -5.915,   5.675,  -7.932,\n",
       "         9.841,  -9.433,  -6.399,  14.054,  -7.093,  -9.823,   7.662,\n",
       "        -8.312,   2.029,  -6.979,   8.012,  -3.399,  10.013,  -1.966,\n",
       "         6.069,  12.206,  -6.836, -20.842,  -3.211,  12.289,  11.567,\n",
       "         0.507,   7.077,  -0.178,   5.099,  -3.689,  -6.013,  -6.438,\n",
       "         9.918,  -5.298,  -4.139,  13.084,   7.975,  -5.987, -19.009,\n",
       "       -18.994,   1.065,  -0.118,  -2.126,  11.646,   7.486,  -6.79 ,\n",
       "        -5.92 ,   5.275, -19.333,  -7.964,  -8.536,   8.895,  -7.425,\n",
       "        -7.704, -20.876,   3.843,  -7.375,  -8.154,  -2.9  ,   7.358,\n",
       "        -5.845,  -7.253,  -5.838,  -6.97 ,  -6.147,   7.452,   7.274,\n",
       "        -5.783,  -7.626,   8.523,  -2.287,  13.186,   7.08 ,  13.098,\n",
       "        10.963,  14.057,  -7.778,  -6.721,  -7.631,   7.672, -19.547,\n",
       "        11.084,  -6.675,   7.562,  -7.878,  11.281,   9.914,  11.403,\n",
       "        -6.401,  12.45 ,  -2.648,   9.234,  -0.559,   7.056,   5.199,\n",
       "        -3.906,   0.824,   6.402,  -4.093,   7.347,  12.445,  -7.253,\n",
       "         5.894,  -5.456,   3.892,   7.505,  -4.936,  -4.773,  11.97 ,\n",
       "        11.794,   0.418,  11.543,  -5.474,   2.021,   0.679,   0.952,\n",
       "         5.702,  -6.207,   7.682,  -5.98 ,   8.636,   2.114,   4.446,\n",
       "        -3.09 ,  -7.107,  -1.74 ,  14.825,  24.059,  16.591,  -5.972,\n",
       "         9.158,  10.54 ,  12.853,  14.09 ,   9.088,  -7.11 ,  -5.963,\n",
       "         7.164,   6.957,  -5.848,  -5.697,  -9.476,  -6.789,  -5.977,\n",
       "        13.865,  12.746,  11.124,  -5.095,   1.95 ,   7.865,  -7.084,\n",
       "        12.479,  11.426,   7.558,  -6.404,  -3.906,   8.695,  -5.875,\n",
       "        13.198,  11.493,  11.072,  -3.361,   2.018,  -9.498,   6.959,\n",
       "       -16.571,  13.201,   9.201,  -5.629,   5.806,  -5.054,   7.541,\n",
       "        -7.502,   4.762,  -5.285,  -4.061,   2.25 ,  -9.66 ,  12.356,\n",
       "        -5.179,  -4.122,   6.409,  -0.421,  -0.368,   8.016,  -2.903,\n",
       "        -3.937,  -0.604,  -3.983,  -9.46 ,  -5.928,  -7.906,  -5.237,\n",
       "         8.617,  -3.846,   7.128,   7.658,  -7.52 ,  -9.767,  -7.077,\n",
       "         2.596,  -2.266,   7.377,  -5.271,   6.836,   2.074,  -0.434,\n",
       "         6.984,  -3.17 ,  -6.486,   7.463,   5.616,  -5.398,   1.836,\n",
       "         7.237,   1.692,   6.225,  -5.324,   6.385,   0.885,  -4.109,\n",
       "         5.781,   6.814,  -1.601,   8.158,   7.37 ,  -8.44 ,  11.833,\n",
       "         2.007,  -7.515,   3.988,   4.643,  -3.891,  -4.794,  -5.1  ,\n",
       "        -0.062,   2.046,  13.904,  12.16 ,   1.188,  10.929,  -4.973,\n",
       "         8.105,  -5.942,  -4.196,  -5.84 ,  10.627,  -0.251,  -7.642,\n",
       "        -8.621,  -8.302,  -7.753,  -7.744,  -5.933,  12.629,  11.519,\n",
       "        -3.94 ,   9.278,  -3.916,  -7.703,  -6.671,  -6.252,   9.991,\n",
       "        -5.821,  10.84 ,  -5.708,  11.851,  -7.578,   9.63 ,  -5.71 ,\n",
       "         5.836,   8.079,   1.502,  -3.231,   8.527,  -5.695,   0.911,\n",
       "        -2.222,  -1.011,  -3.203,   8.136,   3.288,  -4.347,   5.484,\n",
       "        -6.623,   8.539,   5.297,  -2.72 ,  -3.449,   1.944,   2.361,\n",
       "         7.508,  -3.518,   5.396,  -8.522,  12.617,  12.753,  11.542,\n",
       "        11.967, -22.677,  -0.689,  -0.734,   2.154,  -7.842,   1.356,\n",
       "        -7.79 ,   9.129,   1.853,  -8.399,  14.817, -18.983,  -7.851,\n",
       "        -6.199,  -7.493,  -1.54 ,   0.581,  -3.704,   7.104,  -6.347,\n",
       "        -5.606], dtype=float32)"
      ]
     },
     "execution_count": 85,
     "metadata": {},
     "output_type": "execute_result"
    }
   ],
   "source": [
    "test_proj[y_pred==0]"
   ]
  },
  {
   "cell_type": "code",
   "execution_count": 82,
   "metadata": {},
   "outputs": [
    {
     "data": {
      "text/plain": [
       "(925, 2)"
      ]
     },
     "execution_count": 82,
     "metadata": {},
     "output_type": "execute_result"
    }
   ],
   "source": [
    "test_proj.shape"
   ]
  },
  {
   "cell_type": "code",
   "execution_count": 83,
   "metadata": {},
   "outputs": [
    {
     "data": {
      "text/plain": [
       "array([[False, False],\n",
       "       [False,  True],\n",
       "       [False,  True],\n",
       "       ...,\n",
       "       [False,  True],\n",
       "       [False, False],\n",
       "       [False,  True]])"
      ]
     },
     "execution_count": 83,
     "metadata": {},
     "output_type": "execute_result"
    }
   ],
   "source": [
    "y_pred==0"
   ]
  },
  {
   "cell_type": "code",
   "execution_count": 86,
   "metadata": {},
   "outputs": [
    {
     "data": {
      "text/plain": [
       "(925, 2)"
      ]
     },
     "execution_count": 86,
     "metadata": {},
     "output_type": "execute_result"
    }
   ],
   "source": [
    "Lambda.shape"
   ]
  },
  {
   "cell_type": "code",
   "execution_count": null,
   "metadata": {},
   "outputs": [],
   "source": []
  }
 ],
 "metadata": {
  "kernelspec": {
   "display_name": "Python 3.7.10 ('rapidsml')",
   "language": "python",
   "name": "python3"
  },
  "language_info": {
   "codemirror_mode": {
    "name": "ipython",
    "version": 3
   },
   "file_extension": ".py",
   "mimetype": "text/x-python",
   "name": "python",
   "nbconvert_exporter": "python",
   "pygments_lexer": "ipython3",
   "version": "3.7.10"
  },
  "orig_nbformat": 4,
  "vscode": {
   "interpreter": {
    "hash": "4f51f79755ef8f79693022c2238daee50231b90d0a3e393b6e63d90a9477d06f"
   }
  }
 },
 "nbformat": 4,
 "nbformat_minor": 2
}
