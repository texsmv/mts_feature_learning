{
 "cells": [
  {
   "cell_type": "code",
   "execution_count": 20,
   "metadata": {},
   "outputs": [
    {
     "name": "stdout",
     "output_type": "stream",
     "text": [
      "The autoreload extension is already loaded. To reload it, use:\n",
      "  %reload_ext autoreload\n"
     ]
    }
   ],
   "source": [
    "%load_ext autoreload\n",
    "%autoreload 2\n",
    "import numpy as np\n",
    "from source.read_HAR_dataset import DatasetHARUML20\n",
    "from source.read_pamap2 import DatasetPAMAP2\n",
    "from source.tserie import TSerie\n",
    "from source.models.manifold.umap_fl import UMAP_FL\n",
    "from sklearn import metrics\n",
    "from xgboost import XGBClassifier\n",
    "from source.utils import MetricsSaver, saveConfusionMatrix\n",
    "from sklearn.metrics import confusion_matrix"
   ]
  },
  {
   "cell_type": "code",
   "execution_count": 13,
   "metadata": {},
   "outputs": [],
   "source": [
    "# dataset = DatasetHARUML20(mode = 'leave-one-subject')\n",
    "dataset = DatasetPAMAP2(mode = 'leave-one-subject', signals=['handAcc16_1', 'handAcc16_2', 'handAcc16_3', 'handGyro1', 'handGyro2', 'handGyro3'])\n",
    "\n",
    "saver = MetricsSaver('PAMAP2', rows = ['train', 'test'], cols=['F1-score', 'Balanced Accuracy', 'Accuracy'])"
   ]
  },
  {
   "cell_type": "code",
   "execution_count": 3,
   "metadata": {},
   "outputs": [
    {
     "name": "stderr",
     "output_type": "stream",
     "text": [
      "/home/texs/anaconda3/envs/rapidsml/lib/python3.7/site-packages/sklearn/metrics/_classification.py:1987: UserWarning: y_pred contains classes not in y_true\n",
      "  warnings.warn(\"y_pred contains classes not in y_true\")\n",
      "/home/texs/anaconda3/envs/rapidsml/lib/python3.7/site-packages/sklearn/metrics/_classification.py:1987: UserWarning: y_pred contains classes not in y_true\n",
      "  warnings.warn(\"y_pred contains classes not in y_true\")\n"
     ]
    }
   ],
   "source": [
    "predicted_classes = []\n",
    "real_classes = []\n",
    "while dataset.loadData():\n",
    "    \n",
    "    # Preparing data\n",
    "    ts_train = TSerie(dataset.X_train, dataset.Int_train)\n",
    "    ts_test = TSerie(dataset.X_test, dataset.Int_test)\n",
    "    ts_train.center()\n",
    "    ts_test.center()\n",
    "    ts_train.folding_features_v2()\n",
    "    ts_test.folding_features_v2()\n",
    "    \n",
    "    \n",
    "    # Getting features\n",
    "    model = UMAP_FL(n_components=32,n_neighbors=15, n_epochs=1000)\n",
    "    ts_train.features = model.fit_transform(ts_train.features, y=ts_train.y)\n",
    "    ts_test.features = model.transform(ts_test.features)\n",
    "    \n",
    "    \n",
    "    # Classifying\n",
    "    clf = XGBClassifier(tree_method='gpu_hist', predictor='gpu_predictor')\n",
    "    clf.fit(ts_train.features, ts_train.y)\n",
    "    train_pr = clf.predict(ts_train.features)\n",
    "    test_pr = clf.predict(ts_test.features)\n",
    "    predicted_classes.append(test_pr)\n",
    "    real_classes.append(ts_test.y)\n",
    "\n",
    "\n",
    "    # Save metrics\n",
    "    train_f1 = metrics.f1_score(ts_train.y, train_pr, average='weighted')\n",
    "    test_f1 = metrics.f1_score(ts_test.y, test_pr, average='weighted')\n",
    "    train_bacc = metrics.balanced_accuracy_score(ts_train.y, train_pr)\n",
    "    test_bacc = metrics.balanced_accuracy_score(ts_test.y, test_pr)\n",
    "    train_acc = metrics.accuracy_score(ts_train.y, train_pr)\n",
    "    test_acc = metrics.accuracy_score(ts_test.y, test_pr)\n",
    "    \n",
    "    saver.addLog('train', 'F1-score', train_f1)\n",
    "    saver.addLog('test', 'F1-score', test_f1)\n",
    "    saver.addLog('train', 'Balanced Accuracy', train_bacc)\n",
    "    saver.addLog('test', 'Balanced Accuracy', test_bacc)\n",
    "    saver.addLog('train', 'Accuracy', train_acc)\n",
    "    saver.addLog('test', 'Accuracy', test_acc)\n",
    "    \n",
    "predicted_classes = np.concatenate(predicted_classes, axis = 0)\n",
    "real_classes = np.concatenate(real_classes, axis = 0)"
   ]
  },
  {
   "cell_type": "code",
   "execution_count": 18,
   "metadata": {},
   "outputs": [
    {
     "ename": "NameError",
     "evalue": "name 'saveConfusionMatrix' is not defined",
     "output_type": "error",
     "traceback": [
      "\u001b[0;31m---------------------------------------------------------------------------\u001b[0m",
      "\u001b[0;31mNameError\u001b[0m                                 Traceback (most recent call last)",
      "\u001b[0;32m/tmp/ipykernel_5412/2617314740.py\u001b[0m in \u001b[0;36m<module>\u001b[0;34m\u001b[0m\n\u001b[1;32m      5\u001b[0m \u001b[0;31m# disp.plot()\u001b[0m\u001b[0;34m\u001b[0m\u001b[0;34m\u001b[0m\u001b[0;34m\u001b[0m\u001b[0m\n\u001b[1;32m      6\u001b[0m \u001b[0;34m\u001b[0m\u001b[0m\n\u001b[0;32m----> 7\u001b[0;31m \u001b[0msaveConfusionMatrix\u001b[0m\u001b[0;34m(\u001b[0m\u001b[0mreal_classes\u001b[0m\u001b[0;34m,\u001b[0m \u001b[0mpredicted_classes\u001b[0m\u001b[0;34m)\u001b[0m\u001b[0;34m\u001b[0m\u001b[0;34m\u001b[0m\u001b[0m\n\u001b[0m",
      "\u001b[0;31mNameError\u001b[0m: name 'saveConfusionMatrix' is not defined"
     ]
    }
   ],
   "source": [
    "# from sklearn.metrics import confusion_matrix, ConfusionMatrixDisplay\n",
    "\n",
    "# cm = confusion_matrix(real_classes, predicted_classes)\n",
    "# disp = ConfusionMatrixDisplay(confusion_matrix=cm, ) # display_labels= activities[2:]\n",
    "# disp.plot()\n",
    "\n",
    "saveConfusionMatrix(real_classes, predicted_classes)"
   ]
  },
  {
   "cell_type": "code",
   "execution_count": 16,
   "metadata": {},
   "outputs": [
    {
     "data": {
      "image/png": "[encoded data removed]",
      "text/plain": [
       "<Figure size 432x288 with 1 Axes>"
      ]
     },
     "metadata": {},
     "output_type": "display_data"
    }
   ],
   "source": [
    "saver.toImage()"
   ]
  },
  {
   "cell_type": "code",
   "execution_count": 4,
   "metadata": {},
   "outputs": [
    {
     "name": "stderr",
     "output_type": "stream",
     "text": [
      "/home/texs/anaconda3/envs/rapidsml/lib/python3.7/site-packages/sklearn/preprocessing/_label.py:115: DataConversionWarning: A column-vector y was passed when a 1d array was expected. Please change the shape of y to (n_samples, ), for example using ravel().\n",
      "  y = column_or_1d(y, warn=True)\n",
      "/home/texs/anaconda3/envs/rapidsml/lib/python3.7/site-packages/sklearn/preprocessing/_label.py:133: DataConversionWarning: A column-vector y was passed when a 1d array was expected. Please change the shape of y to (n_samples, ), for example using ravel().\n",
      "  y = column_or_1d(y, warn=True)\n"
     ]
    }
   ],
   "source": [
    "# from sklearn.preprocessing import LabelEncoder\n",
    "\n",
    "# le = LabelEncoder()\n",
    "# dataset.y_train = le.fit_transform(dataset.y_train)\n",
    "# dataset.y_test = le.transform(dataset.y_test)\n"
   ]
  },
  {
   "cell_type": "code",
   "execution_count": 8,
   "metadata": {},
   "outputs": [],
   "source": []
  },
  {
   "cell_type": "code",
   "execution_count": 9,
   "metadata": {},
   "outputs": [
    {
     "data": {
      "text/plain": [
       "{'train': {'F1-score': [1.0], 'Balanced Accuracy': [1.0]},\n",
       " 'test': {'F1-score': [0.6993691019633683],\n",
       "  'Balanced Accuracy': [0.7219047619047618]}}"
      ]
     },
     "execution_count": 9,
     "metadata": {},
     "output_type": "execute_result"
    }
   ],
   "source": [
    "saver.logs"
   ]
  },
  {
   "cell_type": "code",
   "execution_count": 15,
   "metadata": {},
   "outputs": [
    {
     "data": {
      "text/plain": [
       "<matplotlib.collections.PathCollection at 0x7f8af37a5d50>"
      ]
     },
     "execution_count": 15,
     "metadata": {},
     "output_type": "execute_result"
    },
    {
     "data": {
      "image/png": "[encoded data removed]",
      "text/plain": [
       "<Figure size 432x288 with 1 Axes>"
      ]
     },
     "metadata": {
      "needs_background": "light"
     },
     "output_type": "display_data"
    }
   ],
   "source": [
    "import matplotlib.pyplot as plt\n",
    "\n",
    "plt.scatter(ts_train.features[:,0], ts_train.features[:,1], c=ts_train.y)\n",
    "\n"
   ]
  },
  {
   "cell_type": "code",
   "execution_count": 16,
   "metadata": {},
   "outputs": [
    {
     "data": {
      "text/plain": [
       "<matplotlib.collections.PathCollection at 0x7f8af374c290>"
      ]
     },
     "execution_count": 16,
     "metadata": {},
     "output_type": "execute_result"
    },
    {
     "data": {
      "image/png": "[encoded data removed]",
      "text/plain": [
       "<Figure size 432x288 with 1 Axes>"
      ]
     },
     "metadata": {
      "needs_background": "light"
     },
     "output_type": "display_data"
    }
   ],
   "source": [
    "plt.scatter(ts_test.features[:,0], ts_test.features[:,1], c=ts_test.y)"
   ]
  },
  {
   "cell_type": "code",
   "execution_count": 11,
   "metadata": {},
   "outputs": [
    {
     "data": {
      "text/plain": [
       "array([ 1,  2,  3,  4,  5,  6,  7, 12, 13, 16, 17, 24], dtype=int32)"
      ]
     },
     "execution_count": 11,
     "metadata": {},
     "output_type": "execute_result"
    }
   ],
   "source": [
    "np.unique(ts_train.y)"
   ]
  },
  {
   "cell_type": "code",
   "execution_count": null,
   "metadata": {},
   "outputs": [],
   "source": []
  }
 ],
 "metadata": {
  "kernelspec": {
   "display_name": "Python 3.7.10 ('rapidsml')",
   "language": "python",
   "name": "python3"
  },
  "language_info": {
   "codemirror_mode": {
    "name": "ipython",
    "version": 3
   },
   "file_extension": ".py",
   "mimetype": "text/x-python",
   "name": "python",
   "nbconvert_exporter": "python",
   "pygments_lexer": "ipython3",
   "version": "3.7.10"
  },
  "orig_nbformat": 4,
  "vscode": {
   "interpreter": {
    "hash": "4f51f79755ef8f79693022c2238daee50231b90d0a3e393b6e63d90a9477d06f"
   }
  }
 },
 "nbformat": 4,
 "nbformat_minor": 2
}
